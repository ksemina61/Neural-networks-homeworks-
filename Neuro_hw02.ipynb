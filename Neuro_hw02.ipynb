{
  "cells": [
    {
      "cell_type": "markdown",
      "metadata": {
        "id": "Q_upCOEI3Upu"
      },
      "source": [
        "### О задании\n",
        "\n",
        "В этом задании вам предстоит предсказывать год выпуска песни (**задача регрессии**) по некоторым звуковым признакам: [данные](https://archive.ics.uci.edu/ml/datasets/yearpredictionmsd). В ячейках ниже находится код для загрузки данных. Обратите внимание, что обучающая и тестовая выборки располагаются в одном файле, поэтому НЕ меняйте ячейку, в которой производится деление данных."
      ]
    },
    {
      "cell_type": "code",
      "execution_count": null,
      "metadata": {
        "id": "RI_eoe063VaP"
      },
      "outputs": [],
      "source": [
        "import random\n",
        "\n",
        "import numpy as np\n",
        "import pandas as pd\n",
        "import torch\n",
        "from torch import nn"
      ]
    },
    {
      "cell_type": "code",
      "execution_count": null,
      "metadata": {
        "id": "o11dXT0p1Wh-"
      },
      "outputs": [],
      "source": [
        "# %conda install wget"
      ]
    },
    {
      "cell_type": "code",
      "execution_count": null,
      "metadata": {
        "id": "7NgSZeU-7vgj",
        "colab": {
          "base_uri": "https://localhost:8080/"
        },
        "outputId": "311cdc12-c0d6-4ff6-b9fb-ad15af028fc5"
      },
      "outputs": [
        {
          "output_type": "stream",
          "name": "stdout",
          "text": [
            "--2025-01-01 12:04:17--  https://archive.ics.uci.edu/ml/machine-learning-databases/00203/YearPredictionMSD.txt.zip\n",
            "Resolving archive.ics.uci.edu (archive.ics.uci.edu)... 128.195.10.252\n",
            "Connecting to archive.ics.uci.edu (archive.ics.uci.edu)|128.195.10.252|:443... connected.\n",
            "HTTP request sent, awaiting response... 200 OK\n",
            "Length: unspecified\n",
            "Saving to: ‘data.txt.zip’\n",
            "\n",
            "data.txt.zip            [      <=>           ] 201.24M  37.5MB/s    in 5.6s    \n",
            "\n",
            "2025-01-01 12:04:23 (35.9 MB/s) - ‘data.txt.zip’ saved [211011981]\n",
            "\n"
          ]
        }
      ],
      "source": [
        "!wget -O data.txt.zip https://archive.ics.uci.edu/ml/machine-learning-databases/00203/YearPredictionMSD.txt.zip"
      ]
    },
    {
      "cell_type": "code",
      "execution_count": null,
      "metadata": {
        "id": "DSVJZzkJ7zZE",
        "colab": {
          "base_uri": "https://localhost:8080/",
          "height": 255
        },
        "outputId": "da118993-81e3-4177-d133-9e5a9becaf7c"
      },
      "outputs": [
        {
          "output_type": "execute_result",
          "data": {
            "text/plain": [
              "     0         1         2         3         4         5         6         7   \\\n",
              "0  2001  49.94357  21.47114  73.07750   8.74861 -17.40628 -13.09905 -25.01202   \n",
              "1  2001  48.73215  18.42930  70.32679  12.94636 -10.32437 -24.83777   8.76630   \n",
              "2  2001  50.95714  31.85602  55.81851  13.41693  -6.57898 -18.54940  -3.27872   \n",
              "3  2001  48.24750  -1.89837  36.29772   2.58776   0.97170 -26.21683   5.05097   \n",
              "4  2001  50.97020  42.20998  67.09964   8.46791 -15.85279 -16.81409 -12.48207   \n",
              "\n",
              "         8         9   ...        81         82        83        84        85  \\\n",
              "0 -12.23257   7.83089  ...  13.01620  -54.40548  58.99367  15.37344   1.11144   \n",
              "1  -0.92019  18.76548  ...   5.66812  -19.68073  33.04964  42.87836  -9.90378   \n",
              "2  -2.35035  16.07017  ...   3.03800   26.05866 -50.92779  10.93792  -0.07568   \n",
              "3 -10.34124   3.55005  ...  34.57337 -171.70734 -16.96705 -46.67617 -12.51516   \n",
              "4  -9.37636  12.63699  ...   9.92661  -55.95724  64.92712 -17.72522  -1.49237   \n",
              "\n",
              "         86         87        88         89        90  \n",
              "0 -23.08793   68.40795  -1.82223  -27.46348   2.26327  \n",
              "1 -32.22788   70.49388  12.04941   58.43453  26.92061  \n",
              "2  43.20130 -115.00698  -0.05859   39.67068  -0.66345  \n",
              "3  82.58061  -72.08993   9.90558  199.62971  18.85382  \n",
              "4  -7.50035   51.76631   7.88713   55.66926  28.74903  \n",
              "\n",
              "[5 rows x 91 columns]"
            ],
            "text/html": [
              "\n",
              "  <div id=\"df-6e417483-7516-4dea-a768-0ed61bf3f496\" class=\"colab-df-container\">\n",
              "    <div>\n",
              "<style scoped>\n",
              "    .dataframe tbody tr th:only-of-type {\n",
              "        vertical-align: middle;\n",
              "    }\n",
              "\n",
              "    .dataframe tbody tr th {\n",
              "        vertical-align: top;\n",
              "    }\n",
              "\n",
              "    .dataframe thead th {\n",
              "        text-align: right;\n",
              "    }\n",
              "</style>\n",
              "<table border=\"1\" class=\"dataframe\">\n",
              "  <thead>\n",
              "    <tr style=\"text-align: right;\">\n",
              "      <th></th>\n",
              "      <th>0</th>\n",
              "      <th>1</th>\n",
              "      <th>2</th>\n",
              "      <th>3</th>\n",
              "      <th>4</th>\n",
              "      <th>5</th>\n",
              "      <th>6</th>\n",
              "      <th>7</th>\n",
              "      <th>8</th>\n",
              "      <th>9</th>\n",
              "      <th>...</th>\n",
              "      <th>81</th>\n",
              "      <th>82</th>\n",
              "      <th>83</th>\n",
              "      <th>84</th>\n",
              "      <th>85</th>\n",
              "      <th>86</th>\n",
              "      <th>87</th>\n",
              "      <th>88</th>\n",
              "      <th>89</th>\n",
              "      <th>90</th>\n",
              "    </tr>\n",
              "  </thead>\n",
              "  <tbody>\n",
              "    <tr>\n",
              "      <th>0</th>\n",
              "      <td>2001</td>\n",
              "      <td>49.94357</td>\n",
              "      <td>21.47114</td>\n",
              "      <td>73.07750</td>\n",
              "      <td>8.74861</td>\n",
              "      <td>-17.40628</td>\n",
              "      <td>-13.09905</td>\n",
              "      <td>-25.01202</td>\n",
              "      <td>-12.23257</td>\n",
              "      <td>7.83089</td>\n",
              "      <td>...</td>\n",
              "      <td>13.01620</td>\n",
              "      <td>-54.40548</td>\n",
              "      <td>58.99367</td>\n",
              "      <td>15.37344</td>\n",
              "      <td>1.11144</td>\n",
              "      <td>-23.08793</td>\n",
              "      <td>68.40795</td>\n",
              "      <td>-1.82223</td>\n",
              "      <td>-27.46348</td>\n",
              "      <td>2.26327</td>\n",
              "    </tr>\n",
              "    <tr>\n",
              "      <th>1</th>\n",
              "      <td>2001</td>\n",
              "      <td>48.73215</td>\n",
              "      <td>18.42930</td>\n",
              "      <td>70.32679</td>\n",
              "      <td>12.94636</td>\n",
              "      <td>-10.32437</td>\n",
              "      <td>-24.83777</td>\n",
              "      <td>8.76630</td>\n",
              "      <td>-0.92019</td>\n",
              "      <td>18.76548</td>\n",
              "      <td>...</td>\n",
              "      <td>5.66812</td>\n",
              "      <td>-19.68073</td>\n",
              "      <td>33.04964</td>\n",
              "      <td>42.87836</td>\n",
              "      <td>-9.90378</td>\n",
              "      <td>-32.22788</td>\n",
              "      <td>70.49388</td>\n",
              "      <td>12.04941</td>\n",
              "      <td>58.43453</td>\n",
              "      <td>26.92061</td>\n",
              "    </tr>\n",
              "    <tr>\n",
              "      <th>2</th>\n",
              "      <td>2001</td>\n",
              "      <td>50.95714</td>\n",
              "      <td>31.85602</td>\n",
              "      <td>55.81851</td>\n",
              "      <td>13.41693</td>\n",
              "      <td>-6.57898</td>\n",
              "      <td>-18.54940</td>\n",
              "      <td>-3.27872</td>\n",
              "      <td>-2.35035</td>\n",
              "      <td>16.07017</td>\n",
              "      <td>...</td>\n",
              "      <td>3.03800</td>\n",
              "      <td>26.05866</td>\n",
              "      <td>-50.92779</td>\n",
              "      <td>10.93792</td>\n",
              "      <td>-0.07568</td>\n",
              "      <td>43.20130</td>\n",
              "      <td>-115.00698</td>\n",
              "      <td>-0.05859</td>\n",
              "      <td>39.67068</td>\n",
              "      <td>-0.66345</td>\n",
              "    </tr>\n",
              "    <tr>\n",
              "      <th>3</th>\n",
              "      <td>2001</td>\n",
              "      <td>48.24750</td>\n",
              "      <td>-1.89837</td>\n",
              "      <td>36.29772</td>\n",
              "      <td>2.58776</td>\n",
              "      <td>0.97170</td>\n",
              "      <td>-26.21683</td>\n",
              "      <td>5.05097</td>\n",
              "      <td>-10.34124</td>\n",
              "      <td>3.55005</td>\n",
              "      <td>...</td>\n",
              "      <td>34.57337</td>\n",
              "      <td>-171.70734</td>\n",
              "      <td>-16.96705</td>\n",
              "      <td>-46.67617</td>\n",
              "      <td>-12.51516</td>\n",
              "      <td>82.58061</td>\n",
              "      <td>-72.08993</td>\n",
              "      <td>9.90558</td>\n",
              "      <td>199.62971</td>\n",
              "      <td>18.85382</td>\n",
              "    </tr>\n",
              "    <tr>\n",
              "      <th>4</th>\n",
              "      <td>2001</td>\n",
              "      <td>50.97020</td>\n",
              "      <td>42.20998</td>\n",
              "      <td>67.09964</td>\n",
              "      <td>8.46791</td>\n",
              "      <td>-15.85279</td>\n",
              "      <td>-16.81409</td>\n",
              "      <td>-12.48207</td>\n",
              "      <td>-9.37636</td>\n",
              "      <td>12.63699</td>\n",
              "      <td>...</td>\n",
              "      <td>9.92661</td>\n",
              "      <td>-55.95724</td>\n",
              "      <td>64.92712</td>\n",
              "      <td>-17.72522</td>\n",
              "      <td>-1.49237</td>\n",
              "      <td>-7.50035</td>\n",
              "      <td>51.76631</td>\n",
              "      <td>7.88713</td>\n",
              "      <td>55.66926</td>\n",
              "      <td>28.74903</td>\n",
              "    </tr>\n",
              "  </tbody>\n",
              "</table>\n",
              "<p>5 rows × 91 columns</p>\n",
              "</div>\n",
              "    <div class=\"colab-df-buttons\">\n",
              "\n",
              "  <div class=\"colab-df-container\">\n",
              "    <button class=\"colab-df-convert\" onclick=\"convertToInteractive('df-6e417483-7516-4dea-a768-0ed61bf3f496')\"\n",
              "            title=\"Convert this dataframe to an interactive table.\"\n",
              "            style=\"display:none;\">\n",
              "\n",
              "  <svg xmlns=\"http://www.w3.org/2000/svg\" height=\"24px\" viewBox=\"0 -960 960 960\">\n",
              "    <path d=\"M120-120v-720h720v720H120Zm60-500h600v-160H180v160Zm220 220h160v-160H400v160Zm0 220h160v-160H400v160ZM180-400h160v-160H180v160Zm440 0h160v-160H620v160ZM180-180h160v-160H180v160Zm440 0h160v-160H620v160Z\"/>\n",
              "  </svg>\n",
              "    </button>\n",
              "\n",
              "  <style>\n",
              "    .colab-df-container {\n",
              "      display:flex;\n",
              "      gap: 12px;\n",
              "    }\n",
              "\n",
              "    .colab-df-convert {\n",
              "      background-color: #E8F0FE;\n",
              "      border: none;\n",
              "      border-radius: 50%;\n",
              "      cursor: pointer;\n",
              "      display: none;\n",
              "      fill: #1967D2;\n",
              "      height: 32px;\n",
              "      padding: 0 0 0 0;\n",
              "      width: 32px;\n",
              "    }\n",
              "\n",
              "    .colab-df-convert:hover {\n",
              "      background-color: #E2EBFA;\n",
              "      box-shadow: 0px 1px 2px rgba(60, 64, 67, 0.3), 0px 1px 3px 1px rgba(60, 64, 67, 0.15);\n",
              "      fill: #174EA6;\n",
              "    }\n",
              "\n",
              "    .colab-df-buttons div {\n",
              "      margin-bottom: 4px;\n",
              "    }\n",
              "\n",
              "    [theme=dark] .colab-df-convert {\n",
              "      background-color: #3B4455;\n",
              "      fill: #D2E3FC;\n",
              "    }\n",
              "\n",
              "    [theme=dark] .colab-df-convert:hover {\n",
              "      background-color: #434B5C;\n",
              "      box-shadow: 0px 1px 3px 1px rgba(0, 0, 0, 0.15);\n",
              "      filter: drop-shadow(0px 1px 2px rgba(0, 0, 0, 0.3));\n",
              "      fill: #FFFFFF;\n",
              "    }\n",
              "  </style>\n",
              "\n",
              "    <script>\n",
              "      const buttonEl =\n",
              "        document.querySelector('#df-6e417483-7516-4dea-a768-0ed61bf3f496 button.colab-df-convert');\n",
              "      buttonEl.style.display =\n",
              "        google.colab.kernel.accessAllowed ? 'block' : 'none';\n",
              "\n",
              "      async function convertToInteractive(key) {\n",
              "        const element = document.querySelector('#df-6e417483-7516-4dea-a768-0ed61bf3f496');\n",
              "        const dataTable =\n",
              "          await google.colab.kernel.invokeFunction('convertToInteractive',\n",
              "                                                    [key], {});\n",
              "        if (!dataTable) return;\n",
              "\n",
              "        const docLinkHtml = 'Like what you see? Visit the ' +\n",
              "          '<a target=\"_blank\" href=https://colab.research.google.com/notebooks/data_table.ipynb>data table notebook</a>'\n",
              "          + ' to learn more about interactive tables.';\n",
              "        element.innerHTML = '';\n",
              "        dataTable['output_type'] = 'display_data';\n",
              "        await google.colab.output.renderOutput(dataTable, element);\n",
              "        const docLink = document.createElement('div');\n",
              "        docLink.innerHTML = docLinkHtml;\n",
              "        element.appendChild(docLink);\n",
              "      }\n",
              "    </script>\n",
              "  </div>\n",
              "\n",
              "\n",
              "<div id=\"df-98248403-f458-411c-96db-da8078b392bd\">\n",
              "  <button class=\"colab-df-quickchart\" onclick=\"quickchart('df-98248403-f458-411c-96db-da8078b392bd')\"\n",
              "            title=\"Suggest charts\"\n",
              "            style=\"display:none;\">\n",
              "\n",
              "<svg xmlns=\"http://www.w3.org/2000/svg\" height=\"24px\"viewBox=\"0 0 24 24\"\n",
              "     width=\"24px\">\n",
              "    <g>\n",
              "        <path d=\"M19 3H5c-1.1 0-2 .9-2 2v14c0 1.1.9 2 2 2h14c1.1 0 2-.9 2-2V5c0-1.1-.9-2-2-2zM9 17H7v-7h2v7zm4 0h-2V7h2v10zm4 0h-2v-4h2v4z\"/>\n",
              "    </g>\n",
              "</svg>\n",
              "  </button>\n",
              "\n",
              "<style>\n",
              "  .colab-df-quickchart {\n",
              "      --bg-color: #E8F0FE;\n",
              "      --fill-color: #1967D2;\n",
              "      --hover-bg-color: #E2EBFA;\n",
              "      --hover-fill-color: #174EA6;\n",
              "      --disabled-fill-color: #AAA;\n",
              "      --disabled-bg-color: #DDD;\n",
              "  }\n",
              "\n",
              "  [theme=dark] .colab-df-quickchart {\n",
              "      --bg-color: #3B4455;\n",
              "      --fill-color: #D2E3FC;\n",
              "      --hover-bg-color: #434B5C;\n",
              "      --hover-fill-color: #FFFFFF;\n",
              "      --disabled-bg-color: #3B4455;\n",
              "      --disabled-fill-color: #666;\n",
              "  }\n",
              "\n",
              "  .colab-df-quickchart {\n",
              "    background-color: var(--bg-color);\n",
              "    border: none;\n",
              "    border-radius: 50%;\n",
              "    cursor: pointer;\n",
              "    display: none;\n",
              "    fill: var(--fill-color);\n",
              "    height: 32px;\n",
              "    padding: 0;\n",
              "    width: 32px;\n",
              "  }\n",
              "\n",
              "  .colab-df-quickchart:hover {\n",
              "    background-color: var(--hover-bg-color);\n",
              "    box-shadow: 0 1px 2px rgba(60, 64, 67, 0.3), 0 1px 3px 1px rgba(60, 64, 67, 0.15);\n",
              "    fill: var(--button-hover-fill-color);\n",
              "  }\n",
              "\n",
              "  .colab-df-quickchart-complete:disabled,\n",
              "  .colab-df-quickchart-complete:disabled:hover {\n",
              "    background-color: var(--disabled-bg-color);\n",
              "    fill: var(--disabled-fill-color);\n",
              "    box-shadow: none;\n",
              "  }\n",
              "\n",
              "  .colab-df-spinner {\n",
              "    border: 2px solid var(--fill-color);\n",
              "    border-color: transparent;\n",
              "    border-bottom-color: var(--fill-color);\n",
              "    animation:\n",
              "      spin 1s steps(1) infinite;\n",
              "  }\n",
              "\n",
              "  @keyframes spin {\n",
              "    0% {\n",
              "      border-color: transparent;\n",
              "      border-bottom-color: var(--fill-color);\n",
              "      border-left-color: var(--fill-color);\n",
              "    }\n",
              "    20% {\n",
              "      border-color: transparent;\n",
              "      border-left-color: var(--fill-color);\n",
              "      border-top-color: var(--fill-color);\n",
              "    }\n",
              "    30% {\n",
              "      border-color: transparent;\n",
              "      border-left-color: var(--fill-color);\n",
              "      border-top-color: var(--fill-color);\n",
              "      border-right-color: var(--fill-color);\n",
              "    }\n",
              "    40% {\n",
              "      border-color: transparent;\n",
              "      border-right-color: var(--fill-color);\n",
              "      border-top-color: var(--fill-color);\n",
              "    }\n",
              "    60% {\n",
              "      border-color: transparent;\n",
              "      border-right-color: var(--fill-color);\n",
              "    }\n",
              "    80% {\n",
              "      border-color: transparent;\n",
              "      border-right-color: var(--fill-color);\n",
              "      border-bottom-color: var(--fill-color);\n",
              "    }\n",
              "    90% {\n",
              "      border-color: transparent;\n",
              "      border-bottom-color: var(--fill-color);\n",
              "    }\n",
              "  }\n",
              "</style>\n",
              "\n",
              "  <script>\n",
              "    async function quickchart(key) {\n",
              "      const quickchartButtonEl =\n",
              "        document.querySelector('#' + key + ' button');\n",
              "      quickchartButtonEl.disabled = true;  // To prevent multiple clicks.\n",
              "      quickchartButtonEl.classList.add('colab-df-spinner');\n",
              "      try {\n",
              "        const charts = await google.colab.kernel.invokeFunction(\n",
              "            'suggestCharts', [key], {});\n",
              "      } catch (error) {\n",
              "        console.error('Error during call to suggestCharts:', error);\n",
              "      }\n",
              "      quickchartButtonEl.classList.remove('colab-df-spinner');\n",
              "      quickchartButtonEl.classList.add('colab-df-quickchart-complete');\n",
              "    }\n",
              "    (() => {\n",
              "      let quickchartButtonEl =\n",
              "        document.querySelector('#df-98248403-f458-411c-96db-da8078b392bd button');\n",
              "      quickchartButtonEl.style.display =\n",
              "        google.colab.kernel.accessAllowed ? 'block' : 'none';\n",
              "    })();\n",
              "  </script>\n",
              "</div>\n",
              "    </div>\n",
              "  </div>\n"
            ],
            "application/vnd.google.colaboratory.intrinsic+json": {
              "type": "dataframe",
              "variable_name": "df"
            }
          },
          "metadata": {},
          "execution_count": 5
        }
      ],
      "source": [
        "df = pd.read_csv(\"data.txt.zip\", header=None)\n",
        "df.head()"
      ]
    },
    {
      "cell_type": "code",
      "execution_count": null,
      "metadata": {
        "id": "n4wnRJT1778j"
      },
      "outputs": [],
      "source": [
        "X = df.iloc[:, 1:].values\n",
        "y = df.iloc[:, 0].values\n",
        "\n",
        "train_size = 463715\n",
        "X_train = X[:train_size, :]\n",
        "y_train = y[:train_size]\n",
        "X_test = X[train_size:, :]\n",
        "y_test = y[train_size:]"
      ]
    },
    {
      "cell_type": "code",
      "source": [
        "df.shape"
      ],
      "metadata": {
        "colab": {
          "base_uri": "https://localhost:8080/"
        },
        "id": "3h9SKfsA2qlY",
        "outputId": "53d08c5c-524d-46c5-8e19-ab6d85404433"
      },
      "execution_count": null,
      "outputs": [
        {
          "output_type": "execute_result",
          "data": {
            "text/plain": [
              "(515345, 91)"
            ]
          },
          "metadata": {},
          "execution_count": 7
        }
      ]
    },
    {
      "cell_type": "markdown",
      "metadata": {
        "id": "_386JE_o5gOd"
      },
      "source": [
        "## Задание 0. (0 баллов, но при невыполнении максимум за все задание &mdash; 0 баллов)\n",
        "\n",
        "Мы будем использовать RMSE как метрику качества. Для самого первого бейзлайна обучите `Ridge` регрессию из `sklearn`. Кроме того, посчитайте качество при наилучшем константном прогнозе."
      ]
    },
    {
      "cell_type": "code",
      "execution_count": null,
      "metadata": {
        "id": "otwuisa56MLr"
      },
      "outputs": [],
      "source": [
        "import numpy as np\n",
        "from sklearn.linear_model import Ridge\n",
        "from sklearn.model_selection import train_test_split, GridSearchCV\n",
        "from sklearn.preprocessing import StandardScaler\n",
        "from sklearn.metrics import mean_squared_error"
      ]
    },
    {
      "cell_type": "code",
      "source": [
        "# Сначала данные нужно отмасштабировать для того, чтобы предотвратить плохую воспроизводимость модели\n",
        "scaler = StandardScaler()\n",
        "X_train_scaled = scaler.fit_transform(X_train)\n",
        "X_test_scaled = scaler.transform(X_test)"
      ],
      "metadata": {
        "id": "I-n8RILo9TXN"
      },
      "execution_count": null,
      "outputs": []
    },
    {
      "cell_type": "code",
      "source": [
        "# Определяю модель\n",
        "ridge_model = Ridge()\n",
        "# А теперь найду оптимальные параметры с помощью GridSearch\n",
        "param_grid = {\n",
        "    'alpha': [0.1, 0.5, 1.0],\n",
        "    'solver': ['auto', 'svd']\n",
        "}\n",
        "# GridSearch\n",
        "grid_search = GridSearchCV(estimator=ridge_model, param_grid=param_grid,\n",
        "                           scoring='neg_mean_squared_error', cv=4)\n",
        "grid_search.fit(X_train_scaled, y_train)\n",
        "# получение лучших параметров и наилучшей оценки\n",
        "best_params = grid_search.best_params_\n",
        "best_score = np.sqrt(-grid_search.best_score_)  # RMSE\n",
        "print(f'Лучшие параметры: {best_params}')\n",
        "print(f'Лучший RMSE (на обучающей выборке): {best_score}')"
      ],
      "metadata": {
        "colab": {
          "base_uri": "https://localhost:8080/"
        },
        "id": "P_-unsUyA85j",
        "outputId": "29ec50a3-ce45-4481-d404-2a4039a0bc13"
      },
      "execution_count": null,
      "outputs": [
        {
          "output_type": "stream",
          "name": "stdout",
          "text": [
            "Лучшие параметры: {'alpha': 1.0, 'solver': 'auto'}\n",
            "Лучший RMSE (на обучающей выборке): 9.562566213496847\n"
          ]
        }
      ]
    },
    {
      "cell_type": "code",
      "source": [
        "# обучение модели с лучшими параметрами на всем обучающем наборе\n",
        "best_ridge_model = Ridge(alpha=best_params['alpha'], solver=best_params['solver'])\n",
        "best_ridge_model.fit(X_train_scaled, y_train)\n",
        "\n",
        "# предсказания на тестовой выборке\n",
        "y_pred_best_ridge = best_ridge_model.predict(X_test_scaled)\n",
        "\n",
        "# расчет RMSE для модели с оптимальными параметрами\n",
        "rmse_best_ridge = np.sqrt(mean_squared_error(y_test, y_pred_best_ridge))\n",
        "print(f'RMSE для модели с оптимальными параметрами на тестовой выборке: {rmse_best_ridge}')"
      ],
      "metadata": {
        "colab": {
          "base_uri": "https://localhost:8080/"
        },
        "id": "mNN53jDeDRTz",
        "outputId": "178a20ad-3cca-476f-dcda-b619f0fddf98"
      },
      "execution_count": null,
      "outputs": [
        {
          "output_type": "stream",
          "name": "stdout",
          "text": [
            "RMSE для модели с оптимальными параметрами на тестовой выборке: 9.510160820470436\n"
          ]
        }
      ]
    },
    {
      "cell_type": "code",
      "source": [
        "# cреднее значение целевой переменной (или константный прогноз)\n",
        "constant_prediction = np.mean(y_train)\n",
        "y_pred_constant = np.full(y_test.shape, constant_prediction)"
      ],
      "metadata": {
        "id": "zFDYG5U1Gg3I"
      },
      "execution_count": null,
      "outputs": []
    },
    {
      "cell_type": "code",
      "source": [
        "# рассчитаю RMSE для константного проноза\n",
        "rmse_const = np.sqrt(mean_squared_error(y_test, y_pred_constant))\n",
        "print(f'RMSE для константного прогноза = {rmse_const}')"
      ],
      "metadata": {
        "colab": {
          "base_uri": "https://localhost:8080/"
        },
        "id": "ajmihkgSHJyd",
        "outputId": "181c620d-34aa-4058-ef91-2031d9a888ec"
      },
      "execution_count": null,
      "outputs": [
        {
          "output_type": "stream",
          "name": "stdout",
          "text": [
            "RMSE для константного прогноза = 10.85246390513634\n"
          ]
        }
      ]
    },
    {
      "cell_type": "markdown",
      "source": [
        "Еще один вариант"
      ],
      "metadata": {
        "id": "mhq__KMVKl4P"
      }
    },
    {
      "cell_type": "code",
      "source": [
        "df = pd.read_csv(\"data.txt.zip\", header=None)\n",
        "df.head()"
      ],
      "metadata": {
        "colab": {
          "base_uri": "https://localhost:8080/",
          "height": 255
        },
        "collapsed": true,
        "id": "BXg0vSOdLPHz",
        "outputId": "38cc7606-f30e-411d-9cca-5928e077ad71"
      },
      "execution_count": null,
      "outputs": [
        {
          "output_type": "execute_result",
          "data": {
            "text/plain": [
              "     0         1         2         3         4         5         6         7   \\\n",
              "0  2001  49.94357  21.47114  73.07750   8.74861 -17.40628 -13.09905 -25.01202   \n",
              "1  2001  48.73215  18.42930  70.32679  12.94636 -10.32437 -24.83777   8.76630   \n",
              "2  2001  50.95714  31.85602  55.81851  13.41693  -6.57898 -18.54940  -3.27872   \n",
              "3  2001  48.24750  -1.89837  36.29772   2.58776   0.97170 -26.21683   5.05097   \n",
              "4  2001  50.97020  42.20998  67.09964   8.46791 -15.85279 -16.81409 -12.48207   \n",
              "\n",
              "         8         9   ...        81         82        83        84        85  \\\n",
              "0 -12.23257   7.83089  ...  13.01620  -54.40548  58.99367  15.37344   1.11144   \n",
              "1  -0.92019  18.76548  ...   5.66812  -19.68073  33.04964  42.87836  -9.90378   \n",
              "2  -2.35035  16.07017  ...   3.03800   26.05866 -50.92779  10.93792  -0.07568   \n",
              "3 -10.34124   3.55005  ...  34.57337 -171.70734 -16.96705 -46.67617 -12.51516   \n",
              "4  -9.37636  12.63699  ...   9.92661  -55.95724  64.92712 -17.72522  -1.49237   \n",
              "\n",
              "         86         87        88         89        90  \n",
              "0 -23.08793   68.40795  -1.82223  -27.46348   2.26327  \n",
              "1 -32.22788   70.49388  12.04941   58.43453  26.92061  \n",
              "2  43.20130 -115.00698  -0.05859   39.67068  -0.66345  \n",
              "3  82.58061  -72.08993   9.90558  199.62971  18.85382  \n",
              "4  -7.50035   51.76631   7.88713   55.66926  28.74903  \n",
              "\n",
              "[5 rows x 91 columns]"
            ],
            "text/html": [
              "\n",
              "  <div id=\"df-3f1d8de9-e14a-437c-b0db-025b07f593ff\" class=\"colab-df-container\">\n",
              "    <div>\n",
              "<style scoped>\n",
              "    .dataframe tbody tr th:only-of-type {\n",
              "        vertical-align: middle;\n",
              "    }\n",
              "\n",
              "    .dataframe tbody tr th {\n",
              "        vertical-align: top;\n",
              "    }\n",
              "\n",
              "    .dataframe thead th {\n",
              "        text-align: right;\n",
              "    }\n",
              "</style>\n",
              "<table border=\"1\" class=\"dataframe\">\n",
              "  <thead>\n",
              "    <tr style=\"text-align: right;\">\n",
              "      <th></th>\n",
              "      <th>0</th>\n",
              "      <th>1</th>\n",
              "      <th>2</th>\n",
              "      <th>3</th>\n",
              "      <th>4</th>\n",
              "      <th>5</th>\n",
              "      <th>6</th>\n",
              "      <th>7</th>\n",
              "      <th>8</th>\n",
              "      <th>9</th>\n",
              "      <th>...</th>\n",
              "      <th>81</th>\n",
              "      <th>82</th>\n",
              "      <th>83</th>\n",
              "      <th>84</th>\n",
              "      <th>85</th>\n",
              "      <th>86</th>\n",
              "      <th>87</th>\n",
              "      <th>88</th>\n",
              "      <th>89</th>\n",
              "      <th>90</th>\n",
              "    </tr>\n",
              "  </thead>\n",
              "  <tbody>\n",
              "    <tr>\n",
              "      <th>0</th>\n",
              "      <td>2001</td>\n",
              "      <td>49.94357</td>\n",
              "      <td>21.47114</td>\n",
              "      <td>73.07750</td>\n",
              "      <td>8.74861</td>\n",
              "      <td>-17.40628</td>\n",
              "      <td>-13.09905</td>\n",
              "      <td>-25.01202</td>\n",
              "      <td>-12.23257</td>\n",
              "      <td>7.83089</td>\n",
              "      <td>...</td>\n",
              "      <td>13.01620</td>\n",
              "      <td>-54.40548</td>\n",
              "      <td>58.99367</td>\n",
              "      <td>15.37344</td>\n",
              "      <td>1.11144</td>\n",
              "      <td>-23.08793</td>\n",
              "      <td>68.40795</td>\n",
              "      <td>-1.82223</td>\n",
              "      <td>-27.46348</td>\n",
              "      <td>2.26327</td>\n",
              "    </tr>\n",
              "    <tr>\n",
              "      <th>1</th>\n",
              "      <td>2001</td>\n",
              "      <td>48.73215</td>\n",
              "      <td>18.42930</td>\n",
              "      <td>70.32679</td>\n",
              "      <td>12.94636</td>\n",
              "      <td>-10.32437</td>\n",
              "      <td>-24.83777</td>\n",
              "      <td>8.76630</td>\n",
              "      <td>-0.92019</td>\n",
              "      <td>18.76548</td>\n",
              "      <td>...</td>\n",
              "      <td>5.66812</td>\n",
              "      <td>-19.68073</td>\n",
              "      <td>33.04964</td>\n",
              "      <td>42.87836</td>\n",
              "      <td>-9.90378</td>\n",
              "      <td>-32.22788</td>\n",
              "      <td>70.49388</td>\n",
              "      <td>12.04941</td>\n",
              "      <td>58.43453</td>\n",
              "      <td>26.92061</td>\n",
              "    </tr>\n",
              "    <tr>\n",
              "      <th>2</th>\n",
              "      <td>2001</td>\n",
              "      <td>50.95714</td>\n",
              "      <td>31.85602</td>\n",
              "      <td>55.81851</td>\n",
              "      <td>13.41693</td>\n",
              "      <td>-6.57898</td>\n",
              "      <td>-18.54940</td>\n",
              "      <td>-3.27872</td>\n",
              "      <td>-2.35035</td>\n",
              "      <td>16.07017</td>\n",
              "      <td>...</td>\n",
              "      <td>3.03800</td>\n",
              "      <td>26.05866</td>\n",
              "      <td>-50.92779</td>\n",
              "      <td>10.93792</td>\n",
              "      <td>-0.07568</td>\n",
              "      <td>43.20130</td>\n",
              "      <td>-115.00698</td>\n",
              "      <td>-0.05859</td>\n",
              "      <td>39.67068</td>\n",
              "      <td>-0.66345</td>\n",
              "    </tr>\n",
              "    <tr>\n",
              "      <th>3</th>\n",
              "      <td>2001</td>\n",
              "      <td>48.24750</td>\n",
              "      <td>-1.89837</td>\n",
              "      <td>36.29772</td>\n",
              "      <td>2.58776</td>\n",
              "      <td>0.97170</td>\n",
              "      <td>-26.21683</td>\n",
              "      <td>5.05097</td>\n",
              "      <td>-10.34124</td>\n",
              "      <td>3.55005</td>\n",
              "      <td>...</td>\n",
              "      <td>34.57337</td>\n",
              "      <td>-171.70734</td>\n",
              "      <td>-16.96705</td>\n",
              "      <td>-46.67617</td>\n",
              "      <td>-12.51516</td>\n",
              "      <td>82.58061</td>\n",
              "      <td>-72.08993</td>\n",
              "      <td>9.90558</td>\n",
              "      <td>199.62971</td>\n",
              "      <td>18.85382</td>\n",
              "    </tr>\n",
              "    <tr>\n",
              "      <th>4</th>\n",
              "      <td>2001</td>\n",
              "      <td>50.97020</td>\n",
              "      <td>42.20998</td>\n",
              "      <td>67.09964</td>\n",
              "      <td>8.46791</td>\n",
              "      <td>-15.85279</td>\n",
              "      <td>-16.81409</td>\n",
              "      <td>-12.48207</td>\n",
              "      <td>-9.37636</td>\n",
              "      <td>12.63699</td>\n",
              "      <td>...</td>\n",
              "      <td>9.92661</td>\n",
              "      <td>-55.95724</td>\n",
              "      <td>64.92712</td>\n",
              "      <td>-17.72522</td>\n",
              "      <td>-1.49237</td>\n",
              "      <td>-7.50035</td>\n",
              "      <td>51.76631</td>\n",
              "      <td>7.88713</td>\n",
              "      <td>55.66926</td>\n",
              "      <td>28.74903</td>\n",
              "    </tr>\n",
              "  </tbody>\n",
              "</table>\n",
              "<p>5 rows × 91 columns</p>\n",
              "</div>\n",
              "    <div class=\"colab-df-buttons\">\n",
              "\n",
              "  <div class=\"colab-df-container\">\n",
              "    <button class=\"colab-df-convert\" onclick=\"convertToInteractive('df-3f1d8de9-e14a-437c-b0db-025b07f593ff')\"\n",
              "            title=\"Convert this dataframe to an interactive table.\"\n",
              "            style=\"display:none;\">\n",
              "\n",
              "  <svg xmlns=\"http://www.w3.org/2000/svg\" height=\"24px\" viewBox=\"0 -960 960 960\">\n",
              "    <path d=\"M120-120v-720h720v720H120Zm60-500h600v-160H180v160Zm220 220h160v-160H400v160Zm0 220h160v-160H400v160ZM180-400h160v-160H180v160Zm440 0h160v-160H620v160ZM180-180h160v-160H180v160Zm440 0h160v-160H620v160Z\"/>\n",
              "  </svg>\n",
              "    </button>\n",
              "\n",
              "  <style>\n",
              "    .colab-df-container {\n",
              "      display:flex;\n",
              "      gap: 12px;\n",
              "    }\n",
              "\n",
              "    .colab-df-convert {\n",
              "      background-color: #E8F0FE;\n",
              "      border: none;\n",
              "      border-radius: 50%;\n",
              "      cursor: pointer;\n",
              "      display: none;\n",
              "      fill: #1967D2;\n",
              "      height: 32px;\n",
              "      padding: 0 0 0 0;\n",
              "      width: 32px;\n",
              "    }\n",
              "\n",
              "    .colab-df-convert:hover {\n",
              "      background-color: #E2EBFA;\n",
              "      box-shadow: 0px 1px 2px rgba(60, 64, 67, 0.3), 0px 1px 3px 1px rgba(60, 64, 67, 0.15);\n",
              "      fill: #174EA6;\n",
              "    }\n",
              "\n",
              "    .colab-df-buttons div {\n",
              "      margin-bottom: 4px;\n",
              "    }\n",
              "\n",
              "    [theme=dark] .colab-df-convert {\n",
              "      background-color: #3B4455;\n",
              "      fill: #D2E3FC;\n",
              "    }\n",
              "\n",
              "    [theme=dark] .colab-df-convert:hover {\n",
              "      background-color: #434B5C;\n",
              "      box-shadow: 0px 1px 3px 1px rgba(0, 0, 0, 0.15);\n",
              "      filter: drop-shadow(0px 1px 2px rgba(0, 0, 0, 0.3));\n",
              "      fill: #FFFFFF;\n",
              "    }\n",
              "  </style>\n",
              "\n",
              "    <script>\n",
              "      const buttonEl =\n",
              "        document.querySelector('#df-3f1d8de9-e14a-437c-b0db-025b07f593ff button.colab-df-convert');\n",
              "      buttonEl.style.display =\n",
              "        google.colab.kernel.accessAllowed ? 'block' : 'none';\n",
              "\n",
              "      async function convertToInteractive(key) {\n",
              "        const element = document.querySelector('#df-3f1d8de9-e14a-437c-b0db-025b07f593ff');\n",
              "        const dataTable =\n",
              "          await google.colab.kernel.invokeFunction('convertToInteractive',\n",
              "                                                    [key], {});\n",
              "        if (!dataTable) return;\n",
              "\n",
              "        const docLinkHtml = 'Like what you see? Visit the ' +\n",
              "          '<a target=\"_blank\" href=https://colab.research.google.com/notebooks/data_table.ipynb>data table notebook</a>'\n",
              "          + ' to learn more about interactive tables.';\n",
              "        element.innerHTML = '';\n",
              "        dataTable['output_type'] = 'display_data';\n",
              "        await google.colab.output.renderOutput(dataTable, element);\n",
              "        const docLink = document.createElement('div');\n",
              "        docLink.innerHTML = docLinkHtml;\n",
              "        element.appendChild(docLink);\n",
              "      }\n",
              "    </script>\n",
              "  </div>\n",
              "\n",
              "\n",
              "<div id=\"df-4aa20374-f9fc-41dd-95c7-e606e2aaad67\">\n",
              "  <button class=\"colab-df-quickchart\" onclick=\"quickchart('df-4aa20374-f9fc-41dd-95c7-e606e2aaad67')\"\n",
              "            title=\"Suggest charts\"\n",
              "            style=\"display:none;\">\n",
              "\n",
              "<svg xmlns=\"http://www.w3.org/2000/svg\" height=\"24px\"viewBox=\"0 0 24 24\"\n",
              "     width=\"24px\">\n",
              "    <g>\n",
              "        <path d=\"M19 3H5c-1.1 0-2 .9-2 2v14c0 1.1.9 2 2 2h14c1.1 0 2-.9 2-2V5c0-1.1-.9-2-2-2zM9 17H7v-7h2v7zm4 0h-2V7h2v10zm4 0h-2v-4h2v4z\"/>\n",
              "    </g>\n",
              "</svg>\n",
              "  </button>\n",
              "\n",
              "<style>\n",
              "  .colab-df-quickchart {\n",
              "      --bg-color: #E8F0FE;\n",
              "      --fill-color: #1967D2;\n",
              "      --hover-bg-color: #E2EBFA;\n",
              "      --hover-fill-color: #174EA6;\n",
              "      --disabled-fill-color: #AAA;\n",
              "      --disabled-bg-color: #DDD;\n",
              "  }\n",
              "\n",
              "  [theme=dark] .colab-df-quickchart {\n",
              "      --bg-color: #3B4455;\n",
              "      --fill-color: #D2E3FC;\n",
              "      --hover-bg-color: #434B5C;\n",
              "      --hover-fill-color: #FFFFFF;\n",
              "      --disabled-bg-color: #3B4455;\n",
              "      --disabled-fill-color: #666;\n",
              "  }\n",
              "\n",
              "  .colab-df-quickchart {\n",
              "    background-color: var(--bg-color);\n",
              "    border: none;\n",
              "    border-radius: 50%;\n",
              "    cursor: pointer;\n",
              "    display: none;\n",
              "    fill: var(--fill-color);\n",
              "    height: 32px;\n",
              "    padding: 0;\n",
              "    width: 32px;\n",
              "  }\n",
              "\n",
              "  .colab-df-quickchart:hover {\n",
              "    background-color: var(--hover-bg-color);\n",
              "    box-shadow: 0 1px 2px rgba(60, 64, 67, 0.3), 0 1px 3px 1px rgba(60, 64, 67, 0.15);\n",
              "    fill: var(--button-hover-fill-color);\n",
              "  }\n",
              "\n",
              "  .colab-df-quickchart-complete:disabled,\n",
              "  .colab-df-quickchart-complete:disabled:hover {\n",
              "    background-color: var(--disabled-bg-color);\n",
              "    fill: var(--disabled-fill-color);\n",
              "    box-shadow: none;\n",
              "  }\n",
              "\n",
              "  .colab-df-spinner {\n",
              "    border: 2px solid var(--fill-color);\n",
              "    border-color: transparent;\n",
              "    border-bottom-color: var(--fill-color);\n",
              "    animation:\n",
              "      spin 1s steps(1) infinite;\n",
              "  }\n",
              "\n",
              "  @keyframes spin {\n",
              "    0% {\n",
              "      border-color: transparent;\n",
              "      border-bottom-color: var(--fill-color);\n",
              "      border-left-color: var(--fill-color);\n",
              "    }\n",
              "    20% {\n",
              "      border-color: transparent;\n",
              "      border-left-color: var(--fill-color);\n",
              "      border-top-color: var(--fill-color);\n",
              "    }\n",
              "    30% {\n",
              "      border-color: transparent;\n",
              "      border-left-color: var(--fill-color);\n",
              "      border-top-color: var(--fill-color);\n",
              "      border-right-color: var(--fill-color);\n",
              "    }\n",
              "    40% {\n",
              "      border-color: transparent;\n",
              "      border-right-color: var(--fill-color);\n",
              "      border-top-color: var(--fill-color);\n",
              "    }\n",
              "    60% {\n",
              "      border-color: transparent;\n",
              "      border-right-color: var(--fill-color);\n",
              "    }\n",
              "    80% {\n",
              "      border-color: transparent;\n",
              "      border-right-color: var(--fill-color);\n",
              "      border-bottom-color: var(--fill-color);\n",
              "    }\n",
              "    90% {\n",
              "      border-color: transparent;\n",
              "      border-bottom-color: var(--fill-color);\n",
              "    }\n",
              "  }\n",
              "</style>\n",
              "\n",
              "  <script>\n",
              "    async function quickchart(key) {\n",
              "      const quickchartButtonEl =\n",
              "        document.querySelector('#' + key + ' button');\n",
              "      quickchartButtonEl.disabled = true;  // To prevent multiple clicks.\n",
              "      quickchartButtonEl.classList.add('colab-df-spinner');\n",
              "      try {\n",
              "        const charts = await google.colab.kernel.invokeFunction(\n",
              "            'suggestCharts', [key], {});\n",
              "      } catch (error) {\n",
              "        console.error('Error during call to suggestCharts:', error);\n",
              "      }\n",
              "      quickchartButtonEl.classList.remove('colab-df-spinner');\n",
              "      quickchartButtonEl.classList.add('colab-df-quickchart-complete');\n",
              "    }\n",
              "    (() => {\n",
              "      let quickchartButtonEl =\n",
              "        document.querySelector('#df-4aa20374-f9fc-41dd-95c7-e606e2aaad67 button');\n",
              "      quickchartButtonEl.style.display =\n",
              "        google.colab.kernel.accessAllowed ? 'block' : 'none';\n",
              "    })();\n",
              "  </script>\n",
              "</div>\n",
              "    </div>\n",
              "  </div>\n"
            ],
            "application/vnd.google.colaboratory.intrinsic+json": {
              "type": "dataframe",
              "variable_name": "df"
            }
          },
          "metadata": {},
          "execution_count": 18
        }
      ]
    },
    {
      "cell_type": "code",
      "source": [
        "df.copy()"
      ],
      "metadata": {
        "colab": {
          "base_uri": "https://localhost:8080/",
          "height": 443
        },
        "collapsed": true,
        "id": "f6FR58fYLlty",
        "outputId": "d5220c2b-6720-4ab7-ab5f-3f13c118be72"
      },
      "execution_count": null,
      "outputs": [
        {
          "output_type": "execute_result",
          "data": {
            "text/plain": [
              "          0         1         2         3         4         5         6   \\\n",
              "0       2001  49.94357  21.47114  73.07750   8.74861 -17.40628 -13.09905   \n",
              "1       2001  48.73215  18.42930  70.32679  12.94636 -10.32437 -24.83777   \n",
              "2       2001  50.95714  31.85602  55.81851  13.41693  -6.57898 -18.54940   \n",
              "3       2001  48.24750  -1.89837  36.29772   2.58776   0.97170 -26.21683   \n",
              "4       2001  50.97020  42.20998  67.09964   8.46791 -15.85279 -16.81409   \n",
              "...      ...       ...       ...       ...       ...       ...       ...   \n",
              "515340  2006  51.28467  45.88068  22.19582  -5.53319  -3.61835 -16.36914   \n",
              "515341  2006  49.87870  37.93125  18.65987  -3.63581 -27.75665 -18.52988   \n",
              "515342  2006  45.12852  12.65758 -38.72018   8.80882 -29.29985  -2.28706   \n",
              "515343  2006  44.16614  32.38368  -3.34971  -2.49165 -19.59278 -18.67098   \n",
              "515344  2005  51.85726  59.11655  26.39436  -5.46030 -20.69012 -19.95528   \n",
              "\n",
              "              7         8         9   ...        81         82         83  \\\n",
              "0      -25.01202 -12.23257   7.83089  ...  13.01620  -54.40548   58.99367   \n",
              "1        8.76630  -0.92019  18.76548  ...   5.66812  -19.68073   33.04964   \n",
              "2       -3.27872  -2.35035  16.07017  ...   3.03800   26.05866  -50.92779   \n",
              "3        5.05097 -10.34124   3.55005  ...  34.57337 -171.70734  -16.96705   \n",
              "4      -12.48207  -9.37636  12.63699  ...   9.92661  -55.95724   64.92712   \n",
              "...          ...       ...       ...  ...       ...        ...        ...   \n",
              "515340   2.12652   5.18160  -8.66890  ...   4.81440   -3.75991  -30.92584   \n",
              "515341   7.76108   3.56109  -2.50351  ...  32.38589  -32.75535  -61.05473   \n",
              "515342 -18.40424 -22.28726  -4.52429  ... -18.73598  -71.15954 -123.98443   \n",
              "515343   8.78428   4.02039 -12.01230  ...  67.16763  282.77624   -4.63677   \n",
              "515344  -6.72771   2.29590  10.31018  ... -11.50511  -69.18291   60.58456   \n",
              "\n",
              "               84        85        86         87        88         89  \\\n",
              "0        15.37344   1.11144 -23.08793   68.40795  -1.82223  -27.46348   \n",
              "1        42.87836  -9.90378 -32.22788   70.49388  12.04941   58.43453   \n",
              "2        10.93792  -0.07568  43.20130 -115.00698  -0.05859   39.67068   \n",
              "3       -46.67617 -12.51516  82.58061  -72.08993   9.90558  199.62971   \n",
              "4       -17.72522  -1.49237  -7.50035   51.76631   7.88713   55.66926   \n",
              "...           ...       ...       ...        ...       ...        ...   \n",
              "515340   26.33968  -5.03390  21.86037 -142.29410   3.42901  -41.14721   \n",
              "515341   56.65182  15.29965  95.88193  -10.63242  12.96552   92.11633   \n",
              "515342  121.26989  10.89629  34.62409 -248.61020  -6.07171   53.96319   \n",
              "515343  144.00125  21.62652 -29.72432   71.47198  20.32240   14.83107   \n",
              "515344   28.64599  -4.39620 -64.56491  -45.61012  -5.51512   32.35602   \n",
              "\n",
              "              90  \n",
              "0        2.26327  \n",
              "1       26.92061  \n",
              "2       -0.66345  \n",
              "3       18.85382  \n",
              "4       28.74903  \n",
              "...          ...  \n",
              "515340 -15.46052  \n",
              "515341  10.88815  \n",
              "515342  -8.09364  \n",
              "515343  39.74909  \n",
              "515344  12.17352  \n",
              "\n",
              "[515345 rows x 91 columns]"
            ],
            "text/html": [
              "\n",
              "  <div id=\"df-7f26f42d-94b4-48e8-b50d-9c004282003b\" class=\"colab-df-container\">\n",
              "    <div>\n",
              "<style scoped>\n",
              "    .dataframe tbody tr th:only-of-type {\n",
              "        vertical-align: middle;\n",
              "    }\n",
              "\n",
              "    .dataframe tbody tr th {\n",
              "        vertical-align: top;\n",
              "    }\n",
              "\n",
              "    .dataframe thead th {\n",
              "        text-align: right;\n",
              "    }\n",
              "</style>\n",
              "<table border=\"1\" class=\"dataframe\">\n",
              "  <thead>\n",
              "    <tr style=\"text-align: right;\">\n",
              "      <th></th>\n",
              "      <th>0</th>\n",
              "      <th>1</th>\n",
              "      <th>2</th>\n",
              "      <th>3</th>\n",
              "      <th>4</th>\n",
              "      <th>5</th>\n",
              "      <th>6</th>\n",
              "      <th>7</th>\n",
              "      <th>8</th>\n",
              "      <th>9</th>\n",
              "      <th>...</th>\n",
              "      <th>81</th>\n",
              "      <th>82</th>\n",
              "      <th>83</th>\n",
              "      <th>84</th>\n",
              "      <th>85</th>\n",
              "      <th>86</th>\n",
              "      <th>87</th>\n",
              "      <th>88</th>\n",
              "      <th>89</th>\n",
              "      <th>90</th>\n",
              "    </tr>\n",
              "  </thead>\n",
              "  <tbody>\n",
              "    <tr>\n",
              "      <th>0</th>\n",
              "      <td>2001</td>\n",
              "      <td>49.94357</td>\n",
              "      <td>21.47114</td>\n",
              "      <td>73.07750</td>\n",
              "      <td>8.74861</td>\n",
              "      <td>-17.40628</td>\n",
              "      <td>-13.09905</td>\n",
              "      <td>-25.01202</td>\n",
              "      <td>-12.23257</td>\n",
              "      <td>7.83089</td>\n",
              "      <td>...</td>\n",
              "      <td>13.01620</td>\n",
              "      <td>-54.40548</td>\n",
              "      <td>58.99367</td>\n",
              "      <td>15.37344</td>\n",
              "      <td>1.11144</td>\n",
              "      <td>-23.08793</td>\n",
              "      <td>68.40795</td>\n",
              "      <td>-1.82223</td>\n",
              "      <td>-27.46348</td>\n",
              "      <td>2.26327</td>\n",
              "    </tr>\n",
              "    <tr>\n",
              "      <th>1</th>\n",
              "      <td>2001</td>\n",
              "      <td>48.73215</td>\n",
              "      <td>18.42930</td>\n",
              "      <td>70.32679</td>\n",
              "      <td>12.94636</td>\n",
              "      <td>-10.32437</td>\n",
              "      <td>-24.83777</td>\n",
              "      <td>8.76630</td>\n",
              "      <td>-0.92019</td>\n",
              "      <td>18.76548</td>\n",
              "      <td>...</td>\n",
              "      <td>5.66812</td>\n",
              "      <td>-19.68073</td>\n",
              "      <td>33.04964</td>\n",
              "      <td>42.87836</td>\n",
              "      <td>-9.90378</td>\n",
              "      <td>-32.22788</td>\n",
              "      <td>70.49388</td>\n",
              "      <td>12.04941</td>\n",
              "      <td>58.43453</td>\n",
              "      <td>26.92061</td>\n",
              "    </tr>\n",
              "    <tr>\n",
              "      <th>2</th>\n",
              "      <td>2001</td>\n",
              "      <td>50.95714</td>\n",
              "      <td>31.85602</td>\n",
              "      <td>55.81851</td>\n",
              "      <td>13.41693</td>\n",
              "      <td>-6.57898</td>\n",
              "      <td>-18.54940</td>\n",
              "      <td>-3.27872</td>\n",
              "      <td>-2.35035</td>\n",
              "      <td>16.07017</td>\n",
              "      <td>...</td>\n",
              "      <td>3.03800</td>\n",
              "      <td>26.05866</td>\n",
              "      <td>-50.92779</td>\n",
              "      <td>10.93792</td>\n",
              "      <td>-0.07568</td>\n",
              "      <td>43.20130</td>\n",
              "      <td>-115.00698</td>\n",
              "      <td>-0.05859</td>\n",
              "      <td>39.67068</td>\n",
              "      <td>-0.66345</td>\n",
              "    </tr>\n",
              "    <tr>\n",
              "      <th>3</th>\n",
              "      <td>2001</td>\n",
              "      <td>48.24750</td>\n",
              "      <td>-1.89837</td>\n",
              "      <td>36.29772</td>\n",
              "      <td>2.58776</td>\n",
              "      <td>0.97170</td>\n",
              "      <td>-26.21683</td>\n",
              "      <td>5.05097</td>\n",
              "      <td>-10.34124</td>\n",
              "      <td>3.55005</td>\n",
              "      <td>...</td>\n",
              "      <td>34.57337</td>\n",
              "      <td>-171.70734</td>\n",
              "      <td>-16.96705</td>\n",
              "      <td>-46.67617</td>\n",
              "      <td>-12.51516</td>\n",
              "      <td>82.58061</td>\n",
              "      <td>-72.08993</td>\n",
              "      <td>9.90558</td>\n",
              "      <td>199.62971</td>\n",
              "      <td>18.85382</td>\n",
              "    </tr>\n",
              "    <tr>\n",
              "      <th>4</th>\n",
              "      <td>2001</td>\n",
              "      <td>50.97020</td>\n",
              "      <td>42.20998</td>\n",
              "      <td>67.09964</td>\n",
              "      <td>8.46791</td>\n",
              "      <td>-15.85279</td>\n",
              "      <td>-16.81409</td>\n",
              "      <td>-12.48207</td>\n",
              "      <td>-9.37636</td>\n",
              "      <td>12.63699</td>\n",
              "      <td>...</td>\n",
              "      <td>9.92661</td>\n",
              "      <td>-55.95724</td>\n",
              "      <td>64.92712</td>\n",
              "      <td>-17.72522</td>\n",
              "      <td>-1.49237</td>\n",
              "      <td>-7.50035</td>\n",
              "      <td>51.76631</td>\n",
              "      <td>7.88713</td>\n",
              "      <td>55.66926</td>\n",
              "      <td>28.74903</td>\n",
              "    </tr>\n",
              "    <tr>\n",
              "      <th>...</th>\n",
              "      <td>...</td>\n",
              "      <td>...</td>\n",
              "      <td>...</td>\n",
              "      <td>...</td>\n",
              "      <td>...</td>\n",
              "      <td>...</td>\n",
              "      <td>...</td>\n",
              "      <td>...</td>\n",
              "      <td>...</td>\n",
              "      <td>...</td>\n",
              "      <td>...</td>\n",
              "      <td>...</td>\n",
              "      <td>...</td>\n",
              "      <td>...</td>\n",
              "      <td>...</td>\n",
              "      <td>...</td>\n",
              "      <td>...</td>\n",
              "      <td>...</td>\n",
              "      <td>...</td>\n",
              "      <td>...</td>\n",
              "      <td>...</td>\n",
              "    </tr>\n",
              "    <tr>\n",
              "      <th>515340</th>\n",
              "      <td>2006</td>\n",
              "      <td>51.28467</td>\n",
              "      <td>45.88068</td>\n",
              "      <td>22.19582</td>\n",
              "      <td>-5.53319</td>\n",
              "      <td>-3.61835</td>\n",
              "      <td>-16.36914</td>\n",
              "      <td>2.12652</td>\n",
              "      <td>5.18160</td>\n",
              "      <td>-8.66890</td>\n",
              "      <td>...</td>\n",
              "      <td>4.81440</td>\n",
              "      <td>-3.75991</td>\n",
              "      <td>-30.92584</td>\n",
              "      <td>26.33968</td>\n",
              "      <td>-5.03390</td>\n",
              "      <td>21.86037</td>\n",
              "      <td>-142.29410</td>\n",
              "      <td>3.42901</td>\n",
              "      <td>-41.14721</td>\n",
              "      <td>-15.46052</td>\n",
              "    </tr>\n",
              "    <tr>\n",
              "      <th>515341</th>\n",
              "      <td>2006</td>\n",
              "      <td>49.87870</td>\n",
              "      <td>37.93125</td>\n",
              "      <td>18.65987</td>\n",
              "      <td>-3.63581</td>\n",
              "      <td>-27.75665</td>\n",
              "      <td>-18.52988</td>\n",
              "      <td>7.76108</td>\n",
              "      <td>3.56109</td>\n",
              "      <td>-2.50351</td>\n",
              "      <td>...</td>\n",
              "      <td>32.38589</td>\n",
              "      <td>-32.75535</td>\n",
              "      <td>-61.05473</td>\n",
              "      <td>56.65182</td>\n",
              "      <td>15.29965</td>\n",
              "      <td>95.88193</td>\n",
              "      <td>-10.63242</td>\n",
              "      <td>12.96552</td>\n",
              "      <td>92.11633</td>\n",
              "      <td>10.88815</td>\n",
              "    </tr>\n",
              "    <tr>\n",
              "      <th>515342</th>\n",
              "      <td>2006</td>\n",
              "      <td>45.12852</td>\n",
              "      <td>12.65758</td>\n",
              "      <td>-38.72018</td>\n",
              "      <td>8.80882</td>\n",
              "      <td>-29.29985</td>\n",
              "      <td>-2.28706</td>\n",
              "      <td>-18.40424</td>\n",
              "      <td>-22.28726</td>\n",
              "      <td>-4.52429</td>\n",
              "      <td>...</td>\n",
              "      <td>-18.73598</td>\n",
              "      <td>-71.15954</td>\n",
              "      <td>-123.98443</td>\n",
              "      <td>121.26989</td>\n",
              "      <td>10.89629</td>\n",
              "      <td>34.62409</td>\n",
              "      <td>-248.61020</td>\n",
              "      <td>-6.07171</td>\n",
              "      <td>53.96319</td>\n",
              "      <td>-8.09364</td>\n",
              "    </tr>\n",
              "    <tr>\n",
              "      <th>515343</th>\n",
              "      <td>2006</td>\n",
              "      <td>44.16614</td>\n",
              "      <td>32.38368</td>\n",
              "      <td>-3.34971</td>\n",
              "      <td>-2.49165</td>\n",
              "      <td>-19.59278</td>\n",
              "      <td>-18.67098</td>\n",
              "      <td>8.78428</td>\n",
              "      <td>4.02039</td>\n",
              "      <td>-12.01230</td>\n",
              "      <td>...</td>\n",
              "      <td>67.16763</td>\n",
              "      <td>282.77624</td>\n",
              "      <td>-4.63677</td>\n",
              "      <td>144.00125</td>\n",
              "      <td>21.62652</td>\n",
              "      <td>-29.72432</td>\n",
              "      <td>71.47198</td>\n",
              "      <td>20.32240</td>\n",
              "      <td>14.83107</td>\n",
              "      <td>39.74909</td>\n",
              "    </tr>\n",
              "    <tr>\n",
              "      <th>515344</th>\n",
              "      <td>2005</td>\n",
              "      <td>51.85726</td>\n",
              "      <td>59.11655</td>\n",
              "      <td>26.39436</td>\n",
              "      <td>-5.46030</td>\n",
              "      <td>-20.69012</td>\n",
              "      <td>-19.95528</td>\n",
              "      <td>-6.72771</td>\n",
              "      <td>2.29590</td>\n",
              "      <td>10.31018</td>\n",
              "      <td>...</td>\n",
              "      <td>-11.50511</td>\n",
              "      <td>-69.18291</td>\n",
              "      <td>60.58456</td>\n",
              "      <td>28.64599</td>\n",
              "      <td>-4.39620</td>\n",
              "      <td>-64.56491</td>\n",
              "      <td>-45.61012</td>\n",
              "      <td>-5.51512</td>\n",
              "      <td>32.35602</td>\n",
              "      <td>12.17352</td>\n",
              "    </tr>\n",
              "  </tbody>\n",
              "</table>\n",
              "<p>515345 rows × 91 columns</p>\n",
              "</div>\n",
              "    <div class=\"colab-df-buttons\">\n",
              "\n",
              "  <div class=\"colab-df-container\">\n",
              "    <button class=\"colab-df-convert\" onclick=\"convertToInteractive('df-7f26f42d-94b4-48e8-b50d-9c004282003b')\"\n",
              "            title=\"Convert this dataframe to an interactive table.\"\n",
              "            style=\"display:none;\">\n",
              "\n",
              "  <svg xmlns=\"http://www.w3.org/2000/svg\" height=\"24px\" viewBox=\"0 -960 960 960\">\n",
              "    <path d=\"M120-120v-720h720v720H120Zm60-500h600v-160H180v160Zm220 220h160v-160H400v160Zm0 220h160v-160H400v160ZM180-400h160v-160H180v160Zm440 0h160v-160H620v160ZM180-180h160v-160H180v160Zm440 0h160v-160H620v160Z\"/>\n",
              "  </svg>\n",
              "    </button>\n",
              "\n",
              "  <style>\n",
              "    .colab-df-container {\n",
              "      display:flex;\n",
              "      gap: 12px;\n",
              "    }\n",
              "\n",
              "    .colab-df-convert {\n",
              "      background-color: #E8F0FE;\n",
              "      border: none;\n",
              "      border-radius: 50%;\n",
              "      cursor: pointer;\n",
              "      display: none;\n",
              "      fill: #1967D2;\n",
              "      height: 32px;\n",
              "      padding: 0 0 0 0;\n",
              "      width: 32px;\n",
              "    }\n",
              "\n",
              "    .colab-df-convert:hover {\n",
              "      background-color: #E2EBFA;\n",
              "      box-shadow: 0px 1px 2px rgba(60, 64, 67, 0.3), 0px 1px 3px 1px rgba(60, 64, 67, 0.15);\n",
              "      fill: #174EA6;\n",
              "    }\n",
              "\n",
              "    .colab-df-buttons div {\n",
              "      margin-bottom: 4px;\n",
              "    }\n",
              "\n",
              "    [theme=dark] .colab-df-convert {\n",
              "      background-color: #3B4455;\n",
              "      fill: #D2E3FC;\n",
              "    }\n",
              "\n",
              "    [theme=dark] .colab-df-convert:hover {\n",
              "      background-color: #434B5C;\n",
              "      box-shadow: 0px 1px 3px 1px rgba(0, 0, 0, 0.15);\n",
              "      filter: drop-shadow(0px 1px 2px rgba(0, 0, 0, 0.3));\n",
              "      fill: #FFFFFF;\n",
              "    }\n",
              "  </style>\n",
              "\n",
              "    <script>\n",
              "      const buttonEl =\n",
              "        document.querySelector('#df-7f26f42d-94b4-48e8-b50d-9c004282003b button.colab-df-convert');\n",
              "      buttonEl.style.display =\n",
              "        google.colab.kernel.accessAllowed ? 'block' : 'none';\n",
              "\n",
              "      async function convertToInteractive(key) {\n",
              "        const element = document.querySelector('#df-7f26f42d-94b4-48e8-b50d-9c004282003b');\n",
              "        const dataTable =\n",
              "          await google.colab.kernel.invokeFunction('convertToInteractive',\n",
              "                                                    [key], {});\n",
              "        if (!dataTable) return;\n",
              "\n",
              "        const docLinkHtml = 'Like what you see? Visit the ' +\n",
              "          '<a target=\"_blank\" href=https://colab.research.google.com/notebooks/data_table.ipynb>data table notebook</a>'\n",
              "          + ' to learn more about interactive tables.';\n",
              "        element.innerHTML = '';\n",
              "        dataTable['output_type'] = 'display_data';\n",
              "        await google.colab.output.renderOutput(dataTable, element);\n",
              "        const docLink = document.createElement('div');\n",
              "        docLink.innerHTML = docLinkHtml;\n",
              "        element.appendChild(docLink);\n",
              "      }\n",
              "    </script>\n",
              "  </div>\n",
              "\n",
              "\n",
              "<div id=\"df-b0d946f2-04a3-414f-b9a2-8e04d8bbd15d\">\n",
              "  <button class=\"colab-df-quickchart\" onclick=\"quickchart('df-b0d946f2-04a3-414f-b9a2-8e04d8bbd15d')\"\n",
              "            title=\"Suggest charts\"\n",
              "            style=\"display:none;\">\n",
              "\n",
              "<svg xmlns=\"http://www.w3.org/2000/svg\" height=\"24px\"viewBox=\"0 0 24 24\"\n",
              "     width=\"24px\">\n",
              "    <g>\n",
              "        <path d=\"M19 3H5c-1.1 0-2 .9-2 2v14c0 1.1.9 2 2 2h14c1.1 0 2-.9 2-2V5c0-1.1-.9-2-2-2zM9 17H7v-7h2v7zm4 0h-2V7h2v10zm4 0h-2v-4h2v4z\"/>\n",
              "    </g>\n",
              "</svg>\n",
              "  </button>\n",
              "\n",
              "<style>\n",
              "  .colab-df-quickchart {\n",
              "      --bg-color: #E8F0FE;\n",
              "      --fill-color: #1967D2;\n",
              "      --hover-bg-color: #E2EBFA;\n",
              "      --hover-fill-color: #174EA6;\n",
              "      --disabled-fill-color: #AAA;\n",
              "      --disabled-bg-color: #DDD;\n",
              "  }\n",
              "\n",
              "  [theme=dark] .colab-df-quickchart {\n",
              "      --bg-color: #3B4455;\n",
              "      --fill-color: #D2E3FC;\n",
              "      --hover-bg-color: #434B5C;\n",
              "      --hover-fill-color: #FFFFFF;\n",
              "      --disabled-bg-color: #3B4455;\n",
              "      --disabled-fill-color: #666;\n",
              "  }\n",
              "\n",
              "  .colab-df-quickchart {\n",
              "    background-color: var(--bg-color);\n",
              "    border: none;\n",
              "    border-radius: 50%;\n",
              "    cursor: pointer;\n",
              "    display: none;\n",
              "    fill: var(--fill-color);\n",
              "    height: 32px;\n",
              "    padding: 0;\n",
              "    width: 32px;\n",
              "  }\n",
              "\n",
              "  .colab-df-quickchart:hover {\n",
              "    background-color: var(--hover-bg-color);\n",
              "    box-shadow: 0 1px 2px rgba(60, 64, 67, 0.3), 0 1px 3px 1px rgba(60, 64, 67, 0.15);\n",
              "    fill: var(--button-hover-fill-color);\n",
              "  }\n",
              "\n",
              "  .colab-df-quickchart-complete:disabled,\n",
              "  .colab-df-quickchart-complete:disabled:hover {\n",
              "    background-color: var(--disabled-bg-color);\n",
              "    fill: var(--disabled-fill-color);\n",
              "    box-shadow: none;\n",
              "  }\n",
              "\n",
              "  .colab-df-spinner {\n",
              "    border: 2px solid var(--fill-color);\n",
              "    border-color: transparent;\n",
              "    border-bottom-color: var(--fill-color);\n",
              "    animation:\n",
              "      spin 1s steps(1) infinite;\n",
              "  }\n",
              "\n",
              "  @keyframes spin {\n",
              "    0% {\n",
              "      border-color: transparent;\n",
              "      border-bottom-color: var(--fill-color);\n",
              "      border-left-color: var(--fill-color);\n",
              "    }\n",
              "    20% {\n",
              "      border-color: transparent;\n",
              "      border-left-color: var(--fill-color);\n",
              "      border-top-color: var(--fill-color);\n",
              "    }\n",
              "    30% {\n",
              "      border-color: transparent;\n",
              "      border-left-color: var(--fill-color);\n",
              "      border-top-color: var(--fill-color);\n",
              "      border-right-color: var(--fill-color);\n",
              "    }\n",
              "    40% {\n",
              "      border-color: transparent;\n",
              "      border-right-color: var(--fill-color);\n",
              "      border-top-color: var(--fill-color);\n",
              "    }\n",
              "    60% {\n",
              "      border-color: transparent;\n",
              "      border-right-color: var(--fill-color);\n",
              "    }\n",
              "    80% {\n",
              "      border-color: transparent;\n",
              "      border-right-color: var(--fill-color);\n",
              "      border-bottom-color: var(--fill-color);\n",
              "    }\n",
              "    90% {\n",
              "      border-color: transparent;\n",
              "      border-bottom-color: var(--fill-color);\n",
              "    }\n",
              "  }\n",
              "</style>\n",
              "\n",
              "  <script>\n",
              "    async function quickchart(key) {\n",
              "      const quickchartButtonEl =\n",
              "        document.querySelector('#' + key + ' button');\n",
              "      quickchartButtonEl.disabled = true;  // To prevent multiple clicks.\n",
              "      quickchartButtonEl.classList.add('colab-df-spinner');\n",
              "      try {\n",
              "        const charts = await google.colab.kernel.invokeFunction(\n",
              "            'suggestCharts', [key], {});\n",
              "      } catch (error) {\n",
              "        console.error('Error during call to suggestCharts:', error);\n",
              "      }\n",
              "      quickchartButtonEl.classList.remove('colab-df-spinner');\n",
              "      quickchartButtonEl.classList.add('colab-df-quickchart-complete');\n",
              "    }\n",
              "    (() => {\n",
              "      let quickchartButtonEl =\n",
              "        document.querySelector('#df-b0d946f2-04a3-414f-b9a2-8e04d8bbd15d button');\n",
              "      quickchartButtonEl.style.display =\n",
              "        google.colab.kernel.accessAllowed ? 'block' : 'none';\n",
              "    })();\n",
              "  </script>\n",
              "</div>\n",
              "    </div>\n",
              "  </div>\n"
            ],
            "application/vnd.google.colaboratory.intrinsic+json": {
              "type": "dataframe"
            }
          },
          "metadata": {},
          "execution_count": 19
        }
      ]
    },
    {
      "cell_type": "code",
      "source": [
        "X = df.iloc[:, 1:].values\n",
        "y = df.iloc[:, 0].values\n",
        "\n",
        "train_size = 463715\n",
        "X_train = X[:train_size, :]\n",
        "y_train = y[:train_size]\n",
        "X_test = X[train_size:, :]\n",
        "y_test = y[train_size:]"
      ],
      "metadata": {
        "id": "uJ8cc3EDLKAH"
      },
      "execution_count": null,
      "outputs": []
    },
    {
      "cell_type": "code",
      "source": [
        "df.shape"
      ],
      "metadata": {
        "colab": {
          "base_uri": "https://localhost:8080/"
        },
        "id": "NR3Lliq-LYYa",
        "outputId": "c0dbea86-0495-4b07-ead1-8fd4bcedc40a"
      },
      "execution_count": null,
      "outputs": [
        {
          "output_type": "execute_result",
          "data": {
            "text/plain": [
              "(515345, 91)"
            ]
          },
          "metadata": {},
          "execution_count": 21
        }
      ]
    },
    {
      "cell_type": "code",
      "source": [
        "# Сначала данные нужно отмасштабировать для того, чтобы предотвратить плохую воспроизводимость модели\n",
        "scaler = StandardScaler()\n",
        "X_train_scaled = scaler.fit_transform(X_train)\n",
        "X_test_scaled = scaler.transform(X_test)"
      ],
      "metadata": {
        "id": "C9knJTztLgme"
      },
      "execution_count": null,
      "outputs": []
    },
    {
      "cell_type": "code",
      "source": [
        "# обучение модели Ridge регрессии\n",
        "ridge_model = Ridge(alpha=1.0)\n",
        "ridge_model.fit(X_train_scaled, y_train)\n",
        "\n",
        "# предсказания на тестовой выборке\n",
        "y_pred_ridge = ridge_model.predict(X_test_scaled)\n",
        "\n",
        "# расчет RMSE для Ridge регрессии\n",
        "rmse_ridge = np.sqrt(mean_squared_error(y_test, y_pred_ridge))\n",
        "print(f'RMSE для Ridge регрессии: {rmse_ridge}')\n",
        "\n",
        "# наилучший константный прогноз (среднее значение целевой переменной)\n",
        "mean_y_train = np.mean(y_train)\n",
        "y_pred_constant = np.full(y_test.shape, mean_y_train)\n",
        "\n",
        "# Расчет RMSE для константного прогноза\n",
        "rmse_constant = np.sqrt(mean_squared_error(y_test, y_pred_constant))\n",
        "print(f'RMSE для наилучшего константного прогноза: {rmse_constant}')"
      ],
      "metadata": {
        "colab": {
          "base_uri": "https://localhost:8080/"
        },
        "id": "3t5XrDCaARYj",
        "outputId": "42f4bea2-3434-4e0f-ed0c-f6ecb8d14d9d"
      },
      "execution_count": null,
      "outputs": [
        {
          "output_type": "stream",
          "name": "stdout",
          "text": [
            "RMSE для Ridge регрессии: 9.510160820470436\n",
            "RMSE для наилучшего константного прогноза: 10.85246390513634\n"
          ]
        }
      ]
    },
    {
      "cell_type": "code",
      "source": [
        "# Вопросы:\n",
        "# Правильно ли я поняла, что константный прогноз - это просто среднее значение целевой переменной?\n",
        "# Когда на практике (в каких задачах) нужно считать качество при константном прогнозе? Зачем это нужно?"
      ],
      "metadata": {
        "id": "ocntO2ybL_yr"
      },
      "execution_count": null,
      "outputs": []
    },
    {
      "cell_type": "markdown",
      "metadata": {
        "id": "_6ilBKYt6OdD"
      },
      "source": [
        "## Задание 1. (максимум 10 баллов)\n",
        "\n",
        "Реализуйте обучение и тестирование нейронной сети для предоставленного вам набора данных. Соотношение между полученным значением метрики на тестовой выборке и баллами за задание следующее:\n",
        "\n",
        "- $\\text{RMSE} \\le 9.00 $ &mdash; 4 балла\n",
        "- $\\text{RMSE} \\le 8.90 $ &mdash; 6 баллов\n",
        "- $\\text{RMSE} \\le 8.80 $ &mdash; 8 баллов\n",
        "- $\\text{RMSE} \\le 8.75 $ &mdash; 10 баллов\n",
        "\n",
        "Есть несколько правил, которых вам нужно придерживаться:\n",
        "\n",
        "- Весь пайплайн обучения должен быть написан на PyTorch. При этом вы можете пользоваться другими библиотеками (`numpy`, `sklearn` и пр.), но только для обработки данных. То есть как угодно трансформировать данные и считать метрики с помощью этих библиотек можно, а импортировать модели из `sklearn` и выбивать с их помощью требуемое качество &mdash; нельзя. Также нельзя пользоваться библиотеками, для которых сам PyTorch является зависимостью.\n",
        "\n",
        "- Мы никак не ограничиваем ваш выбор архитектуры модели, но скорее всего вам будет достаточно полносвязной нейронной сети.\n",
        "\n",
        "- Для обучения запрещается использовать какие-либо иные данные, кроме обучающей выборки.\n",
        "\n",
        "- Ансамблирование моделей запрещено.\n",
        "\n",
        "### Полезные советы:\n",
        "\n",
        "- Очень вряд ли, что у вас с первого раза получится выбить качество на 10 баллов, поэтому пробуйте разные архитектуры, оптимизаторы и значения гиперпараметров. В идеале при запуске каждого нового эксперимента вы должны менять что-то одно, чтобы точно знать, как этот фактор влияет на качество.\n",
        "\n",
        "- Не забудьте, что для улучшения качества модели вам поможет **нормировка таргета**.\n",
        "\n",
        "- Тот факт, что мы занимаемся глубинным обучением, не означает, что стоит забывать про приемы, использующиеся в классическом машинном обучении. Так что обязательно проводите исследовательский анализ данных, отрисовывайте нужные графики и не забывайте про масштабирование и подбор гиперпараметров.\n",
        "\n",
        "- Вы наверняка столкнетесь с тем, что ваша нейронная сеть будет сильно переобучаться. Для нейросетей существуют специальные методы регуляризации, например, dropout ([статья](https://jmlr.org/papers/volume15/srivastava14a/srivastava14a.pdf)) и weight decay ([блогпост](https://towardsdatascience.com/weight-decay-l2-regularization-90a9e17713cd)). Они, разумеется, реализованы в PyTorch. Попробуйте поэкспериментировать с ними.\n",
        "\n",
        "- Если вы чего-то не знаете, не гнушайтесь гуглить. В интернете очень много полезной информации, туториалов и советов по глубинному обучению в целом и по PyTorch в частности. Но не забывайте, что за скатанный код без ссылки на источник придется ответить по всей строгости!\n",
        "\n",
        "- Если вы сразу реализуете обучение на GPU, то у вас будет больше времени на эксперименты, так как любые вычисления будут работать быстрее. Google Colab предоставляет несколько GPU-часов (обычно около 8-10) в сутки бесплатно.\n",
        "\n",
        "- Чтобы отладить код, можете обучаться на небольшой части данных или даже на одном батче. Если лосс на обучающей выборке не падает, то что-то точно идет не так!\n",
        "\n",
        "- Пользуйтесь утилитами, которые вам предоставляет PyTorch (например, Dataset и Dataloader). Их специально разработали для упрощения разработки пайплайна обучения.\n",
        "\n",
        "- Скорее всего вы захотите отслеживать прогресс обучения. Для создания прогресс-баров есть удобная библиотека `tqdm`.\n",
        "\n",
        "- Быть может, вы захотите, чтобы графики рисовались прямо во время обучения. Можете воспользоваться функцией [clear_output](http://ipython.org/ipython-doc/dev/api/generated/IPython.display.html#IPython.display.clear_output), чтобы удалять старый график и рисовать новый на его месте.\n",
        "\n",
        "**ОБЯЗАТЕЛЬНО** рисуйте графики зависимости лосса/метрики на обучающей и тестовой выборках в зависимости от времени обучения. Если обучение занимает относительно небольшое число эпох, то лучше рисовать зависимость от номера шага обучения, если же эпох больше, то рисуйте зависимость по эпохам. Если проверяющий не увидит такого графика для вашей лучшей модели, то он в праве снизить баллы за задание.\n",
        "\n",
        "**ВАЖНО!** Ваше решение должно быть воспроизводимым. Если это не так, то проверяющий имеет право снизить баллы за задание. Чтобы зафиксировать random seed, воспользуйтесь функцией из ячейки ниже.\n",
        "\n"
      ]
    },
    {
      "cell_type": "code",
      "execution_count": null,
      "metadata": {
        "id": "VaMButDmEKKw"
      },
      "outputs": [],
      "source": [
        "def set_random_seed(seed):\n",
        "    torch.backends.cudnn.deterministic = True\n",
        "    torch.manual_seed(seed)\n",
        "    torch.cuda.manual_seed(seed)\n",
        "    np.random.seed(seed)\n",
        "    random.seed(seed)"
      ]
    },
    {
      "cell_type": "markdown",
      "metadata": {
        "id": "TZW0gMe3vT8u"
      },
      "source": [
        "Вы можете придерживаться любой адекватной струкуры кода, но мы советуем воспользоваться следующими сигнатурами функций. Лучше всего, если вы проверите ваши предсказания ассертом: так вы убережете себя от разных косяков, например, что вектор предсказаний состоит из всего одного числа. В любом случае, внимательно следите за тем, для каких тензоров вы считаете метрику RMSE. При случайном или намеренном введении в заблуждение проверяющие очень сильно разозлятся."
      ]
    },
    {
      "cell_type": "code",
      "execution_count": null,
      "metadata": {
        "id": "peomNjMWbkSz"
      },
      "outputs": [],
      "source": [
        "train_set = None  # YOUR CODE HERE (－.－)...zzzZZZzzzZZZ\n",
        "train_loader = None  # YOUR CODE HERE (－.－)...zzzZZZzzzZZZ\n",
        "\n",
        "test_set = None  # YOUR CODE HERE (－.－)...zzzZZZzzzZZZ\n",
        "test_loader = None  # YOUR CODE HERE (－.－)...zzzZZZzzzZZZ\n",
        "\n",
        "model = None  # YOUR CODE HERE (－.－)...zzzZZZzzzZZZ\n",
        "optimizer = None  # YOUR CODE HERE (－.－)...zzzZZZzzzZZZ\n",
        "criterion = None  # YOUR CODE HERE (－.－)...zzzZZZzzzZZZ"
      ]
    },
    {
      "cell_type": "code",
      "execution_count": null,
      "metadata": {
        "id": "8Wmxrf5Qveux"
      },
      "outputs": [],
      "source": [
        "def train(model, optimizer, criterion, train_loader, test_loader):\n",
        "    \"\"\"\n",
        "    params:\n",
        "        model - torch.nn.Module to be fitted\n",
        "        optimizer - model optimizer\n",
        "        criterion - loss function from torch.nn\n",
        "        train_loader - torch.utils.data.Dataloader with train set\n",
        "        test_loader - torch.utils.data.Dataloader with test set\n",
        "                      (if you wish to validate during training)\n",
        "    \"\"\"\n",
        "    # YOUR CODE HERE (－.－)...zzzZZZzzzZZZ\n",
        "    raise NotImplementedError\n",
        "\n",
        "\n",
        "def test(model, criterion, test_loader):\n",
        "    \"\"\"\n",
        "    params:\n",
        "        model - torch.nn.Module to be evaluated on test set\n",
        "        criterion - loss function from torch.nn\n",
        "        test_loader - torch.utils.data.Dataloader with test set\n",
        "    ----------\n",
        "    returns:\n",
        "        predicts - torch.tensor with shape (len(test_loader.dataset), ),\n",
        "                   which contains predictions for test objects\n",
        "    \"\"\"\n",
        "    # YOUR CODE HERE (－.－)...zzzZZZzzzZZZ\n",
        "    predicts = torch.ones(len(test_loader.dataset))\n",
        "    return predicts"
      ]
    },
    {
      "cell_type": "code",
      "execution_count": null,
      "metadata": {
        "id": "4PVEXDgD6Swj"
      },
      "outputs": [],
      "source": [
        "assert test(model, criterion, test_loader).shape[0] == y_test.shape[0]"
      ]
    },
    {
      "cell_type": "markdown",
      "source": [
        "\n",
        "# **Задание 1**\n"
      ],
      "metadata": {
        "id": "8rmreYQqWaO3"
      }
    },
    {
      "cell_type": "markdown",
      "source": [
        "\n",
        "\n",
        "# **SGD + Standard Scaler**\n",
        "\n",
        "\n",
        "# **Попытка №1**"
      ],
      "metadata": {
        "id": "BD4I51q2H0RG"
      }
    },
    {
      "cell_type": "code",
      "source": [
        "import numpy as np\n",
        "import pandas as pd\n",
        "import matplotlib.pyplot as plt\n",
        "import torch\n",
        "import torch.nn as nn            # содержит функции для реализации архитектуры нейронных сетей\n",
        "import torch.nn.functional as F  # содержит различные функции активации\n",
        "import torch.optim as optim # это градиентный спуск\n",
        "import torch.utils.data as data_utils # большие объемы данных, которые не помещаются в оперативную память целиком (для работы с большими датасетами)"
      ],
      "metadata": {
        "id": "9bOWjGY2Wd7k"
      },
      "execution_count": null,
      "outputs": []
    },
    {
      "cell_type": "code",
      "source": [
        "# На третьей попытке мне надоело копировать код, единственное, что я поменяла , - это поставила печать потерь каждые 3 эпохи\n",
        "input_size = 90 #входной слой\n",
        "hidden_size = 30 # размер первого скрытого слоя\n",
        "hidden_size_2 = 30 # размер второго скрытого слоя\n",
        "output_size = 1 # размер вызодного слоя\n",
        "batch_size = 256 # установлю значение по рекомендованным\n",
        "epochs = 50 #сколько раз мы прогоним нашу модель за все обучение\n",
        "learning_rate = 0.001"
      ],
      "metadata": {
        "id": "S3s7m8ixXX7F"
      },
      "execution_count": null,
      "outputs": []
    },
    {
      "cell_type": "code",
      "source": [
        "# Установить seed\n",
        "torch.cuda.manual_seed(42)  #  GPU"
      ],
      "metadata": {
        "id": "bEJnLsQPe3x9"
      },
      "execution_count": null,
      "outputs": []
    },
    {
      "cell_type": "code",
      "source": [
        "torch.manual_seed(42)"
      ],
      "metadata": {
        "colab": {
          "base_uri": "https://localhost:8080/"
        },
        "id": "uUDI2p3YV261",
        "outputId": "fe95cc4a-c468-479e-8652-656f0fe57e51"
      },
      "execution_count": null,
      "outputs": [
        {
          "output_type": "execute_result",
          "data": {
            "text/plain": [
              "<torch._C.Generator at 0x7d720151e970>"
            ]
          },
          "metadata": {},
          "execution_count": 41
        }
      ]
    },
    {
      "cell_type": "code",
      "source": [
        "# функция для датасета (формирование батча данных)\n",
        "def create_data_loader(X_train, y_train, X_test, y_test): # данные табличные, поэтому берем x_train, t_test и превращаем в матрицу\n",
        "    train_tensor = data_utils.TensorDataset(torch.tensor(X_train.astype(np.float32)), torch.tensor(y_train))\n",
        "    train_loader = data_utils.DataLoader(dataset=train_tensor, # создает из датасета итератор\n",
        "                                         batch_size=batch_size,\n",
        "                                         shuffle=True)\n",
        "\n",
        "    test_tensor = data_utils.TensorDataset(torch.tensor(X_test.astype(np.float32)), torch.tensor(y_test))\n",
        "    test_loader = data_utils.DataLoader(dataset=test_tensor,\n",
        "                                        batch_size=batch_size,\n",
        "                                        shuffle=False)\n",
        "    return train_loader, test_loader"
      ],
      "metadata": {
        "id": "mzgbv4Bgj8Mc"
      },
      "execution_count": null,
      "outputs": []
    },
    {
      "cell_type": "code",
      "source": [
        "# применим StandardScaler к тренировочным и тестовым данным\n",
        "from sklearn.preprocessing import StandardScaler\n",
        "scaler = StandardScaler()\n",
        "X_train_scaled = scaler.fit_transform(X_train)\n",
        "X_test_scaled = scaler.transform(X_test)\n",
        "train_loader, test_loader = create_data_loader(X_train_scaled, y_train, X_test_scaled, y_test)"
      ],
      "metadata": {
        "id": "Qpk-wET9vPeU"
      },
      "execution_count": null,
      "outputs": []
    },
    {
      "cell_type": "code",
      "source": [
        "class SonarModel(nn.Module):\n",
        "    def __init__(self, input_size, hidden_size, hidden_size_2, output_size):\n",
        "        super().__init__()\n",
        "        self.layer1 = nn.Linear(in_features=input_size, out_features=hidden_size)\n",
        "        self.batchnorm1 = nn.BatchNorm1d(hidden_size)\n",
        "        self.act1 = nn.ReLU()\n",
        "        #self.dropout1 = nn.Dropout(0.2)\n",
        "        self.layer2 = nn.Linear(in_features=hidden_size, out_features=hidden_size_2)\n",
        "        self.batchnorm2 = nn.BatchNorm1d(hidden_size_2)\n",
        "        self.act2 = nn.ReLU()\n",
        "        #self.dropout2 = nn.Dropout(0.2)\n",
        "        self.output = nn.Linear(in_features=hidden_size_2, out_features=output_size)\n",
        "\n",
        "    def forward(self, x):\n",
        "        x = self.act1(self.layer1(x))\n",
        "        x = self.batchnorm1(x)\n",
        "        #x = self.dropout1(x)\n",
        "        x = self.act2(self.layer2(x))\n",
        "        x = self.batchnorm2(x)\n",
        "        #x = self.dropout2(x)\n",
        "        x = self.output(x)\n",
        "        return x"
      ],
      "metadata": {
        "id": "fKc1e9hAiT_1"
      },
      "execution_count": null,
      "outputs": []
    },
    {
      "cell_type": "code",
      "source": [
        "from tqdm import tqdm # добавлю для отображения прогресса, это будет гораздо удобнее, чем видеть пустоту и не понимать, что происходит\n",
        "def run_train(model, optimizer, criterion, train_loader, test_loader, epochs, scheduler=None):\n",
        "    train_loss_values = []\n",
        "    valid_loss_values = []\n",
        "\n",
        "    for epoch in range(epochs):\n",
        "        model.train()\n",
        "        running_loss = []\n",
        "\n",
        "        # Прогресс-бар\n",
        "        progress_bar = tqdm(train_loader, desc=f'Epoch {epoch + 1}/{epochs}', leave=False)\n",
        "\n",
        "        for features, label in progress_bar:\n",
        "            optimizer.zero_grad()\n",
        "\n",
        "            output = model(features)\n",
        "            label = label.float().unsqueeze(1)\n",
        "\n",
        "            loss = torch.sqrt(criterion(output, label))\n",
        "            loss.backward()\n",
        "\n",
        "            optimizer.step()\n",
        "\n",
        "            running_loss.append(loss.item())\n",
        "\n",
        "            # Обновление прогресс-бара\n",
        "            progress_bar.set_postfix(train_loss=np.mean(running_loss))\n",
        "\n",
        "        train_loss_values.append(np.mean(running_loss))\n",
        "\n",
        "        # Валидация\n",
        "        model.eval()\n",
        "        running_val_loss = []\n",
        "        with torch.no_grad():\n",
        "            for features, label in test_loader:\n",
        "                output = model(features)\n",
        "                label = label.float().unsqueeze(1)\n",
        "\n",
        "                loss = torch.sqrt(criterion(output, label))\n",
        "                running_val_loss.append(loss.item())\n",
        "\n",
        "        valid_loss_values.append(np.mean(running_val_loss))\n",
        "\n",
        "        # Обновление прогресс-бара с потерями\n",
        "        progress_bar.set_postfix(train_loss=train_loss_values[-1], valid_loss=valid_loss_values[-1])\n",
        "\n",
        "        # Печать потерь каждые 10 эпох\n",
        "        if (epoch + 1) % 5 == 0:\n",
        "            print(f'EPOCH {epoch + 1}, train_loss: {train_loss_values[-1]}, valid_loss: {valid_loss_values[-1]}')\n",
        "\n",
        "        if scheduler is not None:\n",
        "            scheduler.step()\n",
        "\n",
        "    return train_loss_values, valid_loss_values"
      ],
      "metadata": {
        "id": "CG4GYaB-TlRn"
      },
      "execution_count": null,
      "outputs": []
    },
    {
      "cell_type": "code",
      "source": [
        "# SGD - Стохастический градиентный спуск\n",
        "model1 = SonarModel(input_size=input_size, hidden_size=hidden_size, hidden_size_2=hidden_size_2, output_size=output_size) # инициальзируем и модель, и веса\n",
        "# инициализирую SGD optimizer\n",
        "optimizer = optim.SGD(model1.parameters(), lr=learning_rate, momentum=0.9, nesterov=True) # SGD\n",
        "# инициализирую Loss function (функцию потерь)\n",
        "criterion = nn.MSELoss() #бинарная классификация\n",
        "# запускаю процесс обучения\n",
        "train_loss_values, valid_loss_values = run_train(model1, optimizer=optimizer, criterion=criterion, train_loader=train_loader, test_loader=test_loader, epochs=epochs)"
      ],
      "metadata": {
        "colab": {
          "base_uri": "https://localhost:8080/"
        },
        "id": "dDznydYydQs8",
        "outputId": "6b47676b-2b24-4efa-b609-04e7ad77ac5d"
      },
      "execution_count": null,
      "outputs": [
        {
          "output_type": "stream",
          "name": "stderr",
          "text": []
        },
        {
          "output_type": "stream",
          "name": "stdout",
          "text": [
            "EPOCH 5, train_loss: 8.784860385437938, valid_loss: 8.528835622390899\n"
          ]
        },
        {
          "output_type": "stream",
          "name": "stderr",
          "text": []
        },
        {
          "output_type": "stream",
          "name": "stdout",
          "text": [
            "EPOCH 10, train_loss: 8.70887865267579, valid_loss: 8.577831825407424\n"
          ]
        },
        {
          "output_type": "stream",
          "name": "stderr",
          "text": []
        },
        {
          "output_type": "stream",
          "name": "stdout",
          "text": [
            "EPOCH 15, train_loss: 8.663624716383994, valid_loss: 8.44194519401777\n"
          ]
        },
        {
          "output_type": "stream",
          "name": "stderr",
          "text": []
        },
        {
          "output_type": "stream",
          "name": "stdout",
          "text": [
            "EPOCH 20, train_loss: 8.632130050764442, valid_loss: 8.961814913419214\n"
          ]
        },
        {
          "output_type": "stream",
          "name": "stderr",
          "text": []
        },
        {
          "output_type": "stream",
          "name": "stdout",
          "text": [
            "EPOCH 25, train_loss: 8.614054037508849, valid_loss: 8.508825325729823\n"
          ]
        },
        {
          "output_type": "stream",
          "name": "stderr",
          "text": []
        },
        {
          "output_type": "stream",
          "name": "stdout",
          "text": [
            "EPOCH 30, train_loss: 8.594177028727584, valid_loss: 8.452848717717842\n"
          ]
        },
        {
          "output_type": "stream",
          "name": "stderr",
          "text": []
        },
        {
          "output_type": "stream",
          "name": "stdout",
          "text": [
            "EPOCH 35, train_loss: 8.58871958324188, valid_loss: 8.433867844024507\n"
          ]
        },
        {
          "output_type": "stream",
          "name": "stderr",
          "text": []
        },
        {
          "output_type": "stream",
          "name": "stdout",
          "text": [
            "EPOCH 40, train_loss: 8.575580404031092, valid_loss: 8.462034525257526\n"
          ]
        },
        {
          "output_type": "stream",
          "name": "stderr",
          "text": []
        },
        {
          "output_type": "stream",
          "name": "stdout",
          "text": [
            "EPOCH 45, train_loss: 8.572866754816069, valid_loss: 8.448268191649182\n"
          ]
        },
        {
          "output_type": "stream",
          "name": "stderr",
          "text": []
        },
        {
          "output_type": "stream",
          "name": "stdout",
          "text": [
            "EPOCH 50, train_loss: 8.564851976914648, valid_loss: 8.476096748125435\n"
          ]
        }
      ]
    },
    {
      "cell_type": "code",
      "source": [
        "def plot(histories):\n",
        "  plt.figure(figsize=(16,10))\n",
        "  for name, val_loss in histories:\n",
        "    plt.plot(val_loss, label=name)\n",
        "  plt.legend()"
      ],
      "metadata": {
        "id": "s7Cnt6fFe6F0"
      },
      "execution_count": null,
      "outputs": []
    },
    {
      "cell_type": "code",
      "source": [
        "\n",
        "plot([('SGD, Standard Scaler, no dropout, lr = 0.001, batch size = 256, epochs = 50', valid_loss_values)])"
      ],
      "metadata": {
        "id": "3wCM5ps7HEHX",
        "colab": {
          "base_uri": "https://localhost:8080/",
          "height": 816
        },
        "outputId": "b163f6d5-d090-4219-85df-fb6b5ca48d5c"
      },
      "execution_count": null,
      "outputs": [
        {
          "output_type": "display_data",
          "data": {
            "text/plain": [
              "<Figure size 1600x1000 with 1 Axes>"
            ],
            "image/png": "[encoded data removed]"
          },
          "metadata": {}
        }
      ]
    },
    {
      "cell_type": "markdown",
      "source": [
        "\n",
        "# **Попытка №1.1**"
      ],
      "metadata": {
        "id": "qDc581NeKyBI"
      }
    },
    {
      "cell_type": "code",
      "source": [
        "# На третьей попытке мне надоело копировать код, единственное, что я поменяла , - это поставила печать потерь каждые 3 эпохи\n",
        "input_size = 90 #входной слой\n",
        "hidden_size = 30 # размер первого скрытого слоя\n",
        "hidden_size_2 = 30 # размер второго скрытого слоя\n",
        "output_size = 1 # размер вызодного слоя\n",
        "batch_size = 256 # установлю значение по рекомендованным\n",
        "epochs = 55 #сколько раз мы прогоним нашу модель за все обучение\n",
        "learning_rate = 0.01"
      ],
      "metadata": {
        "id": "fZ_hciyxJoU8"
      },
      "execution_count": null,
      "outputs": []
    },
    {
      "cell_type": "code",
      "source": [
        "# Установить seed\n",
        "torch.cuda.manual_seed(42)  #  GPU"
      ],
      "metadata": {
        "id": "BPq3lve6dzy9"
      },
      "execution_count": null,
      "outputs": []
    },
    {
      "cell_type": "code",
      "source": [
        "#train_loader, test_loader = create_data_loader(X_train, y_train, X_test, y_test)"
      ],
      "metadata": {
        "id": "1jm_2PnnHzrJ"
      },
      "execution_count": null,
      "outputs": []
    },
    {
      "cell_type": "code",
      "source": [
        "torch.manual_seed(42)"
      ],
      "metadata": {
        "colab": {
          "base_uri": "https://localhost:8080/"
        },
        "id": "_9Ntyp9AX1Yy",
        "outputId": "08d84865-f455-44a6-9951-20a2b12eed02"
      },
      "execution_count": null,
      "outputs": [
        {
          "output_type": "execute_result",
          "data": {
            "text/plain": [
              "<torch._C.Generator at 0x7c5744742790>"
            ]
          },
          "metadata": {},
          "execution_count": 13
        }
      ]
    },
    {
      "cell_type": "code",
      "source": [
        "# функция для датасета (формирование батча данных)\n",
        "def create_data_loader(X_train, y_train, X_test, y_test): # данные табличные, поэтому берем x_train, t_test и превращаем в матрицу\n",
        "    train_tensor = data_utils.TensorDataset(torch.tensor(X_train.astype(np.float32)), torch.tensor(y_train))\n",
        "    train_loader = data_utils.DataLoader(dataset=train_tensor, # создает из датасета итератор\n",
        "                                         batch_size=batch_size,\n",
        "                                         shuffle=True)\n",
        "\n",
        "    test_tensor = data_utils.TensorDataset(torch.tensor(X_test.astype(np.float32)), torch.tensor(y_test))\n",
        "    test_loader = data_utils.DataLoader(dataset=test_tensor,\n",
        "                                        batch_size=batch_size,\n",
        "                                        shuffle=False)\n",
        "    return train_loader, test_loader"
      ],
      "metadata": {
        "id": "HVLhrfP0LEoY"
      },
      "execution_count": null,
      "outputs": []
    },
    {
      "cell_type": "code",
      "source": [
        "# Стандартизирую данные\n",
        "scaler = StandardScaler()\n",
        "X_train_scaled = scaler.fit_transform(X_train)\n",
        "X_test_scaled = scaler.transform(X_test)\n",
        "train_loader, test_loader = create_data_loader(X_train_scaled, y_train, X_test_scaled, y_test)"
      ],
      "metadata": {
        "collapsed": true,
        "id": "qYORHCdeJQNX"
      },
      "execution_count": null,
      "outputs": []
    },
    {
      "cell_type": "code",
      "source": [
        "# добавлю dropout\n",
        "class SonarModel1(nn.Module):\n",
        "    def __init__(self, input_size, hidden_size, hidden_size_2, output_size):\n",
        "        super().__init__()\n",
        "        self.layer1 = nn.Linear(in_features=input_size, out_features=hidden_size)\n",
        "        self.batchnorm1 = nn.BatchNorm1d(hidden_size)\n",
        "        self.act1 = nn.ReLU()\n",
        "        self.dropout1 = nn.Dropout(0.2)\n",
        "        self.layer2 = nn.Linear(in_features=hidden_size, out_features=hidden_size_2)\n",
        "        self.batchnorm2 = nn.BatchNorm1d(hidden_size_2)\n",
        "        self.act2 = nn.ReLU()\n",
        "        self.dropout2 = nn.Dropout(0.2)\n",
        "        self.output = nn.Linear(in_features=hidden_size_2, out_features=output_size)\n",
        "\n",
        "    def forward(self, x):\n",
        "        x = self.act1(self.layer1(x))\n",
        "        x = self.batchnorm1(x)\n",
        "        x = self.dropout1(x)\n",
        "        x = self.act2(self.layer2(x))\n",
        "        x = self.batchnorm2(x)\n",
        "        x = self.dropout2(x)\n",
        "        x = self.output(x)\n",
        "        return x"
      ],
      "metadata": {
        "id": "FWRC8IUaJhwQ"
      },
      "execution_count": null,
      "outputs": []
    },
    {
      "cell_type": "code",
      "source": [
        "from tqdm import tqdm # добавлю для отображения прогресса, это будет гораздо удобнее, чем видеть пустоту и не понимать, что происходит\n",
        "def run_train(model, optimizer, criterion, train_loader, test_loader, epochs, scheduler=None):\n",
        "    train_loss_values = []\n",
        "    valid_loss_values = []\n",
        "\n",
        "    for epoch in range(epochs):\n",
        "        model.train()\n",
        "        running_loss = []\n",
        "\n",
        "        # Прогресс-бар\n",
        "        progress_bar = tqdm(train_loader, desc=f'Epoch {epoch + 1}/{epochs}', leave=False)\n",
        "\n",
        "        for features, label in progress_bar:\n",
        "            optimizer.zero_grad()\n",
        "\n",
        "            output = model(features)\n",
        "            label = label.float().unsqueeze(1)\n",
        "\n",
        "            loss = torch.sqrt(criterion(output, label))\n",
        "            loss.backward()\n",
        "\n",
        "            optimizer.step()\n",
        "\n",
        "            running_loss.append(loss.item())\n",
        "\n",
        "            # Обновление прогресс-бара\n",
        "            progress_bar.set_postfix(train_loss=np.mean(running_loss))\n",
        "\n",
        "        train_loss_values.append(np.mean(running_loss))\n",
        "\n",
        "        # Валидация\n",
        "        model.eval()\n",
        "        running_val_loss = []\n",
        "        with torch.no_grad():\n",
        "            for features, label in test_loader:\n",
        "                output = model(features)\n",
        "                label = label.float().unsqueeze(1)\n",
        "\n",
        "                loss = torch.sqrt(criterion(output, label))\n",
        "                running_val_loss.append(loss.item())\n",
        "\n",
        "        valid_loss_values.append(np.mean(running_val_loss))\n",
        "\n",
        "        # Обновление прогресс-бара с потерями\n",
        "        progress_bar.set_postfix(train_loss=train_loss_values[-1], valid_loss=valid_loss_values[-1])\n",
        "\n",
        "        # Печать потерь каждые 10 эпох\n",
        "        if (epoch + 1) % 5 == 0:\n",
        "            print(f'EPOCH {epoch + 1}, train_loss: {train_loss_values[-1]}, valid_loss: {valid_loss_values[-1]}')\n",
        "\n",
        "        if scheduler is not None:\n",
        "            scheduler.step()\n",
        "\n",
        "    return train_loss_values, valid_loss_values"
      ],
      "metadata": {
        "id": "_e4XS7DvLKQA"
      },
      "execution_count": null,
      "outputs": []
    },
    {
      "cell_type": "code",
      "source": [
        "# SGD - Стохастический градиентный спуск\n",
        "model2 = SonarModel1(input_size=input_size, hidden_size=hidden_size, hidden_size_2=hidden_size_2, output_size=output_size) # инициальзируем и модель, и веса\n",
        "# инициализирую SGD optimizer\n",
        "optimizer = optim.SGD(model2.parameters(), lr=learning_rate) # SGD\n",
        "# инициализирую Loss function (функцию потерь)\n",
        "criterion = nn.MSELoss() #бинарная классификация\n",
        "# запускаю процесс обучения\n",
        "train_loss_values, valid_loss_values = run_train(model2, optimizer=optimizer, criterion=criterion, train_loader=train_loader, test_loader=test_loader, epochs=epochs)"
      ],
      "metadata": {
        "colab": {
          "base_uri": "https://localhost:8080/"
        },
        "id": "ON7rp_Y7g4HF",
        "outputId": "24b8618e-f46e-4292-ec28-49bb620a7459"
      },
      "execution_count": null,
      "outputs": [
        {
          "output_type": "stream",
          "name": "stderr",
          "text": []
        },
        {
          "output_type": "stream",
          "name": "stdout",
          "text": [
            "EPOCH 5, train_loss: 180.7740143445417, valid_loss: 22.48624335185136\n"
          ]
        },
        {
          "output_type": "stream",
          "name": "stderr",
          "text": []
        },
        {
          "output_type": "stream",
          "name": "stdout",
          "text": [
            "EPOCH 10, train_loss: 180.0526796808306, valid_loss: 15.89644978778197\n"
          ]
        },
        {
          "output_type": "stream",
          "name": "stderr",
          "text": []
        },
        {
          "output_type": "stream",
          "name": "stdout",
          "text": [
            "EPOCH 15, train_loss: 179.3136206452157, valid_loss: 15.16114087624125\n"
          ]
        },
        {
          "output_type": "stream",
          "name": "stderr",
          "text": []
        },
        {
          "output_type": "stream",
          "name": "stdout",
          "text": [
            "EPOCH 20, train_loss: 178.55041592326384, valid_loss: 18.10859172651083\n"
          ]
        },
        {
          "output_type": "stream",
          "name": "stderr",
          "text": []
        },
        {
          "output_type": "stream",
          "name": "stdout",
          "text": [
            "EPOCH 25, train_loss: 177.6456934779422, valid_loss: 13.350781015830465\n"
          ]
        },
        {
          "output_type": "stream",
          "name": "stderr",
          "text": []
        },
        {
          "output_type": "stream",
          "name": "stdout",
          "text": [
            "EPOCH 30, train_loss: 177.11550723953752, valid_loss: 26.890279599935702\n"
          ]
        },
        {
          "output_type": "stream",
          "name": "stderr",
          "text": []
        },
        {
          "output_type": "stream",
          "name": "stdout",
          "text": [
            "EPOCH 35, train_loss: 176.2851994832357, valid_loss: 15.769245058003039\n"
          ]
        },
        {
          "output_type": "stream",
          "name": "stderr",
          "text": []
        },
        {
          "output_type": "stream",
          "name": "stdout",
          "text": [
            "EPOCH 40, train_loss: 175.31933418593923, valid_loss: 17.553353777026185\n"
          ]
        },
        {
          "output_type": "stream",
          "name": "stderr",
          "text": []
        },
        {
          "output_type": "stream",
          "name": "stdout",
          "text": [
            "EPOCH 45, train_loss: 174.78479931054525, valid_loss: 19.563684869520735\n"
          ]
        },
        {
          "output_type": "stream",
          "name": "stderr",
          "text": []
        },
        {
          "output_type": "stream",
          "name": "stdout",
          "text": [
            "EPOCH 50, train_loss: 173.91198830678238, valid_loss: 15.070703501748566\n"
          ]
        },
        {
          "output_type": "stream",
          "name": "stderr",
          "text": []
        },
        {
          "output_type": "stream",
          "name": "stdout",
          "text": [
            "EPOCH 55, train_loss: 173.08589094048304, valid_loss: 14.974342454778085\n"
          ]
        }
      ]
    },
    {
      "cell_type": "code",
      "source": [
        "def plot(histories):\n",
        "  plt.figure(figsize=(16,10))\n",
        "  for name, val_loss in histories:\n",
        "    plt.plot(val_loss, label=name)\n",
        "  plt.legend()"
      ],
      "metadata": {
        "id": "qgVe0pNwMbz-"
      },
      "execution_count": null,
      "outputs": []
    },
    {
      "cell_type": "code",
      "source": [
        "\n",
        "plot([('SGD, Standard Scaler, dropout (0.2), lr = 0.01, batch size = 256, epochs = 55', valid_loss_values)])"
      ],
      "metadata": {
        "colab": {
          "base_uri": "https://localhost:8080/",
          "height": 810
        },
        "id": "grUwK15dMf06",
        "outputId": "658f8e4d-8a16-476b-cee6-3337e3d97b55"
      },
      "execution_count": null,
      "outputs": [
        {
          "output_type": "display_data",
          "data": {
            "text/plain": [
              "<Figure size 1600x1000 with 1 Axes>"
            ],
            "image/png": "[encoded data removed]"
          },
          "metadata": {}
        }
      ]
    },
    {
      "cell_type": "markdown",
      "source": [
        "\n",
        "# **Попытка 1.2**\n",
        "\n",
        "# **SGD + MinMax Scaler**"
      ],
      "metadata": {
        "id": "JZCfLjSvuw-n"
      }
    },
    {
      "cell_type": "code",
      "source": [
        "# На третьей попытке мне надоело копировать код, единственное, что я поменяла , - это поставила печать потерь каждые 3 эпохи\n",
        "input_size = 90 #входной слой\n",
        "hidden_size = 30 # размер первого скрытого слоя\n",
        "hidden_size_2 = 30 # размер второго скрытого слоя\n",
        "output_size = 1 # размер вызодного слоя\n",
        "batch_size = 256 # установлю значение по рекомендованным\n",
        "epochs = 50 #сколько раз мы прогоним нашу модель за все обучение\n",
        "learning_rate = 0.001"
      ],
      "metadata": {
        "id": "AIrDhYOsu-6R"
      },
      "execution_count": null,
      "outputs": []
    },
    {
      "cell_type": "code",
      "source": [
        "torch.manual_seed(42) # закончилась gpu, пусть учится на cpu"
      ],
      "metadata": {
        "colab": {
          "base_uri": "https://localhost:8080/"
        },
        "id": "CyHsWkDSxF2R",
        "outputId": "b4b7bee2-4389-4c22-a109-d4014be0c326"
      },
      "execution_count": null,
      "outputs": [
        {
          "output_type": "execute_result",
          "data": {
            "text/plain": [
              "<torch._C.Generator at 0x7af9522fba70>"
            ]
          },
          "metadata": {},
          "execution_count": 10
        }
      ]
    },
    {
      "cell_type": "code",
      "source": [
        "# Установить seed\n",
        "#torch.cuda.manual_seed(42)  #  GPU"
      ],
      "metadata": {
        "id": "A9wSflL6vFvx"
      },
      "execution_count": null,
      "outputs": []
    },
    {
      "cell_type": "code",
      "source": [
        "# функция для датасета (формирование батча данных)\n",
        "def create_data_loader(X_train, y_train, X_test, y_test): # данные табличные, поэтому берем x_train, t_test и превращаем в матрицу\n",
        "    train_tensor = data_utils.TensorDataset(torch.tensor(X_train.astype(np.float32)), torch.tensor(y_train))\n",
        "    train_loader = data_utils.DataLoader(dataset=train_tensor, # создает из датасета итератор\n",
        "                                         batch_size=batch_size,\n",
        "                                         shuffle=True)\n",
        "\n",
        "    test_tensor = data_utils.TensorDataset(torch.tensor(X_test.astype(np.float32)), torch.tensor(y_test))\n",
        "    test_loader = data_utils.DataLoader(dataset=test_tensor,\n",
        "                                        batch_size=batch_size,\n",
        "                                        shuffle=False)\n",
        "    return train_loader, test_loader"
      ],
      "metadata": {
        "id": "dURkRiOZvI0D"
      },
      "execution_count": null,
      "outputs": []
    },
    {
      "cell_type": "code",
      "source": [
        "from sklearn.preprocessing import MinMaxScaler\n",
        "import torch.nn as nn\n",
        "# Использую MinMaxScaler\n",
        "scaler = MinMaxScaler()\n",
        "# Масштабируем обучающую выборку\n",
        "X_train_scaled = scaler.fit_transform(X_train)\n",
        "# Масштабируем тестовую выборку (используя параметры, обученные на обучающей выборке)\n",
        "X_test_scaled = scaler.transform(X_test)\n",
        "train_loader, test_loader = create_data_loader(X_train_scaled, y_train, X_test_scaled, y_test)"
      ],
      "metadata": {
        "id": "y6ZIiWgRucvO"
      },
      "execution_count": null,
      "outputs": []
    },
    {
      "cell_type": "code",
      "source": [
        "# уберу dropout\n",
        "class SonarModel3(nn.Module):\n",
        "    def __init__(self, input_size, hidden_size, hidden_size_2, output_size):\n",
        "        super().__init__()\n",
        "        self.layer1 = nn.Linear(in_features=input_size, out_features=hidden_size)\n",
        "        self.batchnorm1 = nn.BatchNorm1d(hidden_size)\n",
        "        self.act1 = nn.ReLU()\n",
        "        #self.dropout1 = nn.Dropout(0.2)\n",
        "        self.layer2 = nn.Linear(in_features=hidden_size, out_features=hidden_size_2)\n",
        "        self.batchnorm2 = nn.BatchNorm1d(hidden_size_2)\n",
        "        self.act2 = nn.ReLU()\n",
        "        #self.dropout2 = nn.Dropout(0.2)\n",
        "        self.output = nn.Linear(in_features=hidden_size_2, out_features=output_size)\n",
        "\n",
        "    def forward(self, x):\n",
        "        x = self.act1(self.layer1(x))\n",
        "        x = self.batchnorm1(x)\n",
        "        #x = self.dropout1(x)\n",
        "        x = self.act2(self.layer2(x))\n",
        "        x = self.batchnorm2(x)\n",
        "        #x = self.dropout2(x)\n",
        "        x = self.output(x)\n",
        "        return x"
      ],
      "metadata": {
        "id": "2womrxOxvN2p"
      },
      "execution_count": null,
      "outputs": []
    },
    {
      "cell_type": "code",
      "source": [
        "from tqdm import tqdm # добавлю для отображения прогресса, это будет гораздо удобнее, чем видеть пустоту и не понимать, что происходит\n",
        "def run_train(model, optimizer, criterion, train_loader, test_loader, epochs, scheduler=None):\n",
        "    train_loss_values = []\n",
        "    valid_loss_values = []\n",
        "\n",
        "    for epoch in range(epochs):\n",
        "        model.train()\n",
        "        running_loss = []\n",
        "\n",
        "        # Прогресс-бар\n",
        "        progress_bar = tqdm(train_loader, desc=f'Epoch {epoch + 1}/{epochs}', leave=False)\n",
        "\n",
        "        for features, label in progress_bar:\n",
        "            optimizer.zero_grad()\n",
        "\n",
        "            output = model(features)\n",
        "            label = label.float().unsqueeze(1)\n",
        "\n",
        "            loss = torch.sqrt(criterion(output, label))\n",
        "            loss.backward()\n",
        "\n",
        "            optimizer.step()\n",
        "\n",
        "            running_loss.append(loss.item())\n",
        "\n",
        "            # Обновление прогресс-бара\n",
        "            progress_bar.set_postfix(train_loss=np.mean(running_loss))\n",
        "\n",
        "        train_loss_values.append(np.mean(running_loss))\n",
        "\n",
        "        # Валидация\n",
        "        model.eval()\n",
        "        running_val_loss = []\n",
        "        with torch.no_grad():\n",
        "            for features, label in test_loader:\n",
        "                output = model(features)\n",
        "                label = label.float().unsqueeze(1)\n",
        "\n",
        "                loss = torch.sqrt(criterion(output, label))\n",
        "                running_val_loss.append(loss.item())\n",
        "\n",
        "        valid_loss_values.append(np.mean(running_val_loss))\n",
        "\n",
        "        # Обновление прогресс-бара с потерями\n",
        "        progress_bar.set_postfix(train_loss=train_loss_values[-1], valid_loss=valid_loss_values[-1])\n",
        "\n",
        "        # Печать потерь каждые 10 эпох\n",
        "        if (epoch + 1) % 5 == 0:\n",
        "            print(f'EPOCH {epoch + 1}, train_loss: {train_loss_values[-1]}, valid_loss: {valid_loss_values[-1]}')\n",
        "\n",
        "        if scheduler is not None:\n",
        "            scheduler.step()\n",
        "\n",
        "    return train_loss_values, valid_loss_values"
      ],
      "metadata": {
        "id": "QB1EJ50NvU8Z"
      },
      "execution_count": null,
      "outputs": []
    },
    {
      "cell_type": "code",
      "source": [
        "# SGD - Стохастический градиентный спуск\n",
        "model3 = SonarModel3(input_size=input_size, hidden_size=hidden_size, hidden_size_2=hidden_size_2, output_size=output_size) # инициальзируем и модель, и веса\n",
        "# инициализирую SGD optimizer\n",
        "optimizer = optim.SGD(model3.parameters(), lr=learning_rate, momentum=0.9, nesterov=True) # SGD\n",
        "# инициализирую Loss function (функцию потерь)\n",
        "criterion = nn.MSELoss() #бинарная классификация\n",
        "# запускаю процесс обучения\n",
        "train_loss_values, valid_loss_values = run_train(model3, optimizer=optimizer, criterion=criterion, train_loader=train_loader, test_loader=test_loader, epochs=epochs)"
      ],
      "metadata": {
        "colab": {
          "base_uri": "https://localhost:8080/"
        },
        "id": "NLRoBZ1vvbBf",
        "outputId": "3f2dd4e3-290e-4c05-9d04-1e915a1cc483"
      },
      "execution_count": null,
      "outputs": [
        {
          "output_type": "stream",
          "name": "stderr",
          "text": []
        },
        {
          "output_type": "stream",
          "name": "stdout",
          "text": [
            "EPOCH 5, train_loss: 8.979540725943794, valid_loss: 8.948491242852542\n"
          ]
        },
        {
          "output_type": "stream",
          "name": "stderr",
          "text": []
        },
        {
          "output_type": "stream",
          "name": "stdout",
          "text": [
            "EPOCH 10, train_loss: 8.929967459463915, valid_loss: 8.797799367715816\n"
          ]
        },
        {
          "output_type": "stream",
          "name": "stderr",
          "text": []
        },
        {
          "output_type": "stream",
          "name": "stdout",
          "text": [
            "EPOCH 15, train_loss: 8.899714403857722, valid_loss: 8.602554569149962\n"
          ]
        },
        {
          "output_type": "stream",
          "name": "stderr",
          "text": []
        },
        {
          "output_type": "stream",
          "name": "stdout",
          "text": [
            "EPOCH 20, train_loss: 8.899422077153693, valid_loss: 8.816795257058475\n"
          ]
        },
        {
          "output_type": "stream",
          "name": "stderr",
          "text": []
        },
        {
          "output_type": "stream",
          "name": "stdout",
          "text": [
            "EPOCH 25, train_loss: 8.905097401694746, valid_loss: 8.712227828431837\n"
          ]
        },
        {
          "output_type": "stream",
          "name": "stderr",
          "text": []
        },
        {
          "output_type": "stream",
          "name": "stdout",
          "text": [
            "EPOCH 30, train_loss: 8.884428761915919, valid_loss: 8.563890962317439\n"
          ]
        },
        {
          "output_type": "stream",
          "name": "stderr",
          "text": []
        },
        {
          "output_type": "stream",
          "name": "stdout",
          "text": [
            "EPOCH 35, train_loss: 8.873804056618123, valid_loss: 8.56614087831856\n"
          ]
        },
        {
          "output_type": "stream",
          "name": "stderr",
          "text": []
        },
        {
          "output_type": "stream",
          "name": "stdout",
          "text": [
            "EPOCH 40, train_loss: 8.86058936240131, valid_loss: 8.523388770547244\n"
          ]
        },
        {
          "output_type": "stream",
          "name": "stderr",
          "text": []
        },
        {
          "output_type": "stream",
          "name": "stdout",
          "text": [
            "EPOCH 45, train_loss: 8.8698170485086, valid_loss: 8.590407220443877\n"
          ]
        },
        {
          "output_type": "stream",
          "name": "stderr",
          "text": []
        },
        {
          "output_type": "stream",
          "name": "stdout",
          "text": [
            "EPOCH 50, train_loss: 8.859761294676504, valid_loss: 8.591843250954506\n"
          ]
        }
      ]
    },
    {
      "cell_type": "code",
      "source": [
        "def plot(histories):\n",
        "  plt.figure(figsize=(16,10))\n",
        "  for name, val_loss in histories:\n",
        "    plt.plot(val_loss, label=name)\n",
        "  plt.legend()"
      ],
      "metadata": {
        "id": "5bzK96W1wDmj"
      },
      "execution_count": null,
      "outputs": []
    },
    {
      "cell_type": "code",
      "source": [
        "plot([('SGD, MinMax Scaler, no dropout, lr = 0.001, batch size = 256, epochs = 50', valid_loss_values)])"
      ],
      "metadata": {
        "colab": {
          "base_uri": "https://localhost:8080/",
          "height": 816
        },
        "id": "C8aAJfrCwEBr",
        "outputId": "d1f08153-e137-47de-9635-9f1588139a69"
      },
      "execution_count": null,
      "outputs": [
        {
          "output_type": "display_data",
          "data": {
            "text/plain": [
              "<Figure size 1600x1000 with 1 Axes>"
            ],
            "image/png": "[encoded data removed]"
          },
          "metadata": {}
        }
      ]
    },
    {
      "cell_type": "markdown",
      "source": [
        "\n",
        "# **Попытка №2**\n"
      ],
      "metadata": {
        "id": "S76Su3OuwkVV"
      }
    },
    {
      "cell_type": "markdown",
      "source": [
        "\n",
        "# **Adam + Standard Scaler**"
      ],
      "metadata": {
        "id": "Yg0m3LPbYSIG"
      }
    },
    {
      "cell_type": "code",
      "source": [
        "input_size = 90 #входной слой\n",
        "hidden_size = 45 # размер скрытого слоя\n",
        "hidden_size_2 = 45\n",
        "output_size = 1 # размер вызодного слоя\n",
        "batch_size = 256 # размер матрицы, которая лежит в X\n",
        "epochs = 50 #сколько раз мы прогоним нашу модель за все обучение\n",
        "learning_rate = 0.0001"
      ],
      "metadata": {
        "id": "QeImD6C0wrsZ"
      },
      "execution_count": null,
      "outputs": []
    },
    {
      "cell_type": "code",
      "source": [
        "# Установить seed\n",
        "torch.cuda.manual_seed(42)"
      ],
      "metadata": {
        "id": "iwNOk_OZwsZT"
      },
      "execution_count": null,
      "outputs": []
    },
    {
      "cell_type": "code",
      "source": [
        "# функция для датасета (формирование батча данных)\n",
        "def create_data_loader(X_train, y_train, X_test, y_test): # данные табличные, поэтому берем x_train, t_test и превращаем в матрицу\n",
        "    train_tensor = data_utils.TensorDataset(torch.tensor(X_train.astype(np.float32)), torch.tensor(y_train))\n",
        "    train_loader = data_utils.DataLoader(dataset=train_tensor, # создает из датасета итератор\n",
        "                                         batch_size=batch_size,\n",
        "                                         shuffle=True)\n",
        "\n",
        "    test_tensor = data_utils.TensorDataset(torch.tensor(X_test.astype(np.float32)), torch.tensor(y_test))\n",
        "    test_loader = data_utils.DataLoader(dataset=test_tensor,\n",
        "                                        batch_size=batch_size,\n",
        "                                        shuffle=False)\n",
        "    return train_loader, test_loader"
      ],
      "metadata": {
        "id": "IdUaFsRES-wf"
      },
      "execution_count": null,
      "outputs": []
    },
    {
      "cell_type": "code",
      "source": [
        "# Стандартизирую данные\n",
        "scaler = StandardScaler()\n",
        "X_train_scaled = scaler.fit_transform(X_train)\n",
        "X_test_scaled = scaler.transform(X_test)\n",
        "train_loader, test_loader = create_data_loader(X_train_scaled, y_train, X_test_scaled, y_test)"
      ],
      "metadata": {
        "id": "LvZxfZnoS63L"
      },
      "execution_count": null,
      "outputs": []
    },
    {
      "cell_type": "code",
      "source": [
        "class SonarModel4(nn.Module):\n",
        "    def __init__(self, input_size, hidden_size, hidden_size_2, output_size):\n",
        "        super().__init__()\n",
        "        self.layer1 = nn.Linear(in_features=input_size, out_features=hidden_size)\n",
        "        self.batchnorm1 = nn.BatchNorm1d(hidden_size)\n",
        "        self.act1 = nn.ReLU()\n",
        "        #self.dropout1 = nn.Dropout(0.2)\n",
        "        self.layer2 = nn.Linear(in_features=hidden_size, out_features=hidden_size_2)\n",
        "        self.batchnorm2 = nn.BatchNorm1d(hidden_size_2)\n",
        "        self.act2 = nn.ReLU()\n",
        "        #self.dropout2 = nn.Dropout(0.2)\n",
        "        self.output = nn.Linear(in_features=hidden_size_2, out_features=output_size)\n",
        "\n",
        "    def forward(self, x):\n",
        "        x = self.act1(self.layer1(x))\n",
        "        x = self.batchnorm1(x)\n",
        "        #x = self.dropout1(x)\n",
        "        x = self.act2(self.layer2(x))\n",
        "        x = self.batchnorm2(x)\n",
        "        #x = self.dropout2(x)\n",
        "        x = self.output(x)\n",
        "        return x"
      ],
      "metadata": {
        "id": "41IF9bIN59jq"
      },
      "execution_count": null,
      "outputs": []
    },
    {
      "cell_type": "code",
      "source": [
        "from tqdm import tqdm\n",
        "def run_train(model, optimizer, criterion, train_loader, test_loader, epochs, scheduler=None):\n",
        "    train_loss_values = []\n",
        "    valid_loss_values = []\n",
        "\n",
        "    for epoch in range(epochs):\n",
        "        model.train()\n",
        "        running_loss = []\n",
        "\n",
        "        bar = tqdm(train_loader, desc=f'Epoch {epoch + 1}/{epochs}', leave=False)\n",
        "\n",
        "        for features, label in bar:\n",
        "            optimizer.zero_grad()\n",
        "\n",
        "            output = model(features)\n",
        "            label = label.float().unsqueeze(1)\n",
        "\n",
        "            loss = torch.sqrt(criterion(output, label))\n",
        "            loss.backward()\n",
        "\n",
        "            optimizer.step()\n",
        "\n",
        "            running_loss.append(loss.item())\n",
        "\n",
        "            # Обновление прогресс-бара\n",
        "            bar.set_postfix(train_loss=np.mean(running_loss))\n",
        "\n",
        "        train_loss_values.append(np.mean(running_loss))\n",
        "\n",
        "        # Валидация\n",
        "        model.eval()\n",
        "        running_val_loss = []\n",
        "        with torch.no_grad():\n",
        "            for features, label in test_loader:\n",
        "                output = model(features)\n",
        "                label = label.float().unsqueeze(1)\n",
        "\n",
        "                loss = torch.sqrt(criterion(output, label))\n",
        "                running_val_loss.append(loss.item())\n",
        "\n",
        "        valid_loss_values.append(np.mean(running_val_loss))\n",
        "\n",
        "        # Обновление прогресс-бара с потерями\n",
        "        bar.set_postfix(train_loss=train_loss_values[-1], valid_loss=valid_loss_values[-1])\n",
        "\n",
        "        # Печать потерь каждые 10 эпох\n",
        "        if (epoch + 1) % 5 == 0:\n",
        "            print(f'EPOCH {epoch + 1}, train_loss: {train_loss_values[-1]}, valid_loss: {valid_loss_values[-1]}')\n",
        "\n",
        "        if scheduler is not None:\n",
        "            scheduler.step()\n",
        "\n",
        "    return train_loss_values, valid_loss_values"
      ],
      "metadata": {
        "id": "xGL2AMh5w0IF"
      },
      "execution_count": null,
      "outputs": []
    },
    {
      "cell_type": "code",
      "source": [
        "model4 = SonarModel4(input_size=input_size, hidden_size=hidden_size, hidden_size_2=hidden_size_2, output_size=output_size)  # Инициализируем модель\n",
        "optimizer = torch.optim.Adam(model4.parameters(), lr=learning_rate, betas=(0.9, 0.999), eps=1e-08)  # Оптимизатор Adam, решила добавить eps для повышения числовой стабильности\n",
        "criterion = nn.MSELoss()\n",
        "train_loss_values, valid_loss_values = run_train(model4, optimizer=optimizer, criterion=criterion, train_loader=train_loader, test_loader=test_loader, epochs=epochs)"
      ],
      "metadata": {
        "colab": {
          "base_uri": "https://localhost:8080/"
        },
        "id": "FyEW0GWw4tfK",
        "outputId": "e1898030-d81e-4f11-8438-7defdc4c3340"
      },
      "execution_count": null,
      "outputs": [
        {
          "output_type": "stream",
          "name": "stderr",
          "text": []
        },
        {
          "output_type": "stream",
          "name": "stdout",
          "text": [
            "EPOCH 5, train_loss: 1947.172679909544, valid_loss: 1937.118996195274\n"
          ]
        },
        {
          "output_type": "stream",
          "name": "stderr",
          "text": []
        },
        {
          "output_type": "stream",
          "name": "stdout",
          "text": [
            "EPOCH 10, train_loss: 1810.826941618593, valid_loss: 1793.057140388111\n"
          ]
        },
        {
          "output_type": "stream",
          "name": "stderr",
          "text": []
        },
        {
          "output_type": "stream",
          "name": "stdout",
          "text": [
            "EPOCH 15, train_loss: 1596.9205273087189, valid_loss: 1571.5594760403774\n"
          ]
        },
        {
          "output_type": "stream",
          "name": "stderr",
          "text": []
        },
        {
          "output_type": "stream",
          "name": "stdout",
          "text": [
            "EPOCH 20, train_loss: 1306.6656510982555, valid_loss: 1273.4904658251469\n"
          ]
        },
        {
          "output_type": "stream",
          "name": "stderr",
          "text": []
        },
        {
          "output_type": "stream",
          "name": "stdout",
          "text": [
            "EPOCH 25, train_loss: 940.6897707301259, valid_loss: 900.0696435305151\n"
          ]
        },
        {
          "output_type": "stream",
          "name": "stderr",
          "text": []
        },
        {
          "output_type": "stream",
          "name": "stdout",
          "text": [
            "EPOCH 30, train_loss: 499.0969784801896, valid_loss: 451.13683281322517\n"
          ]
        },
        {
          "output_type": "stream",
          "name": "stderr",
          "text": []
        },
        {
          "output_type": "stream",
          "name": "stdout",
          "text": [
            "EPOCH 35, train_loss: 13.555441263758846, valid_loss: 8.61400320978448\n"
          ]
        },
        {
          "output_type": "stream",
          "name": "stderr",
          "text": []
        },
        {
          "output_type": "stream",
          "name": "stdout",
          "text": [
            "EPOCH 40, train_loss: 8.607655266525994, valid_loss: 8.56604542826662\n"
          ]
        },
        {
          "output_type": "stream",
          "name": "stderr",
          "text": []
        },
        {
          "output_type": "stream",
          "name": "stdout",
          "text": [
            "EPOCH 45, train_loss: 8.58750732108194, valid_loss: 8.539922164218261\n"
          ]
        },
        {
          "output_type": "stream",
          "name": "stderr",
          "text": []
        },
        {
          "output_type": "stream",
          "name": "stdout",
          "text": [
            "EPOCH 50, train_loss: 8.567155282228988, valid_loss: 8.553186862775595\n"
          ]
        }
      ]
    },
    {
      "cell_type": "code",
      "source": [
        "def plot(histories):\n",
        "  plt.figure(figsize=(16,10))\n",
        "  for name, val_loss in histories:\n",
        "    plt.plot(val_loss, label=name)\n",
        "  plt.legend()"
      ],
      "metadata": {
        "id": "nAvIzWMK73S1"
      },
      "execution_count": null,
      "outputs": []
    },
    {
      "cell_type": "code",
      "source": [
        "plot([('Adam, Standard Scaler, no dropout, lr = 0.0001, batch size = 256, epochs = 50', valid_loss_values)])"
      ],
      "metadata": {
        "colab": {
          "base_uri": "https://localhost:8080/",
          "height": 850
        },
        "id": "j6jbFP3Q79up",
        "outputId": "69f9c147-b5ac-47e9-d471-df2a4458e534"
      },
      "execution_count": null,
      "outputs": [
        {
          "output_type": "display_data",
          "data": {
            "text/plain": [
              "<Figure size 1600x1000 with 1 Axes>"
            ],
            "image/png": "[encoded data removed]"
          },
          "metadata": {}
        }
      ]
    },
    {
      "cell_type": "markdown",
      "source": [
        "\n",
        "# **Попытка №2.1**"
      ],
      "metadata": {
        "id": "13KRLGxsS_E3"
      }
    },
    {
      "cell_type": "markdown",
      "source": [
        "\n",
        "\n",
        "# **Adam + MinMax Scaler**"
      ],
      "metadata": {
        "id": "Nb-h1MO8YW5b"
      }
    },
    {
      "cell_type": "code",
      "source": [
        "input_size = 90 #входной слой\n",
        "hidden_size = 45 # размер скрытого слоя\n",
        "hidden_size_2 = 45\n",
        "output_size = 1 # размер вызодного слоя\n",
        "batch_size = 256 # размер матрицы, которая лежит в X\n",
        "epochs = 50 #сколько раз мы прогоним нашу модель за все обучение\n",
        "learning_rate = 0.0001"
      ],
      "metadata": {
        "id": "6h0j3XkVYcGX"
      },
      "execution_count": null,
      "outputs": []
    },
    {
      "cell_type": "code",
      "source": [
        "# Установить seed\n",
        "torch.cuda.manual_seed(42)"
      ],
      "metadata": {
        "id": "kZPq0uJgYfLQ"
      },
      "execution_count": null,
      "outputs": []
    },
    {
      "cell_type": "code",
      "source": [
        "# функция для датасета (формирование батча данных)\n",
        "def create_data_loader(X_train, y_train, X_test, y_test): # данные табличные, поэтому берем x_train, t_test и превращаем в матрицу\n",
        "    train_tensor = data_utils.TensorDataset(torch.tensor(X_train.astype(np.float32)), torch.tensor(y_train))\n",
        "    train_loader = data_utils.DataLoader(dataset=train_tensor, # создает из датасета итератор\n",
        "                                         batch_size=batch_size,\n",
        "                                         shuffle=True)\n",
        "\n",
        "    test_tensor = data_utils.TensorDataset(torch.tensor(X_test.astype(np.float32)), torch.tensor(y_test))\n",
        "    test_loader = data_utils.DataLoader(dataset=test_tensor,\n",
        "                                        batch_size=batch_size,\n",
        "                                        shuffle=False)\n",
        "    return train_loader, test_loader"
      ],
      "metadata": {
        "id": "0WoHXyPZYkB4"
      },
      "execution_count": null,
      "outputs": []
    },
    {
      "cell_type": "code",
      "source": [
        "from sklearn.preprocessing import MinMaxScaler\n",
        "import torch.nn as nn\n",
        "# Использую MinMaxScaler\n",
        "scaler = MinMaxScaler()\n",
        "# Масштабируем обучающую выборку\n",
        "X_train_scaled = scaler.fit_transform(X_train)\n",
        "# Масштабируем тестовую выборку (используя параметры, обученные на обучающей выборке)\n",
        "X_test_scaled = scaler.transform(X_test)\n",
        "train_loader, test_loader = create_data_loader(X_train_scaled, y_train, X_test_scaled, y_test)"
      ],
      "metadata": {
        "id": "QZDr8QGRYnTh"
      },
      "execution_count": null,
      "outputs": []
    },
    {
      "cell_type": "code",
      "source": [
        "# уберу dropout\n",
        "class SonarModel5(nn.Module):\n",
        "    def __init__(self, input_size, hidden_size, hidden_size_2, output_size):\n",
        "        super().__init__()\n",
        "        self.layer1 = nn.Linear(in_features=input_size, out_features=hidden_size)\n",
        "        self.batchnorm1 = nn.BatchNorm1d(hidden_size)\n",
        "        self.act1 = nn.ReLU()\n",
        "        #self.dropout1 = nn.Dropout(0.2)\n",
        "        self.layer2 = nn.Linear(in_features=hidden_size, out_features=hidden_size_2)\n",
        "        self.batchnorm2 = nn.BatchNorm1d(hidden_size_2)\n",
        "        self.act2 = nn.ReLU()\n",
        "        #self.dropout2 = nn.Dropout(0.2)\n",
        "        self.output = nn.Linear(in_features=hidden_size_2, out_features=output_size)\n",
        "\n",
        "    def forward(self, x):\n",
        "        x = self.act1(self.layer1(x))\n",
        "        x = self.batchnorm1(x)\n",
        "        #x = self.dropout1(x)\n",
        "        x = self.act2(self.layer2(x))\n",
        "        x = self.batchnorm2(x)\n",
        "        #x = self.dropout2(x)\n",
        "        x = self.output(x)\n",
        "        return x"
      ],
      "metadata": {
        "id": "3NnYB9qvY577"
      },
      "execution_count": null,
      "outputs": []
    },
    {
      "cell_type": "code",
      "source": [
        "from tqdm import tqdm\n",
        "def run_train(model, optimizer, criterion, train_loader, test_loader, epochs, scheduler=None):\n",
        "    train_loss_values = []\n",
        "    valid_loss_values = []\n",
        "\n",
        "    for epoch in range(epochs):\n",
        "        model.train()\n",
        "        running_loss = []\n",
        "\n",
        "        bar = tqdm(train_loader, desc=f'Epoch {epoch + 1}/{epochs}', leave=False)\n",
        "\n",
        "        for features, label in bar:\n",
        "            optimizer.zero_grad()\n",
        "\n",
        "            output = model(features)\n",
        "            label = label.float().unsqueeze(1)\n",
        "\n",
        "            loss = torch.sqrt(criterion(output, label))\n",
        "            loss.backward()\n",
        "\n",
        "            optimizer.step()\n",
        "\n",
        "            running_loss.append(loss.item())\n",
        "\n",
        "            # Обновление прогресс-бара\n",
        "            bar.set_postfix(train_loss=np.mean(running_loss))\n",
        "\n",
        "        train_loss_values.append(np.mean(running_loss))\n",
        "\n",
        "        # Валидация\n",
        "        model.eval()\n",
        "        running_val_loss = []\n",
        "        with torch.no_grad():\n",
        "            for features, label in test_loader:\n",
        "                output = model(features)\n",
        "                label = label.float().unsqueeze(1)\n",
        "\n",
        "                loss = torch.sqrt(criterion(output, label))\n",
        "                running_val_loss.append(loss.item())\n",
        "\n",
        "        valid_loss_values.append(np.mean(running_val_loss))\n",
        "\n",
        "        # Обновление прогресс-бара с потерями\n",
        "        bar.set_postfix(train_loss=train_loss_values[-1], valid_loss=valid_loss_values[-1])\n",
        "\n",
        "        # Печать потерь каждые 10 эпох\n",
        "        if (epoch + 1) % 5 == 0:\n",
        "            print(f'EPOCH {epoch + 1}, train_loss: {train_loss_values[-1]}, valid_loss: {valid_loss_values[-1]}')\n",
        "\n",
        "        if scheduler is not None:\n",
        "            scheduler.step()\n",
        "\n",
        "    return train_loss_values, valid_loss_values"
      ],
      "metadata": {
        "id": "7iqEiXRmY_3H"
      },
      "execution_count": null,
      "outputs": []
    },
    {
      "cell_type": "code",
      "source": [
        "model5 = SonarModel5(input_size=input_size, hidden_size=hidden_size, hidden_size_2=hidden_size_2, output_size=output_size)  # Инициализируем модель\n",
        "optimizer = torch.optim.Adam(model5.parameters(), lr=learning_rate, betas=(0.9, 0.999), eps=1e-08)  # Оптимизатор Adam, решила добавить eps для повышения числовой стабильности\n",
        "criterion = nn.MSELoss()\n",
        "train_loss_values, valid_loss_values = run_train(model5, optimizer=optimizer, criterion=criterion, train_loader=train_loader, test_loader=test_loader, epochs=epochs)"
      ],
      "metadata": {
        "colab": {
          "base_uri": "https://localhost:8080/"
        },
        "id": "B55jmjN7ZDGm",
        "outputId": "8212be7b-83f6-4b69-e9a7-9728371c2e20"
      },
      "execution_count": null,
      "outputs": [
        {
          "output_type": "stream",
          "name": "stderr",
          "text": []
        },
        {
          "output_type": "stream",
          "name": "stdout",
          "text": [
            "EPOCH 5, train_loss: 1947.1943073735858, valid_loss: 1937.557336184058\n"
          ]
        },
        {
          "output_type": "stream",
          "name": "stderr",
          "text": []
        },
        {
          "output_type": "stream",
          "name": "stdout",
          "text": [
            "EPOCH 10, train_loss: 1810.9737801457084, valid_loss: 1793.5198448861\n"
          ]
        },
        {
          "output_type": "stream",
          "name": "stderr",
          "text": []
        },
        {
          "output_type": "stream",
          "name": "stdout",
          "text": [
            "EPOCH 15, train_loss: 1597.1905101245602, valid_loss: 1571.6886699412128\n"
          ]
        },
        {
          "output_type": "stream",
          "name": "stderr",
          "text": []
        },
        {
          "output_type": "stream",
          "name": "stdout",
          "text": [
            "EPOCH 20, train_loss: 1307.0562133789062, valid_loss: 1274.8497000212717\n"
          ]
        },
        {
          "output_type": "stream",
          "name": "stderr",
          "text": []
        },
        {
          "output_type": "stream",
          "name": "stdout",
          "text": [
            "EPOCH 25, train_loss: 941.2011184187124, valid_loss: 899.9424541209004\n"
          ]
        },
        {
          "output_type": "stream",
          "name": "stderr",
          "text": []
        },
        {
          "output_type": "stream",
          "name": "stdout",
          "text": [
            "EPOCH 30, train_loss: 499.72663916446777, valid_loss: 450.1980143632039\n"
          ]
        },
        {
          "output_type": "stream",
          "name": "stderr",
          "text": []
        },
        {
          "output_type": "stream",
          "name": "stdout",
          "text": [
            "EPOCH 35, train_loss: 13.911922966933934, valid_loss: 8.62714949456772\n"
          ]
        },
        {
          "output_type": "stream",
          "name": "stderr",
          "text": []
        },
        {
          "output_type": "stream",
          "name": "stdout",
          "text": [
            "EPOCH 40, train_loss: 8.822176171980683, valid_loss: 8.722042860371051\n"
          ]
        },
        {
          "output_type": "stream",
          "name": "stderr",
          "text": []
        },
        {
          "output_type": "stream",
          "name": "stdout",
          "text": [
            "EPOCH 45, train_loss: 8.829155609044545, valid_loss: 8.668377045357582\n"
          ]
        },
        {
          "output_type": "stream",
          "name": "stderr",
          "text": []
        },
        {
          "output_type": "stream",
          "name": "stdout",
          "text": [
            "EPOCH 50, train_loss: 8.810142337618021, valid_loss: 8.63560423992648\n"
          ]
        }
      ]
    },
    {
      "cell_type": "code",
      "source": [
        "def plot(histories):\n",
        "  plt.figure(figsize=(16,10))\n",
        "  for name, val_loss in histories:\n",
        "    plt.plot(val_loss, label=name)\n",
        "  plt.legend()"
      ],
      "metadata": {
        "id": "TXSK78Gja28y"
      },
      "execution_count": null,
      "outputs": []
    },
    {
      "cell_type": "code",
      "source": [
        "plot([('Adam, MinMax Scaler, no dropout, lr = 0.0001, batch size = 256, epochs = 50', valid_loss_values)])"
      ],
      "metadata": {
        "colab": {
          "base_uri": "https://localhost:8080/",
          "height": 808
        },
        "id": "MptUn5_va6Mk",
        "outputId": "b1cd9c0e-acc2-4fbd-a99d-c91281f8fb59"
      },
      "execution_count": null,
      "outputs": [
        {
          "output_type": "display_data",
          "data": {
            "text/plain": [
              "<Figure size 1600x1000 with 1 Axes>"
            ],
            "image/png": "[encoded data removed]"
          },
          "metadata": {}
        }
      ]
    },
    {
      "cell_type": "markdown",
      "source": [
        "\n",
        "# **С использованием dropout**"
      ],
      "metadata": {
        "id": "YVMQ3ob8g4vU"
      }
    },
    {
      "cell_type": "code",
      "source": [
        "# добавлю dropout, чтобы предотвратить переобучение\n",
        "# уберу dropout\n",
        "class SonarModel6(nn.Module):\n",
        "    def __init__(self, input_size, hidden_size, hidden_size_2, output_size):\n",
        "        super().__init__()\n",
        "        self.layer1 = nn.Linear(in_features=input_size, out_features=hidden_size)\n",
        "        self.batchnorm1 = nn.BatchNorm1d(hidden_size)\n",
        "        self.act1 = nn.ReLU()\n",
        "        self.dropout1 = nn.Dropout(0.2)\n",
        "        self.layer2 = nn.Linear(in_features=hidden_size, out_features=hidden_size_2)\n",
        "        self.batchnorm2 = nn.BatchNorm1d(hidden_size_2)\n",
        "        self.act2 = nn.ReLU()\n",
        "        self.dropout2 = nn.Dropout(0.2)\n",
        "        self.output = nn.Linear(in_features=hidden_size_2, out_features=output_size)\n",
        "\n",
        "    def forward(self, x):\n",
        "        x = self.act1(self.layer1(x))\n",
        "        x = self.batchnorm1(x)\n",
        "        x = self.dropout1(x)\n",
        "        x = self.act2(self.layer2(x))\n",
        "        x = self.batchnorm2(x)\n",
        "        x = self.dropout2(x)\n",
        "        x = self.output(x)\n",
        "        return x"
      ],
      "metadata": {
        "id": "xbcUxlTvcre7"
      },
      "execution_count": null,
      "outputs": []
    },
    {
      "cell_type": "code",
      "source": [
        "# и уберу betas\n",
        "model6 = SonarModel6(input_size=input_size, hidden_size=hidden_size, hidden_size_2=hidden_size_2, output_size=output_size)  # Инициализируем модель\n",
        "optimizer = torch.optim.Adam(model6.parameters(), lr=learning_rate, eps=1e-08)  # Оптимизатор Adam, решила добавить eps для повышения числовой стабильности\n",
        "criterion = nn.MSELoss()\n",
        "train_loss_values, valid_loss_values = run_train(model6, optimizer=optimizer, criterion=criterion, train_loader=train_loader, test_loader=test_loader, epochs=epochs)"
      ],
      "metadata": {
        "colab": {
          "base_uri": "https://localhost:8080/"
        },
        "id": "6jx__t0cc1ZZ",
        "outputId": "afcfaadf-9760-4fc3-830b-ad2600f045a2"
      },
      "execution_count": null,
      "outputs": [
        {
          "output_type": "stream",
          "name": "stderr",
          "text": []
        },
        {
          "output_type": "stream",
          "name": "stdout",
          "text": [
            "EPOCH 5, train_loss: 1949.4942008517435, valid_loss: 1940.262129679765\n"
          ]
        },
        {
          "output_type": "stream",
          "name": "stderr",
          "text": []
        },
        {
          "output_type": "stream",
          "name": "stdout",
          "text": [
            "EPOCH 10, train_loss: 1815.4934556300013, valid_loss: 1798.3208116588025\n"
          ]
        },
        {
          "output_type": "stream",
          "name": "stderr",
          "text": []
        },
        {
          "output_type": "stream",
          "name": "stdout",
          "text": [
            "EPOCH 15, train_loss: 1604.192099868067, valid_loss: 1579.4701501827428\n"
          ]
        },
        {
          "output_type": "stream",
          "name": "stderr",
          "text": []
        },
        {
          "output_type": "stream",
          "name": "stdout",
          "text": [
            "EPOCH 20, train_loss: 1317.189851672444, valid_loss: 1284.8058719446162\n"
          ]
        },
        {
          "output_type": "stream",
          "name": "stderr",
          "text": []
        },
        {
          "output_type": "stream",
          "name": "stdout",
          "text": [
            "EPOCH 25, train_loss: 955.9778054344733, valid_loss: 913.5368190047765\n"
          ]
        },
        {
          "output_type": "stream",
          "name": "stderr",
          "text": []
        },
        {
          "output_type": "stream",
          "name": "stdout",
          "text": [
            "EPOCH 30, train_loss: 527.3638310211384, valid_loss: 468.2288560017501\n"
          ]
        },
        {
          "output_type": "stream",
          "name": "stderr",
          "text": []
        },
        {
          "output_type": "stream",
          "name": "stdout",
          "text": [
            "EPOCH 35, train_loss: 155.67980733875672, valid_loss: 29.15267337194764\n"
          ]
        },
        {
          "output_type": "stream",
          "name": "stderr",
          "text": []
        },
        {
          "output_type": "stream",
          "name": "stdout",
          "text": [
            "EPOCH 40, train_loss: 148.71883684541478, valid_loss: 15.300063940558102\n"
          ]
        },
        {
          "output_type": "stream",
          "name": "stderr",
          "text": []
        },
        {
          "output_type": "stream",
          "name": "stdout",
          "text": [
            "EPOCH 45, train_loss: 148.6937147018399, valid_loss: 14.620462653660539\n"
          ]
        },
        {
          "output_type": "stream",
          "name": "stderr",
          "text": []
        },
        {
          "output_type": "stream",
          "name": "stdout",
          "text": [
            "EPOCH 50, train_loss: 148.4228360973973, valid_loss: 15.928611354072496\n"
          ]
        }
      ]
    },
    {
      "cell_type": "code",
      "source": [
        "def plot(histories):\n",
        "  plt.figure(figsize=(16,10))\n",
        "  for name, val_loss in histories:\n",
        "    plt.plot(val_loss, label=name)\n",
        "  plt.legend()"
      ],
      "metadata": {
        "id": "kmBfJCSUggVG"
      },
      "execution_count": null,
      "outputs": []
    },
    {
      "cell_type": "code",
      "source": [
        "plot([('Adam, MinMax Scaler, dropout (0.2), lr = 0.0001, batch size = 256, epochs = 50', valid_loss_values)])"
      ],
      "metadata": {
        "colab": {
          "base_uri": "https://localhost:8080/",
          "height": 850
        },
        "id": "InBJZEnQgi8h",
        "outputId": "10c4547f-35cf-4967-8670-b6742a3168d7"
      },
      "execution_count": null,
      "outputs": [
        {
          "output_type": "display_data",
          "data": {
            "text/plain": [
              "<Figure size 1600x1000 with 1 Axes>"
            ],
            "image/png": "[encoded data removed]"
          },
          "metadata": {}
        }
      ]
    },
    {
      "cell_type": "markdown",
      "source": [
        "\n",
        "# **Попытка №3**\n",
        "\n",
        "**AdamW + MinMax Scaler**"
      ],
      "metadata": {
        "id": "QrDId3rDPyYZ"
      }
    },
    {
      "cell_type": "code",
      "source": [
        "# Использую AdamW Optimizer, считается, что он сходится быстрее + использую еще один слой"
      ],
      "metadata": {
        "id": "65XyuDBaQRe8"
      },
      "execution_count": null,
      "outputs": []
    },
    {
      "cell_type": "code",
      "source": [
        "# На третьей попытке мне надоело копировать код, единственное, что я поменяла , - это поставила печать потерь каждые 3 эпохи\n",
        "input_size = 90 #входной слой\n",
        "hidden_size_1 = 90 # размер скрытого слоя\n",
        "hidden_size_2 = 30\n",
        "hidden_size_3 = 30\n",
        "output_size = 1 # размер вызодного слоя\n",
        "batch_size = 256 # установлю значение по рекомендованным\n",
        "epochs = 50 #сколько раз мы прогоним нашу модель за все обучение\n",
        "learning_rate = 0.0001"
      ],
      "metadata": {
        "id": "3qHDjLJ6Ql8K"
      },
      "execution_count": null,
      "outputs": []
    },
    {
      "cell_type": "code",
      "source": [
        "torch.manual_seed(42)"
      ],
      "metadata": {
        "colab": {
          "base_uri": "https://localhost:8080/"
        },
        "id": "XLoP8WcvRhKM",
        "outputId": "38cc5b63-06a5-447b-c70e-6cbd72e14560"
      },
      "execution_count": null,
      "outputs": [
        {
          "output_type": "execute_result",
          "data": {
            "text/plain": [
              "<torch._C.Generator at 0x7af9522fba70>"
            ]
          },
          "metadata": {},
          "execution_count": 29
        }
      ]
    },
    {
      "cell_type": "code",
      "source": [
        "from sklearn.preprocessing import MinMaxScaler\n",
        "import torch.nn as nn\n",
        "# Использую MinMaxScaler\n",
        "scaler = MinMaxScaler()\n",
        "# Масштабируем обучающую выборку\n",
        "X_train_scaled = scaler.fit_transform(X_train)\n",
        "# Масштабируем тестовую выборку (используя параметры, обученные на обучающей выборке)\n",
        "X_test_scaled = scaler.transform(X_test)\n",
        "train_loader, test_loader = create_data_loader(X_train_scaled, y_train, X_test_scaled, y_test)"
      ],
      "metadata": {
        "id": "ZUtzrX974z6Z"
      },
      "execution_count": null,
      "outputs": []
    },
    {
      "cell_type": "code",
      "source": [
        "# Нормализация батча идет перед функцией активации\n",
        "class SonarModel7(nn.Module):\n",
        "    def __init__(self, input_size, hidden_size_1, hidden_size_2, hidden_size_3, output_size):\n",
        "        super().__init__()\n",
        "        self.layer1 = nn.Linear(in_features=input_size, out_features=hidden_size_1)\n",
        "        self.batchnorm1 = nn.BatchNorm1d(hidden_size_1)\n",
        "        self.act1 = nn.ReLU()\n",
        "        #self.dropout1 = nn.Dropout(0.2)\n",
        "        self.layer2 = nn.Linear(in_features=hidden_size_1, out_features=hidden_size_2)\n",
        "        self.batchnorm2 = nn.BatchNorm1d(hidden_size_2)\n",
        "        self.act2 = nn.ReLU()\n",
        "        #self.dropout2 = nn.Dropout(0.2)\n",
        "        self.layer3 = nn.Linear(in_features=hidden_size_2, out_features=hidden_size_3)\n",
        "        self.batchnorm3 = nn.BatchNorm1d(hidden_size_3)\n",
        "        self.act3 = nn.ReLU()\n",
        "        #self.dropout3 = nn.Dropout(0.2)\n",
        "        self.output = nn.Linear(in_features=hidden_size_3, out_features=output_size)\n",
        "\n",
        "    def forward(self, x):\n",
        "        x = self.act1(self.layer1(x))\n",
        "        x = self.batchnorm1(x)\n",
        "        #x = self.dropout1(x)\n",
        "        x = self.act2(self.layer2(x))\n",
        "        x = self.batchnorm2(x)\n",
        "        #x = self.dropout2(x)\n",
        "        x = self.act3(self.layer3(x))\n",
        "        x = self.batchnorm3(x)\n",
        "        #x = self.dropout3(x)\n",
        "        x = self.output(x)\n",
        "        return x"
      ],
      "metadata": {
        "id": "gjSCzG9cQzqy"
      },
      "execution_count": null,
      "outputs": []
    },
    {
      "cell_type": "code",
      "source": [
        "from tqdm import tqdm # добавлю для отображения прогресса, это будет гораздо удобнее, чем видеть пустоту и не понимать, что происходит\n",
        "def run_train(model, optimizer, criterion, train_loader, test_loader, epochs, scheduler=None):\n",
        "    train_loss_values = []\n",
        "    valid_loss_values = []\n",
        "\n",
        "    for epoch in range(epochs):\n",
        "        model.train()\n",
        "        running_loss = []\n",
        "\n",
        "        # Прогресс-бар\n",
        "        progress_bar = tqdm(train_loader, desc=f'Epoch {epoch + 1}/{epochs}', leave=False)\n",
        "\n",
        "        for features, label in progress_bar:\n",
        "            optimizer.zero_grad()\n",
        "\n",
        "            output = model(features)\n",
        "            label = label.float().unsqueeze(1)\n",
        "\n",
        "            loss = torch.sqrt(criterion(output, label))\n",
        "            loss.backward()\n",
        "\n",
        "            optimizer.step()\n",
        "\n",
        "            running_loss.append(loss.item())\n",
        "\n",
        "            # Обновление прогресс-бара\n",
        "            progress_bar.set_postfix(train_loss=np.mean(running_loss))\n",
        "\n",
        "        train_loss_values.append(np.mean(running_loss))\n",
        "\n",
        "        # Валидация\n",
        "        model.eval()\n",
        "        running_val_loss = []\n",
        "        with torch.no_grad():\n",
        "            for features, label in test_loader:\n",
        "                output = model(features)\n",
        "                label = label.float().unsqueeze(1)\n",
        "\n",
        "                loss = torch.sqrt(criterion(output, label))\n",
        "                running_val_loss.append(loss.item())\n",
        "\n",
        "        valid_loss_values.append(np.mean(running_val_loss))\n",
        "\n",
        "        # Обновление прогресс-бара с потерями\n",
        "        progress_bar.set_postfix(train_loss=train_loss_values[-1], valid_loss=valid_loss_values[-1])\n",
        "\n",
        "        # Печать потерь каждые 10 эпох\n",
        "        if (epoch + 1) % 5 == 0:\n",
        "            print(f'EPOCH {epoch + 1}, train_loss: {train_loss_values[-1]}, valid_loss: {valid_loss_values[-1]}')\n",
        "\n",
        "        if scheduler is not None:\n",
        "            scheduler.step()\n",
        "\n",
        "    return train_loss_values, valid_loss_values"
      ],
      "metadata": {
        "id": "oLsyNwXSRCKY"
      },
      "execution_count": null,
      "outputs": []
    },
    {
      "cell_type": "code",
      "source": [
        "model7 = SonarModel7(input_size=input_size, hidden_size_1=hidden_size_1, hidden_size_2=hidden_size_2, hidden_size_3=hidden_size_3, output_size=output_size)  # Инициализируем модель\n",
        "optimizer = torch.optim.AdamW(model7.parameters(), lr=learning_rate, betas=(0.9, 0.999), eps=1e-08)  # Оптимизатор AdamW\n",
        "criterion = nn.MSELoss()\n",
        "train_loss_values, valid_loss_values = run_train(model7, optimizer=optimizer, criterion=criterion, train_loader=train_loader, test_loader=test_loader, epochs=epochs)"
      ],
      "metadata": {
        "colab": {
          "base_uri": "https://localhost:8080/"
        },
        "id": "wn56AS3NRL9G",
        "outputId": "747b7342-a5fb-4bb3-c2e6-56962a2f5ebc"
      },
      "execution_count": null,
      "outputs": [
        {
          "output_type": "stream",
          "name": "stderr",
          "text": []
        },
        {
          "output_type": "stream",
          "name": "stdout",
          "text": [
            "EPOCH 5, train_loss: 1964.3869096027568, valid_loss: 1958.0984146571395\n"
          ]
        },
        {
          "output_type": "stream",
          "name": "stderr",
          "text": []
        },
        {
          "output_type": "stream",
          "name": "stdout",
          "text": [
            "EPOCH 10, train_loss: 1875.2253130982253, valid_loss: 1864.262595601601\n"
          ]
        },
        {
          "output_type": "stream",
          "name": "stderr",
          "text": []
        },
        {
          "output_type": "stream",
          "name": "stdout",
          "text": [
            "EPOCH 15, train_loss: 1737.5202896758158, valid_loss: 1721.746308883818\n"
          ]
        },
        {
          "output_type": "stream",
          "name": "stderr",
          "text": []
        },
        {
          "output_type": "stream",
          "name": "stdout",
          "text": [
            "EPOCH 20, train_loss: 1553.3963026168858, valid_loss: 1532.1535565971149\n"
          ]
        },
        {
          "output_type": "stream",
          "name": "stderr",
          "text": []
        },
        {
          "output_type": "stream",
          "name": "stdout",
          "text": [
            "EPOCH 25, train_loss: 1324.658096683999, valid_loss: 1298.7971288095607\n"
          ]
        },
        {
          "output_type": "stream",
          "name": "stderr",
          "text": []
        },
        {
          "output_type": "stream",
          "name": "stdout",
          "text": [
            "EPOCH 30, train_loss: 1052.5046976186318, valid_loss: 1023.5305429590811\n"
          ]
        },
        {
          "output_type": "stream",
          "name": "stderr",
          "text": []
        },
        {
          "output_type": "stream",
          "name": "stdout",
          "text": [
            "EPOCH 35, train_loss: 738.6115612510024, valid_loss: 705.3195096761873\n"
          ]
        },
        {
          "output_type": "stream",
          "name": "stderr",
          "text": []
        },
        {
          "output_type": "stream",
          "name": "stdout",
          "text": [
            "EPOCH 40, train_loss: 383.9401650670875, valid_loss: 346.37839258779394\n"
          ]
        },
        {
          "output_type": "stream",
          "name": "stderr",
          "text": []
        },
        {
          "output_type": "stream",
          "name": "stdout",
          "text": [
            "EPOCH 45, train_loss: 13.193852336727756, valid_loss: 8.707874295735124\n"
          ]
        },
        {
          "output_type": "stream",
          "name": "stderr",
          "text": []
        },
        {
          "output_type": "stream",
          "name": "stdout",
          "text": [
            "EPOCH 50, train_loss: 8.670765858612313, valid_loss: 8.566180104076272\n"
          ]
        }
      ]
    },
    {
      "cell_type": "code",
      "source": [
        "def plot(histories):\n",
        "  plt.figure(figsize=(16,10))\n",
        "  for name, val_loss in histories:\n",
        "    plt.plot(val_loss, label=name)\n",
        "  plt.legend()"
      ],
      "metadata": {
        "id": "xedKXD1UQdVM"
      },
      "execution_count": null,
      "outputs": []
    },
    {
      "cell_type": "code",
      "source": [
        "plot([('AdamW, MinMax Scaler, no dropout, lr = 0.0001, batch size = 256, epochs = 50', valid_loss_values)])"
      ],
      "metadata": {
        "colab": {
          "base_uri": "https://localhost:8080/",
          "height": 808
        },
        "id": "k1Fn0cgwYNZn",
        "outputId": "91cd6085-5510-405b-cc92-8fc7cd23994d"
      },
      "execution_count": null,
      "outputs": [
        {
          "output_type": "display_data",
          "data": {
            "text/plain": [
              "<Figure size 1600x1000 with 1 Axes>"
            ],
            "image/png": "[encoded data removed]"
          },
          "metadata": {}
        }
      ]
    },
    {
      "cell_type": "markdown",
      "source": [
        "\n",
        "# **Попытка № 3.1**"
      ],
      "metadata": {
        "id": "BFto-7CAYySl"
      }
    },
    {
      "cell_type": "markdown",
      "source": [
        "\n",
        "# **AdamW + Standard Scaler**"
      ],
      "metadata": {
        "id": "95qQXM3RD961"
      }
    },
    {
      "cell_type": "code",
      "source": [
        "# На третьей попытке мне надоело копировать код, единственное, что я поменяла , - это поставила печать потерь каждые 3 эпохи\n",
        "input_size = 90 #входной слой\n",
        "hidden_size_1 = 90 # размер скрытого слоя\n",
        "hidden_size_2 = 30\n",
        "hidden_size_3 = 30\n",
        "output_size = 1 # размер вызодного слоя\n",
        "batch_size = 256 # установлю значение по рекомендованным\n",
        "epochs = 50 #сколько раз мы прогоним нашу модель за все обучение\n",
        "learning_rate = 0.0001"
      ],
      "metadata": {
        "id": "sUWHQtfXEK0B"
      },
      "execution_count": null,
      "outputs": []
    },
    {
      "cell_type": "code",
      "source": [
        "torch.manual_seed(42)"
      ],
      "metadata": {
        "colab": {
          "base_uri": "https://localhost:8080/"
        },
        "id": "FTGosZTvENnm",
        "outputId": "c57dba5f-d8a6-4c8e-e737-8f0486c0a876"
      },
      "execution_count": null,
      "outputs": [
        {
          "output_type": "execute_result",
          "data": {
            "text/plain": [
              "<torch._C.Generator at 0x7af9522fba70>"
            ]
          },
          "metadata": {},
          "execution_count": 38
        }
      ]
    },
    {
      "cell_type": "code",
      "source": [
        "# функция для датасета (формирование батча данных)\n",
        "def create_data_loader(X_train, y_train, X_test, y_test): # данные табличные, поэтому берем x_train, t_test и превращаем в матрицу\n",
        "    train_tensor = data_utils.TensorDataset(torch.tensor(X_train.astype(np.float32)), torch.tensor(y_train))\n",
        "    train_loader = data_utils.DataLoader(dataset=train_tensor, # создает из датасета итератор\n",
        "                                         batch_size=batch_size,\n",
        "                                         shuffle=True)\n",
        "\n",
        "    test_tensor = data_utils.TensorDataset(torch.tensor(X_test.astype(np.float32)), torch.tensor(y_test))\n",
        "    test_loader = data_utils.DataLoader(dataset=test_tensor,\n",
        "                                        batch_size=batch_size,\n",
        "                                        shuffle=False)\n",
        "    return train_loader, test_loader"
      ],
      "metadata": {
        "id": "QSojU34yEQfO"
      },
      "execution_count": null,
      "outputs": []
    },
    {
      "cell_type": "code",
      "source": [
        "# Стандартизирую данные\n",
        "from sklearn.preprocessing import StandardScaler\n",
        "scaler = StandardScaler()\n",
        "X_train_scaled = scaler.fit_transform(X_train)\n",
        "X_test_scaled = scaler.transform(X_test)\n",
        "train_loader, test_loader = create_data_loader(X_train_scaled, y_train, X_test_scaled, y_test)"
      ],
      "metadata": {
        "id": "JAoFU8EPEKHU"
      },
      "execution_count": null,
      "outputs": []
    },
    {
      "cell_type": "code",
      "source": [
        "# Нормализация батча идет перед функцией активации\n",
        "class SonarModel8(nn.Module):\n",
        "    def __init__(self, input_size, hidden_size_1, hidden_size_2, hidden_size_3, output_size):\n",
        "        super().__init__()\n",
        "        self.layer1 = nn.Linear(in_features=input_size, out_features=hidden_size_1)\n",
        "        self.batchnorm1 = nn.BatchNorm1d(hidden_size_1)\n",
        "        self.act1 = nn.ReLU()\n",
        "        #self.dropout1 = nn.Dropout(0.2)\n",
        "        self.layer2 = nn.Linear(in_features=hidden_size_1, out_features=hidden_size_2)\n",
        "        self.batchnorm2 = nn.BatchNorm1d(hidden_size_2)\n",
        "        self.act2 = nn.ReLU()\n",
        "        #self.dropout2 = nn.Dropout(0.2)\n",
        "        self.layer3 = nn.Linear(in_features=hidden_size_2, out_features=hidden_size_3)\n",
        "        self.batchnorm3 = nn.BatchNorm1d(hidden_size_3)\n",
        "        self.act3 = nn.ReLU()\n",
        "        #self.dropout3 = nn.Dropout(0.2)\n",
        "        self.output = nn.Linear(in_features=hidden_size_3, out_features=output_size)\n",
        "\n",
        "    def forward(self, x):\n",
        "        x = self.act1(self.layer1(x))\n",
        "        x = self.batchnorm1(x)\n",
        "        #x = self.dropout1(x)\n",
        "        x = self.act2(self.layer2(x))\n",
        "        x = self.batchnorm2(x)\n",
        "        #x = self.dropout2(x)\n",
        "        x = self.act3(self.layer3(x))\n",
        "        x = self.batchnorm3(x)\n",
        "        #x = self.dropout3(x)\n",
        "        x = self.output(x)\n",
        "        return x"
      ],
      "metadata": {
        "id": "xR0mUnnnEdnb"
      },
      "execution_count": null,
      "outputs": []
    },
    {
      "cell_type": "code",
      "source": [
        "from tqdm import tqdm # добавлю для отображения прогресса, это будет гораздо удобнее, чем видеть пустоту и не понимать, что происходит\n",
        "def run_train(model, optimizer, criterion, train_loader, test_loader, epochs, scheduler=None):\n",
        "    train_loss_values = []\n",
        "    valid_loss_values = []\n",
        "\n",
        "    for epoch in range(epochs):\n",
        "        model.train()\n",
        "        running_loss = []\n",
        "\n",
        "        # Прогресс-бар\n",
        "        progress_bar = tqdm(train_loader, desc=f'Epoch {epoch + 1}/{epochs}', leave=False)\n",
        "\n",
        "        for features, label in progress_bar:\n",
        "            optimizer.zero_grad()\n",
        "\n",
        "            output = model(features)\n",
        "            label = label.float().unsqueeze(1)\n",
        "\n",
        "            loss = torch.sqrt(criterion(output, label))\n",
        "            loss.backward()\n",
        "\n",
        "            optimizer.step()\n",
        "\n",
        "            running_loss.append(loss.item())\n",
        "\n",
        "            # Обновление прогресс-бара\n",
        "            progress_bar.set_postfix(train_loss=np.mean(running_loss))\n",
        "\n",
        "        train_loss_values.append(np.mean(running_loss))\n",
        "\n",
        "        # Валидация\n",
        "        model.eval()\n",
        "        running_val_loss = []\n",
        "        with torch.no_grad():\n",
        "            for features, label in test_loader:\n",
        "                output = model(features)\n",
        "                label = label.float().unsqueeze(1)\n",
        "\n",
        "                loss = torch.sqrt(criterion(output, label))\n",
        "                running_val_loss.append(loss.item())\n",
        "\n",
        "        valid_loss_values.append(np.mean(running_val_loss))\n",
        "\n",
        "        # Обновление прогресс-бара с потерями\n",
        "        progress_bar.set_postfix(train_loss=train_loss_values[-1], valid_loss=valid_loss_values[-1])\n",
        "\n",
        "        # Печать потерь каждые 10 эпох\n",
        "        if (epoch + 1) % 5 == 0:\n",
        "            print(f'EPOCH {epoch + 1}, train_loss: {train_loss_values[-1]}, valid_loss: {valid_loss_values[-1]}')\n",
        "\n",
        "        if scheduler is not None:\n",
        "            scheduler.step()\n",
        "\n",
        "    return train_loss_values, valid_loss_values"
      ],
      "metadata": {
        "id": "tkJCK9IiZRVZ"
      },
      "execution_count": null,
      "outputs": []
    },
    {
      "cell_type": "code",
      "source": [
        "model8 = SonarModel8(input_size=input_size, hidden_size_1=hidden_size_1, hidden_size_2=hidden_size_2, hidden_size_3=hidden_size_3, output_size=output_size)  # Инициализируем модель\n",
        "optimizer = torch.optim.AdamW(model8.parameters(), lr=learning_rate)  # Оптимизатор AdamW\n",
        "criterion = nn.MSELoss()\n",
        "train_loss_values, valid_loss_values = run_train(model8, optimizer=optimizer, criterion=criterion, train_loader=train_loader, test_loader=test_loader, epochs=epochs)"
      ],
      "metadata": {
        "colab": {
          "base_uri": "https://localhost:8080/"
        },
        "id": "bi1vHfD9ZWV1",
        "outputId": "5fb7e53e-f9ed-4da4-c6a1-35f0a8f70540"
      },
      "execution_count": null,
      "outputs": [
        {
          "output_type": "stream",
          "name": "stderr",
          "text": []
        },
        {
          "output_type": "stream",
          "name": "stdout",
          "text": [
            "EPOCH 5, train_loss: 1964.3783484452608, valid_loss: 1957.535526691097\n"
          ]
        },
        {
          "output_type": "stream",
          "name": "stderr",
          "text": []
        },
        {
          "output_type": "stream",
          "name": "stdout",
          "text": [
            "EPOCH 10, train_loss: 1875.2092103937077, valid_loss: 1863.5643413279315\n"
          ]
        },
        {
          "output_type": "stream",
          "name": "stderr",
          "text": []
        },
        {
          "output_type": "stream",
          "name": "stdout",
          "text": [
            "EPOCH 15, train_loss: 1737.4971446864652, valid_loss: 1721.223822565362\n"
          ]
        },
        {
          "output_type": "stream",
          "name": "stderr",
          "text": []
        },
        {
          "output_type": "stream",
          "name": "stdout",
          "text": [
            "EPOCH 20, train_loss: 1553.3664223374121, valid_loss: 1532.6440357170482\n"
          ]
        },
        {
          "output_type": "stream",
          "name": "stderr",
          "text": []
        },
        {
          "output_type": "stream",
          "name": "stdout",
          "text": [
            "EPOCH 25, train_loss: 1324.6216607167494, valid_loss: 1299.4097163134281\n"
          ]
        },
        {
          "output_type": "stream",
          "name": "stderr",
          "text": []
        },
        {
          "output_type": "stream",
          "name": "stdout",
          "text": [
            "EPOCH 30, train_loss: 1052.4614925426627, valid_loss: 1023.0351595736967\n"
          ]
        },
        {
          "output_type": "stream",
          "name": "stderr",
          "text": []
        },
        {
          "output_type": "stream",
          "name": "stdout",
          "text": [
            "EPOCH 35, train_loss: 738.5609035534048, valid_loss: 705.0572494657913\n"
          ]
        },
        {
          "output_type": "stream",
          "name": "stderr",
          "text": []
        },
        {
          "output_type": "stream",
          "name": "stdout",
          "text": [
            "EPOCH 40, train_loss: 383.8784548525779, valid_loss: 346.4245208135926\n"
          ]
        },
        {
          "output_type": "stream",
          "name": "stderr",
          "text": []
        },
        {
          "output_type": "stream",
          "name": "stdout",
          "text": [
            "EPOCH 45, train_loss: 12.858777218307091, valid_loss: 8.613258000647667\n"
          ]
        },
        {
          "output_type": "stream",
          "name": "stderr",
          "text": []
        },
        {
          "output_type": "stream",
          "name": "stdout",
          "text": [
            "EPOCH 50, train_loss: 8.27896315688329, valid_loss: 8.566023902137681\n"
          ]
        }
      ]
    },
    {
      "cell_type": "code",
      "source": [
        "def plot(histories):\n",
        "  plt.figure(figsize=(16,10))\n",
        "  for name, val_loss in histories:\n",
        "    plt.plot(val_loss, label=name)\n",
        "  plt.legend()"
      ],
      "metadata": {
        "id": "bgzM2-BAZ19G"
      },
      "execution_count": null,
      "outputs": []
    },
    {
      "cell_type": "code",
      "source": [
        "plot([('AdamW, Standard Scaler, no dropout, lr = 0.0001, batch size = 256, epochs = 50', valid_loss_values)])"
      ],
      "metadata": {
        "colab": {
          "base_uri": "https://localhost:8080/",
          "height": 808
        },
        "id": "TRCddqb-Z_XV",
        "outputId": "7c063472-9dd1-490d-c398-170e41cf0db4"
      },
      "execution_count": null,
      "outputs": [
        {
          "output_type": "display_data",
          "data": {
            "text/plain": [
              "<Figure size 1600x1000 with 1 Axes>"
            ],
            "image/png": "[encoded data removed]"
          },
          "metadata": {}
        }
      ]
    },
    {
      "cell_type": "markdown",
      "source": [
        "\n",
        "# **Попытка №4**"
      ],
      "metadata": {
        "id": "4y1d9_sHD-zO"
      }
    },
    {
      "cell_type": "code",
      "source": [
        "# На третьей попытке мне надоело копировать код, единственное, что я поменяла , - это поставила печать потерь каждые 3 эпохи\n",
        "input_size = 90 #входной слой\n",
        "hidden_size = 120 # размер первого скрытого слоя\n",
        "#hidden_size_2 = 30 # размер второго скрытого слоя\n",
        "output_size = 1 # размер вызодного слоя\n",
        "batch_size = 256 # установлю значение по рекомендованным\n",
        "epochs = 100 #сколько раз мы прогоним нашу модель за все обучение\n",
        "learning_rate = 0.001"
      ],
      "metadata": {
        "id": "OG81YIj_EDUY"
      },
      "execution_count": null,
      "outputs": []
    },
    {
      "cell_type": "code",
      "source": [
        "torch.cuda.manual_seed(42)"
      ],
      "metadata": {
        "colab": {
          "base_uri": "https://localhost:8080/"
        },
        "id": "O-3AKlKaEq0o",
        "outputId": "50183472-dc37-401b-eecf-04ca32648186",
        "collapsed": true
      },
      "execution_count": null,
      "outputs": [
        {
          "output_type": "execute_result",
          "data": {
            "text/plain": [
              "<torch._C.Generator at 0x7904cc132930>"
            ]
          },
          "metadata": {},
          "execution_count": 70
        }
      ]
    },
    {
      "cell_type": "code",
      "source": [
        "class SonarModel9(nn.Module):\n",
        "    def __init__(self, input_size, hidden_size, output_size):\n",
        "        super().__init__()\n",
        "        self.layer1 = nn.Linear(in_features=input_size, out_features=hidden_size)\n",
        "        self.act1 = nn.ReLU()\n",
        "        #self.dropout1 = nn.Dropout(0.3)\n",
        "        self.layer2 = nn.Linear(in_features=hidden_size, out_features=hidden_size)\n",
        "        self.act2 = nn.ReLU()\n",
        "        #self.dropout2 = nn.Dropout(0.3)\n",
        "        self.output = nn.Linear(in_features=hidden_size, out_features=output_size)\n",
        "\n",
        "    def forward(self, x):\n",
        "        x = self.act1(self.layer1(x))\n",
        "        #x = self.dropout1(x)\n",
        "        x = self.act2(self.layer2(x))\n",
        "        #x = self.dropout2(x)\n",
        "        x = self.output(x)\n",
        "        return x"
      ],
      "metadata": {
        "id": "dFRX027hEFxp"
      },
      "execution_count": null,
      "outputs": []
    },
    {
      "cell_type": "code",
      "source": [
        "model9 = SonarModel9(input_size=input_size, hidden_size=hidden_size, output_size=output_size)  # Инициализируем модель\n",
        "optimizer = torch.optim.Adam(model9.parameters(), lr=learning_rate)  # Оптимизатор AdamW\n",
        "criterion = nn.MSELoss()\n",
        "train_loss_values, valid_loss_values = run_train(model9, optimizer=optimizer, criterion=criterion, train_loader=train_loader, test_loader=test_loader, epochs=epochs)"
      ],
      "metadata": {
        "colab": {
          "base_uri": "https://localhost:8080/"
        },
        "id": "dtQEJDWNENRU",
        "outputId": "a646bde1-28b7-4583-dc13-237f17befe1b"
      },
      "execution_count": null,
      "outputs": [
        {
          "output_type": "stream",
          "name": "stderr",
          "text": []
        },
        {
          "output_type": "stream",
          "name": "stdout",
          "text": [
            "EPOCH 5, train_loss: 12.359336445136838, valid_loss: 11.890467882156372\n"
          ]
        },
        {
          "output_type": "stream",
          "name": "stderr",
          "text": []
        },
        {
          "output_type": "stream",
          "name": "stdout",
          "text": [
            "EPOCH 10, train_loss: 11.776418078024657, valid_loss: 11.456705971519545\n"
          ]
        },
        {
          "output_type": "stream",
          "name": "stderr",
          "text": []
        },
        {
          "output_type": "stream",
          "name": "stdout",
          "text": [
            "EPOCH 15, train_loss: 11.600001643561896, valid_loss: 11.167472900730548\n"
          ]
        },
        {
          "output_type": "stream",
          "name": "stderr",
          "text": []
        },
        {
          "output_type": "stream",
          "name": "stdout",
          "text": [
            "EPOCH 20, train_loss: 11.46291029479593, valid_loss: 11.27454676486478\n"
          ]
        },
        {
          "output_type": "stream",
          "name": "stderr",
          "text": []
        },
        {
          "output_type": "stream",
          "name": "stdout",
          "text": [
            "EPOCH 25, train_loss: 11.3676858395667, valid_loss: 11.060478009799919\n"
          ]
        },
        {
          "output_type": "stream",
          "name": "stderr",
          "text": []
        },
        {
          "output_type": "stream",
          "name": "stdout",
          "text": [
            "EPOCH 30, train_loss: 11.303858397022777, valid_loss: 11.206769659967705\n"
          ]
        },
        {
          "output_type": "stream",
          "name": "stderr",
          "text": []
        },
        {
          "output_type": "stream",
          "name": "stdout",
          "text": [
            "EPOCH 35, train_loss: 11.215070781328821, valid_loss: 10.831117254672664\n"
          ]
        },
        {
          "output_type": "stream",
          "name": "stderr",
          "text": []
        },
        {
          "output_type": "stream",
          "name": "stdout",
          "text": [
            "EPOCH 40, train_loss: 11.149541435915376, valid_loss: 10.802777493354117\n"
          ]
        },
        {
          "output_type": "stream",
          "name": "stderr",
          "text": []
        },
        {
          "output_type": "stream",
          "name": "stdout",
          "text": [
            "EPOCH 45, train_loss: 11.087770957294152, valid_loss: 10.799289125027043\n"
          ]
        },
        {
          "output_type": "stream",
          "name": "stderr",
          "text": []
        },
        {
          "output_type": "stream",
          "name": "stdout",
          "text": [
            "EPOCH 50, train_loss: 11.036816601195346, valid_loss: 10.614874582479496\n"
          ]
        },
        {
          "output_type": "stream",
          "name": "stderr",
          "text": []
        },
        {
          "output_type": "stream",
          "name": "stdout",
          "text": [
            "EPOCH 55, train_loss: 10.977607782839677, valid_loss: 10.545459251592655\n"
          ]
        },
        {
          "output_type": "stream",
          "name": "stderr",
          "text": []
        },
        {
          "output_type": "stream",
          "name": "stdout",
          "text": [
            "EPOCH 60, train_loss: 10.879353212731301, valid_loss: 10.525435298976332\n"
          ]
        },
        {
          "output_type": "stream",
          "name": "stderr",
          "text": []
        },
        {
          "output_type": "stream",
          "name": "stdout",
          "text": [
            "EPOCH 65, train_loss: 10.761143424389905, valid_loss: 10.765599222466497\n"
          ]
        },
        {
          "output_type": "stream",
          "name": "stderr",
          "text": []
        },
        {
          "output_type": "stream",
          "name": "stdout",
          "text": [
            "EPOCH 70, train_loss: 10.682807783943664, valid_loss: 10.36858607046675\n"
          ]
        },
        {
          "output_type": "stream",
          "name": "stderr",
          "text": []
        },
        {
          "output_type": "stream",
          "name": "stdout",
          "text": [
            "EPOCH 75, train_loss: 10.610294686511127, valid_loss: 10.342503467408738\n"
          ]
        },
        {
          "output_type": "stream",
          "name": "stderr",
          "text": []
        },
        {
          "output_type": "stream",
          "name": "stdout",
          "text": [
            "EPOCH 80, train_loss: 10.558266312344449, valid_loss: 10.423401898676806\n"
          ]
        },
        {
          "output_type": "stream",
          "name": "stderr",
          "text": []
        },
        {
          "output_type": "stream",
          "name": "stdout",
          "text": [
            "EPOCH 85, train_loss: 10.48021882154031, valid_loss: 10.316679267600032\n"
          ]
        },
        {
          "output_type": "stream",
          "name": "stderr",
          "text": []
        },
        {
          "output_type": "stream",
          "name": "stdout",
          "text": [
            "EPOCH 90, train_loss: 10.448280762099799, valid_loss: 10.701326745571476\n"
          ]
        },
        {
          "output_type": "stream",
          "name": "stderr",
          "text": []
        },
        {
          "output_type": "stream",
          "name": "stdout",
          "text": [
            "EPOCH 95, train_loss: 10.359137522200612, valid_loss: 10.004674408695486\n"
          ]
        },
        {
          "output_type": "stream",
          "name": "stderr",
          "text": []
        },
        {
          "output_type": "stream",
          "name": "stdout",
          "text": [
            "EPOCH 100, train_loss: 10.301590940020732, valid_loss: 9.951478493095625\n"
          ]
        }
      ]
    },
    {
      "cell_type": "code",
      "source": [
        "def plot(histories):\n",
        "  plt.figure(figsize=(16,10))\n",
        "  for name, val_loss in histories:\n",
        "    plt.plot(val_loss, label=name)\n",
        "  plt.legend()"
      ],
      "metadata": {
        "id": "uqQNeeUrMmYJ"
      },
      "execution_count": null,
      "outputs": []
    },
    {
      "cell_type": "code",
      "source": [
        "plot([('Adam, scaled data: MinMax Scaler, no dropout, lr = 0.001, batch size = 256, epochs = 100', valid_loss_values)])"
      ],
      "metadata": {
        "colab": {
          "base_uri": "https://localhost:8080/",
          "height": 850
        },
        "id": "0PPR7P5fMpv5",
        "outputId": "3eff5d85-2077-47a9-9323-2e3a3d03e9ac"
      },
      "execution_count": null,
      "outputs": [
        {
          "output_type": "display_data",
          "data": {
            "text/plain": [
              "<Figure size 1600x1000 with 1 Axes>"
            ],
            "image/png": "[encoded data removed]"
          },
          "metadata": {}
        }
      ]
    },
    {
      "cell_type": "markdown",
      "source": [
        "\n",
        "# **Попытка 5**"
      ],
      "metadata": {
        "id": "q-jY7Ps6NouB"
      }
    },
    {
      "cell_type": "code",
      "source": [
        "# На третьей попытке мне надоело копировать код, единственное, что я поменяла , - это поставила печать потерь каждые 3 эпохи\n",
        "input_size = 90 #входной слой\n",
        "hidden_size_1 = 90\n",
        "hidden_size_2 = 30 # размер первого скрытого слоя\n",
        "hidden_size_3 = 30 # размер второго скрытого слоя\n",
        "output_size = 1 # размер вызодного слоя\n",
        "batch_size = 256 # установлю значение по рекомендованным\n",
        "epochs = 50 #сколько раз мы прогоним нашу модель за все обучение\n",
        "learning_rate = 0.0001"
      ],
      "metadata": {
        "id": "d5EvfCZoNsQ5"
      },
      "execution_count": null,
      "outputs": []
    },
    {
      "cell_type": "code",
      "source": [
        "torch.cuda.manual_seed(42)"
      ],
      "metadata": {
        "id": "79f5KV1fN99y"
      },
      "execution_count": null,
      "outputs": []
    },
    {
      "cell_type": "code",
      "source": [
        "from sklearn.preprocessing import MinMaxScaler\n",
        "import torch.nn as nn\n",
        "# Использую MinMaxScaler\n",
        "scaler = MinMaxScaler()\n",
        "# Масштабируем обучающую выборку\n",
        "X_train_scaled = scaler.fit_transform(X_train)\n",
        "# Масштабируем тестовую выборку (используя параметры, обученные на обучающей выборке)\n",
        "X_test_scaled = scaler.transform(X_test)"
      ],
      "metadata": {
        "id": "vSjqdrsgOEvS"
      },
      "execution_count": null,
      "outputs": []
    },
    {
      "cell_type": "code",
      "source": [
        "# В этот раз нормализую батч и опять поставлю dropout\n",
        "# Нормализация батча идет перед функцией активации\n",
        "class SonarModel10(nn.Module):\n",
        "    def __init__(self, input_size, hidden_size_1, hidden_size_2, hidden_size_3, output_size):\n",
        "        super().__init__()\n",
        "        self.layer1 = nn.Linear(in_features=input_size, out_features=hidden_size_1)\n",
        "        self.batchnorm1 = nn.BatchNorm1d(hidden_size_1)\n",
        "        self.act1 = nn.ReLU()\n",
        "        #self.dropout1 = nn.Dropout(0.2)\n",
        "        self.layer2 = nn.Linear(in_features=hidden_size_1, out_features=hidden_size_2)\n",
        "        self.batchnorm2 = nn.BatchNorm1d(hidden_size_2)\n",
        "        self.act2 = nn.ReLU()\n",
        "        #self.dropout2 = nn.Dropout(0.2)\n",
        "        self.layer3 = nn.Linear(in_features=hidden_size_2, out_features=hidden_size_3)\n",
        "        self.batchnorm3 = nn.BatchNorm1d(hidden_size_3)\n",
        "        self.act3 = nn.ReLU()\n",
        "        #self.dropout3 = nn.Dropout(0.2)\n",
        "        self.output = nn.Linear(in_features=hidden_size_3, out_features=output_size)\n",
        "\n",
        "    def forward(self, x):\n",
        "        x = self.act1(self.layer1(x))\n",
        "        x = self.batchnorm1(x)\n",
        "        #x = self.dropout1(x)\n",
        "        x = self.act2(self.layer2(x))\n",
        "        x = self.batchnorm2(x)\n",
        "        #x = self.dropout2(x)\n",
        "        x = self.act3(self.layer3(x))\n",
        "        x = self.batchnorm3(x)\n",
        "        #x = self.dropout3(x)\n",
        "        x = self.output(x)\n",
        "        return x"
      ],
      "metadata": {
        "id": "_K8aqQkDOJ7h"
      },
      "execution_count": null,
      "outputs": []
    },
    {
      "cell_type": "code",
      "source": [
        "model10 = SonarModel10(input_size=input_size, hidden_size_1=hidden_size_1, hidden_size_2=hidden_size_2, hidden_size_3=hidden_size_3, output_size=output_size)  # Инициализируем модель\n",
        "optimizer = torch.optim.AdamW(model10.parameters(), lr=learning_rate)  # Оптимизатор Adam\n",
        "criterion = nn.MSELoss()\n",
        "train_loss_values, valid_loss_values = run_train(model10, optimizer=optimizer, criterion=criterion, train_loader=train_loader, test_loader=test_loader, epochs=epochs)"
      ],
      "metadata": {
        "colab": {
          "base_uri": "https://localhost:8080/"
        },
        "id": "CXmz033IQt8-",
        "outputId": "15aaaf97-5776-4e42-81ef-b382c3ab0ac1"
      },
      "execution_count": null,
      "outputs": [
        {
          "output_type": "stream",
          "name": "stderr",
          "text": []
        },
        {
          "output_type": "stream",
          "name": "stdout",
          "text": [
            "EPOCH 5, train_loss: 1964.38690832277, valid_loss: 1957.6546086981746\n"
          ]
        },
        {
          "output_type": "stream",
          "name": "stderr",
          "text": []
        },
        {
          "output_type": "stream",
          "name": "stdout",
          "text": [
            "EPOCH 10, train_loss: 1875.2254051225339, valid_loss: 1863.829724000232\n"
          ]
        },
        {
          "output_type": "stream",
          "name": "stderr",
          "text": []
        },
        {
          "output_type": "stream",
          "name": "stdout",
          "text": [
            "EPOCH 15, train_loss: 1737.5204919137175, valid_loss: 1722.1096064501469\n"
          ]
        },
        {
          "output_type": "stream",
          "name": "stderr",
          "text": []
        },
        {
          "output_type": "stream",
          "name": "stdout",
          "text": [
            "EPOCH 20, train_loss: 1553.3964892928436, valid_loss: 1533.0563185285814\n"
          ]
        },
        {
          "output_type": "stream",
          "name": "stderr",
          "text": []
        },
        {
          "output_type": "stream",
          "name": "stdout",
          "text": [
            "EPOCH 25, train_loss: 1324.6585009576995, valid_loss: 1299.2745083346226\n"
          ]
        },
        {
          "output_type": "stream",
          "name": "stderr",
          "text": []
        },
        {
          "output_type": "stream",
          "name": "stdout",
          "text": [
            "EPOCH 30, train_loss: 1052.5052262531474, valid_loss: 1023.5137628234259\n"
          ]
        },
        {
          "output_type": "stream",
          "name": "stderr",
          "text": []
        },
        {
          "output_type": "stream",
          "name": "stdout",
          "text": [
            "EPOCH 35, train_loss: 738.6120104589736, valid_loss: 705.6946389982015\n"
          ]
        },
        {
          "output_type": "stream",
          "name": "stderr",
          "text": []
        },
        {
          "output_type": "stream",
          "name": "stdout",
          "text": [
            "EPOCH 40, train_loss: 383.940959905157, valid_loss: 346.6424303715772\n"
          ]
        },
        {
          "output_type": "stream",
          "name": "stderr",
          "text": []
        },
        {
          "output_type": "stream",
          "name": "stdout",
          "text": [
            "EPOCH 45, train_loss: 13.206846294287288, valid_loss: 9.04305370963446\n"
          ]
        },
        {
          "output_type": "stream",
          "name": "stderr",
          "text": []
        },
        {
          "output_type": "stream",
          "name": "stdout",
          "text": [
            "EPOCH 50, train_loss: 8.667202356898494, valid_loss: 8.59967595043749\n"
          ]
        }
      ]
    },
    {
      "cell_type": "code",
      "source": [
        "def plot(histories):\n",
        "  plt.figure(figsize=(16,10))\n",
        "  for name, val_loss in histories:\n",
        "    plt.plot(val_loss, label=name)\n",
        "  plt.legend()"
      ],
      "metadata": {
        "id": "spvMOmeHXufH"
      },
      "execution_count": null,
      "outputs": []
    },
    {
      "cell_type": "code",
      "source": [
        "plot([('Adam, scaled data: MinMax Scaler, no dropout, lr = 0.0001, batch size = 256, epochs = 50', valid_loss_values)])"
      ],
      "metadata": {
        "colab": {
          "base_uri": "https://localhost:8080/",
          "height": 808
        },
        "id": "9UF8YdgEX3DL",
        "outputId": "08068990-0d15-4ef5-ca0e-26bd3c4e9bb4"
      },
      "execution_count": null,
      "outputs": [
        {
          "output_type": "display_data",
          "data": {
            "text/plain": [
              "<Figure size 1600x1000 with 1 Axes>"
            ],
            "image/png": "[encoded data removed]"
          },
          "metadata": {}
        }
      ]
    },
    {
      "cell_type": "markdown",
      "metadata": {
        "id": "bine9EES6TIn"
      },
      "source": [
        "## Задание 2. (0 баллов, но при невыполнении максимум за все задание &mdash; 0 баллов)\n",
        "\n",
        "Напишите небольшой отчет о том, как вы добились полученного качества: какие средства использовали и какие эксперименты проводили. Подробно расскажите об архитектурах и значениях гиперпараметров, а также какие метрики на тесте они показывали. Чтобы отчет был зачтен, необходимо привести хотя бы 3 эксперимента."
      ]
    },
    {
      "cell_type": "markdown",
      "source": [
        "# **Краткий вывод:**\n",
        "Было сделано очень много попыток, начала путаться в собственной тетрадке, поэтому было принято решение удалить самые первые результаты.\n",
        "\n",
        "Из того что мне помогло - это нормализация батча, в некоторых случаях масштабирование не с помощью Standard Scaler, а с помощью MinMax, а также добавление промежуточного нейронного слоя, кроме того помогали гиперпараметры в оптимизаторе. В SGD (momentum, Nesterov), В Adam (betas, eps). Dropout, к сожалению, не сильно помог, скорее вызывал переобучение, поэтому часто я его просто комментила. Какие-то эксперименты провела на GPU, какие-то на CPU, надеюсь, это не сильно повлияет на результат. Не включила результат, но еще помогло послепенное снижение learning_rate, так как я могла проанализировать результаты и понять, какой шаг лучше выставить.\n",
        "\n",
        "# **Результат попытки №1**\n",
        "\n",
        "https://www.geeksforgeeks.org/how-to-choose-batch-size-and-number-of-epochs-when-fitting-a-model/\n",
        "\n",
        "В этой ссылке я смотрела про батчи, кол-во эпох. По умолчанию batch_size = 256.\n",
        "Кол-во эпох = 50.\n",
        "На geek рекомендуется протестировать несколько значений batch_size (например, 16, 32, 64, 128, 256).\n",
        "\n",
        "learning_rate = 0.001\n",
        "\n",
        "2 hidden_size скрытых слоя по 30.\n",
        "\n",
        "input_size = 90 (входной слой)\n",
        "\n",
        "output_size = 1 (выходной слой)\n",
        "\n",
        "epochs = 50\n",
        "\n",
        "Использование масштабировани данных - Standard Scaler.\n",
        "Использование нормализации батча.\n",
        "Функция активации - ReLU\n",
        "\n",
        "Оптимизатор - SGD (parameters: momentum=0.9, nesterov=True)\n",
        "\n",
        "Результат:\n",
        "EPOCH 50, train_loss: 8.564851976914648, valid_loss: 8.476096748125435"
      ],
      "metadata": {
        "id": "z0SBa9xAZQO0"
      }
    },
    {
      "cell_type": "markdown",
      "source": [
        "\n",
        "# **Результат попытки №1.1**\n",
        "\n",
        "input_size (входной слой) = 90\n",
        "\n",
        "hidden_size (скрытый слой) = 30\n",
        "\n",
        "hidden_size_2 (скрытый слой) = 30\n",
        "\n",
        "Два промежуточных нейронных слоя.\n",
        "\n",
        "output_size = 1\n",
        "\n",
        "batch_size = 256\n",
        "epochs = 55\n",
        "learning_rate = 0.1\n",
        "\n",
        "Масштабирование - Standard Scaler\n",
        "- имеется нормализация батча\n",
        "- добавлены dropout на 2 слоя. (dropout = 0.2)\n",
        "- Функция активации - ReLU\n",
        "\n",
        "optimizer - SGD(parameters:learning_rate)\n",
        "\n",
        "Результат: EPOCH 55, train_loss: 173.08589094048304, valid_loss: 14.974342454778085\n",
        "\n",
        "Модель переобучилась, как только закомментила drop_out результат был лучше.\n"
      ],
      "metadata": {
        "id": "C3sX0DYaPMyn"
      }
    },
    {
      "cell_type": "markdown",
      "source": [
        "\n",
        "# **Результат попытки №1.2**\n",
        "\n",
        "\n",
        "\n",
        "input_size = 90 #входной слой\n",
        "\n",
        "hidden_size = 30 # размер скрытого слоя\n",
        "\n",
        "hidden_size_2 = 30 # размер скрытого\n",
        "\n",
        "output size =1\n",
        "\n",
        "batch_size = 256 # размер матрицы, которая лежит в X\n",
        "\n",
        "epochs = 50 #сколько раз мы прогоним нашу модель за все обучение\n",
        "\n",
        "learning_rate = 0.001\n",
        "\n",
        "Масштабирование данных - MinMax Scaler\n",
        "Модель:\n",
        "\n",
        "- Нет dropout\n",
        "- нормализация батча\n",
        "- ReLU\n",
        "\n",
        "optimizer = SGD(parameters: learning_rate, momentum = 0.9, nesterov=True)\n",
        "Результат: EPOCH 50, train_loss: 8.859761294676504, valid_loss: 8.591843250954506\n"
      ],
      "metadata": {
        "id": "V0YfvktrKi9p"
      }
    },
    {
      "cell_type": "markdown",
      "source": [
        "\n",
        "# **Результат попытки №2**\n",
        "\n",
        "input_size (входной слой) = 90\n",
        "\n",
        "hidden_size (скрытый слой) = 45\n",
        "\n",
        "hidden_size_2 (скрытый слой) = 45\n",
        "\n",
        "Два промежуточных нейронных слоя.\n",
        "\n",
        "output_size = 1\n",
        "\n",
        "batch_size = 256\n",
        "epochs = 50\n",
        "learning_rate = 0.0001\n",
        "\n",
        "Масштабирование - Standard Scaler\n",
        "- имеется нормализация батча\n",
        "- нет dropout\n",
        "- Функция активации - ReLU\n",
        "\n",
        "optimizer - Adam(parameters:learning_rate, betas=(0.9, 0.999), eps=1e-08)\n",
        "\n",
        "\n",
        "Результат: EPOCH 50, train_loss: 8.567155282228988, valid_loss: 8.553186862775595"
      ],
      "metadata": {
        "id": "XfXRlS8mwRY7"
      }
    },
    {
      "cell_type": "markdown",
      "source": [
        "\n",
        "# **Результат попытки №2.1**\n",
        "\n",
        "input_size (входной слой) = 90\n",
        "\n",
        "hidden_size (скрытый слой) = 45\n",
        "\n",
        "hidden_size_2 (скрытый слой) = 45\n",
        "\n",
        "Два промежуточных нейронных слоя.\n",
        "\n",
        "output_size = 1\n",
        "\n",
        "batch_size = 256\n",
        "\n",
        " epochs = 50\n",
        "\n",
        "learning_rate = 0.0001\n",
        "\n",
        "Масштабирование - MinMax Scaler\n",
        "\n",
        "Модель:\n",
        "\n",
        "- имеется нормализация батча\n",
        "- нет dropout\n",
        "- Функция активации - ReLU\n",
        "- optimizer - Adam(parameters:learning_rate, betas=(0.9, 0.999), eps=1e-08)\n",
        "\n",
        "Результат: EPOCH 50, train_loss: 8.810142337618021, valid_loss: 8.63560423992648\n",
        "\n",
        "\n",
        "# **C dropout:**\n",
        "\n",
        "Все те же самые характристики, только теперь модель:\n",
        "\n",
        "имеется нормализация батча\n",
        "- dropout (0.2) на два слоя\n",
        "- Функция активации - ReLU\n",
        "- optimizer - Adam(parameters:learning_rate, eps=1e-08)\n",
        "\n",
        "Результат: EPOCH 50, train_loss: 148.4228360973973, valid_loss: 15.928611354072496\n",
        "\n",
        "Модель переобучилась."
      ],
      "metadata": {
        "id": "WL-L0ofqUQdx"
      }
    },
    {
      "cell_type": "markdown",
      "source": [
        "\n",
        "# **Результат попытки №3**"
      ],
      "metadata": {
        "id": "S9xo987fV1It"
      }
    },
    {
      "cell_type": "markdown",
      "source": [
        "input_size (входной слой) = 90\n",
        "\n",
        "hidden_size (скрытый слой) = 90\n",
        "\n",
        "hidden_size_2 (скрытый слой) = 30\n",
        "\n",
        "hidden_size_3 = 30\n",
        "\n",
        "Три промежуточных нейронных слоя.\n",
        "\n",
        "output_size = 1\n",
        "\n",
        "batch_size = 256\n",
        "\n",
        "epochs = 50\n",
        "\n",
        "learning_rate = 0.0001\n",
        "\n",
        "Масштабирование - MinMax Scaler\n",
        "\n",
        "Модель:\n",
        "\n",
        "- имеется нормализация батча\n",
        "- нет dropout\n",
        "- Функция активации - ReLU\n",
        "- optimizer - AdamW(parameters:learning_rate, betas=(0.9, 0.999), eps=1e-08)\n",
        "\n",
        "Результат: EPOCH 50, train_loss: 8.670765858612313, valid_loss: 8.566180104076272"
      ],
      "metadata": {
        "id": "z3eoMfdMW6Bc"
      }
    },
    {
      "cell_type": "markdown",
      "source": [
        "\n",
        "# **Результат попытки 3.1**\n",
        "\n",
        "input_size (входной слой) = 90\n",
        "\n",
        "hidden_size (скрытый слой) = 90\n",
        "\n",
        "hidden_size_2 (скрытый слой) = 30\n",
        "\n",
        "hidden_size_3 = 30\n",
        "\n",
        "Три промежуточных нейронных слоя.\n",
        "\n",
        "output_size = 1\n",
        "\n",
        "batch_size = 256\n",
        "\n",
        "epochs = 50\n",
        "\n",
        "learning_rate = 0.0001\n",
        "\n",
        "Масштабирование - Standard Scaler\n",
        "\n",
        "Модель:\n",
        "\n",
        "- имеется нормализация батча\n",
        "- нет dropout\n",
        "- Функция активации - ReLU\n",
        "\n",
        "optimizer - AdamW(parameters:learning_rate)\n",
        "\n",
        "Результат: EPOCH 50, train_loss: 8.27896315688329, valid_loss: 8.566023902137681\n",
        "\n"
      ],
      "metadata": {
        "id": "kvtvrbirXlHI"
      }
    },
    {
      "cell_type": "markdown",
      "source": [
        "\n",
        "# **Результат попытки №4**\n",
        "\n",
        "input_size = 90 #входной слой\n",
        "\n",
        "hidden_size = 120 # размер первого скрытого слоя\n",
        "\n",
        "output_size = 1 # размер вызодного слоя\n",
        "\n",
        "batch_size = 256 # установлю значение по рекомендованным\n",
        "\n",
        "epochs = 100 #сколько раз мы прогоним нашу модель за все обучение\n",
        "\n",
        "learning_rate = 0.001\n",
        "\n",
        "Масштабирование - MinMax Scaler\n",
        "\n",
        "Модель:\n",
        "\n",
        "- не имеется нормализация батча\n",
        "- нет dropout\n",
        "- Функция активации - ReLU\n",
        "\n",
        "optimizer - AdamW(parameters:learning_rate)\n",
        "\n",
        "Результат: EPOCH 100, train_loss: 10.301590940020732, valid_loss: 9.951478493095625"
      ],
      "metadata": {
        "id": "YSa3HDrgYNqO"
      }
    },
    {
      "cell_type": "markdown",
      "source": [
        "\n",
        "# **Результат попытки №5**\n",
        "\n",
        "\n",
        "\n",
        "input_size = 90 #входной слой\n",
        "\n",
        "hidden_size_1 = 90\n",
        "\n",
        "hidden_size_2 = 30 # размер первого скрытого слоя\n",
        "\n",
        "hidden_size_3 = 30 # размер второго скрытого слоя\n",
        "\n",
        "output_size = 1 # размер вызодного слоя\n",
        "\n",
        "batch_size = 256 # установлю значение по рекомендованным\n",
        "\n",
        "epochs = 50 #сколько раз мы прогоним нашу модель за все обучение\n",
        "\n",
        "learning_rate = 0.0001\n",
        "\n",
        "Масштабирование - MinMax Scaler\n",
        "\n",
        "Модель:\n",
        "\n",
        "- имеется нормализация батча\n",
        "- нет dropout\n",
        "- Функция активации - ReLU\n",
        "\n",
        "optimizer - AdamW(parameters:learning_rate)\n",
        "\n",
        "Результат: EPOCH 50, train_loss: 8.667202356898494, valid_loss: 8.59967595043749"
      ],
      "metadata": {
        "id": "ICxaoXDHt_nH"
      }
    }
  ],
  "metadata": {
    "colab": {
      "provenance": [],
      "gpuType": "T4"
    },
    "kernelspec": {
      "display_name": "Python 3",
      "name": "python3"
    },
    "language_info": {
      "codemirror_mode": {
        "name": "ipython",
        "version": 3
      },
      "file_extension": ".py",
      "mimetype": "text/x-python",
      "name": "python",
      "nbconvert_exporter": "python",
      "pygments_lexer": "ipython3",
      "version": "3.9.12"
    },
    "accelerator": "GPU"
  },
  "nbformat": 4,
  "nbformat_minor": 0
}